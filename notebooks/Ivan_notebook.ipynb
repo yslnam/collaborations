{
 "cells": [
  {
   "cell_type": "code",
   "execution_count": 3,
   "metadata": {},
   "outputs": [],
   "source": [
    "import pandas as pd\n",
    "import numpy as np\n",
    "import matplotlib.pyplot as plt\n",
    "\n",
    "%matplotlib inline"
   ]
  },
  {
   "cell_type": "code",
   "execution_count": 4,
   "metadata": {},
   "outputs": [],
   "source": [
    "housing_prices_df_raw = pd.read_csv('../src/data/train.csv')"
   ]
  },
  {
   "cell_type": "code",
   "execution_count": 5,
   "metadata": {},
   "outputs": [],
   "source": [
    "hdf = housing_prices_df_raw.copy()\n",
    "hdf = hdf.drop(columns = 'Id')"
   ]
  },
  {
   "cell_type": "markdown",
   "metadata": {},
   "source": [
    "# Feature Selection/Data Wragling"
   ]
  },
  {
   "cell_type": "code",
   "execution_count": 6,
   "metadata": {},
   "outputs": [],
   "source": [
    "# Feature list\n",
    "geo_feat = ['LotFrontage', 'LotArea', 'LotShape', 'LandContour', 'LandSlope', \n",
    "            'LotConfig']\n",
    "location_feat = ['MSZoning', 'Street', 'Alley', 'Neighborhood', 'Condition1',\n",
    "                'Condition2']\n",
    "house_feat = ['MSSubClass', 'BldgType', 'HouseStyle',                                   #Types\n",
    "              \n",
    "              'OverallQual', 'OverallCond',                                             #Quality(general)\n",
    "             \n",
    "              'RoofStyle', 'RoofMatl',                                                  #Roof \n",
    "              \n",
    "              'Exterior1st', 'Exterior2nd', 'ExterQual', 'ExterCond', 'Foundation',     #Material and cond\n",
    "              \n",
    "              'MasVnrType', 'MasVnrArea',                                               #Mansonry\n",
    "              \n",
    "              'BsmtCond', 'BsmtExposure', 'BsmtFinType1', 'BsmtFinSF1', 'BsmtQual',     #Basement variables\n",
    "              'BsmtFinSF2', 'BsmtUnfSF', 'TotalBsmtSF', 'BsmtFinType2', 'BsmtFullBath',\n",
    "              'BsmtHalfBath',\n",
    "\n",
    "              'Heating', 'HeatingQC', 'CentralAir',                                      #Heating/AC\n",
    "               \n",
    "              'Electrical', 'Utilities',                                                 #Energy\n",
    "               \n",
    "              '1stFlrSF', '2ndFlrSF', 'LowQualFinSF', 'GrLivArea',                       #Some house measures\n",
    "               \n",
    "               'FullBath', 'HalfBath', 'Bedroom', 'Kitchen', 'TotRmsAbvGrd',\n",
    "               'Fireplaces',\n",
    "               \n",
    "               'KitchenQual', 'FireplaceQu',\n",
    "               \n",
    "               'GarageType', 'GarageYrBlt', 'GarageFinish', 'GarageCars', 'GarageArea',  #Garage variables\n",
    "               'GarageQual', 'GarageCond', \n",
    "               \n",
    "               'Functional',\n",
    "               'PavedDrive',\n",
    "               'WoodDeckSF',\n",
    "              \n",
    "               'OpenPorchSF', 'EnclosedPorch', '3SsnPorch', 'ScreenPorch',               #Porch\n",
    "\n",
    "               'PoolArea', 'PoolQC',                                                     #Pool\n",
    "\n",
    "               'Fence', \n",
    "              \n",
    "               'MiscFeature', 'MiscVal']\n",
    "\n",
    "time_feat = ['MoSold', 'YrSold', 'YearBuilt', 'YearRemodAdd']             \n",
    "sale_feat = ['SaleType', 'SaleCondition']\n",
    "\n",
    "feat = geo_feat + location_feat + house_feat + time_feat + sale_feat"
   ]
  },
  {
   "cell_type": "code",
   "execution_count": 7,
   "metadata": {},
   "outputs": [
    {
     "name": "stdout",
     "output_type": "stream",
     "text": [
      "{'SalePrice', 'KitchenAbvGr', 'BedroomAbvGr'}\n"
     ]
    }
   ],
   "source": [
    "print(set(hdf.columns) - set(feat)) # 2 parameters are not described in the kaggle page. "
   ]
  },
  {
   "cell_type": "code",
   "execution_count": 8,
   "metadata": {},
   "outputs": [],
   "source": [
    "#LotShape?, BsmtExposure?\n",
    "ord_feat  = ['OverallQual', 'OverallCond', 'ExterQual', 'ExterCond', 'BsmtCond',\n",
    "             'BsmtFullBath','BsmtHalfBath', \n",
    "             \n",
    "             'FullBath', 'HalfBath', 'TotRmsAbvGrd', 'Fireplaces', #Is it?\n",
    "#              'Bedroom', 'Kitchen', #Not in dataframe??\n",
    "             \n",
    "             'KitchenQual', 'FireplaceQu', 'GarageCars', 'GarageQual', 'GarageCond',\n",
    "             'Functional', 'PoolQC', 'BsmtQual'\n",
    "             ]\n",
    "\n",
    "\n",
    "cat_feat  = ['LotShape', 'LandContour', 'LotConfig', 'MSZoning', 'Street', \n",
    "             'Alley', 'Neighborhood', 'Condition1', 'Condition2', 'MSSubClass', \n",
    "             'BldgType', 'HouseStyle', 'LandSlope', 'Exterior1st', 'Exterior2nd',\n",
    "             'Foundation', 'MasVnrType', 'BsmtExposure', 'BsmtFinType1','BsmtFinType2',\n",
    "             'Heating', 'HeatingQC', 'CentralAir', 'Electrical', 'Utilities',\n",
    "             'GarageType', 'GarageFinish', 'PavedDrive', 'Fence','MiscFeature',\n",
    "             'SaleType', 'SaleCondition', 'RoofStyle', 'RoofMatl'\n",
    "            ]\n",
    "\n",
    "\n",
    "cont_feat = ['LotFrontage', 'LotArea', 'MasVnrArea', 'BsmtFinSF1', 'BsmtFinSF2',\n",
    "             'BsmtUnfSF', 'TotalBsmtSF', '1stFlrSF', '2ndFlrSF', 'LowQualFinSF', \n",
    "             'GrLivArea', 'GarageYrBlt', 'GarageArea', 'WoodDeckSF', 'OpenPorchSF',\n",
    "             'EnclosedPorch', '3SsnPorch', 'ScreenPorch', 'PoolArea', 'MiscVal',\n",
    "             \n",
    "             'MoSold', 'YrSold', 'YearBuilt', 'YearRemodAdd' #?\n",
    "            ]\n"
   ]
  },
  {
   "cell_type": "markdown",
   "metadata": {},
   "source": [
    "# Removing some outliers"
   ]
  },
  {
   "cell_type": "code",
   "execution_count": 9,
   "metadata": {},
   "outputs": [
    {
     "data": {
      "image/png": "[encoded data removed]",
      "text/plain": [
       "<Figure size 432x288 with 1 Axes>"
      ]
     },
     "metadata": {
      "needs_background": "light"
     },
     "output_type": "display_data"
    }
   ],
   "source": [
    "hdf.plot(kind = 'scatter', x = 'GrLivArea', y = 'SalePrice')\n",
    "hdf = hdf[hdf['GrLivArea'] < 4000]"
   ]
  },
  {
   "cell_type": "markdown",
   "metadata": {},
   "source": [
    "The plot justifies the removal of hourses with 'GrLivArea' > 4000 (high leverage)."
   ]
  },
  {
   "cell_type": "code",
   "execution_count": 10,
   "metadata": {},
   "outputs": [
    {
     "data": {
      "image/png": "[encoded data removed]",
      "text/plain": [
       "<Figure size 432x288 with 1 Axes>"
      ]
     },
     "metadata": {
      "needs_background": "light"
     },
     "output_type": "display_data"
    }
   ],
   "source": [
    "hdf.plot(kind = 'scatter', x = 'LotArea', y = 'SalePrice')\n",
    "hdf = hdf.loc[hdf['LotArea'] < 100000,:]"
   ]
  },
  {
   "cell_type": "markdown",
   "metadata": {},
   "source": [
    "The plot justifies the removal of hourses with 'LotArea' > 100000 (high leverage)."
   ]
  },
  {
   "cell_type": "code",
   "execution_count": 11,
   "metadata": {},
   "outputs": [
    {
     "data": {
      "image/png": "[encoded data removed]",
      "text/plain": [
       "<Figure size 432x288 with 1 Axes>"
      ]
     },
     "metadata": {
      "needs_background": "light"
     },
     "output_type": "display_data"
    }
   ],
   "source": [
    "hdf.plot(kind = 'scatter', x = 'LotFrontage', y = 'SalePrice')\n",
    "hdf = hdf.loc[hdf['LotFrontage'] < 250, ]"
   ]
  },
  {
   "cell_type": "markdown",
   "metadata": {},
   "source": [
    "## Finding NA's"
   ]
  },
  {
   "cell_type": "code",
   "execution_count": 12,
   "metadata": {},
   "outputs": [
    {
     "data": {
      "text/plain": [
       "Alley           1109\n",
       "MasVnrType         6\n",
       "MasVnrArea         6\n",
       "BsmtQual          31\n",
       "BsmtCond          31\n",
       "BsmtExposure      32\n",
       "BsmtFinType1      31\n",
       "BsmtFinType2      32\n",
       "Electrical         1\n",
       "FireplaceQu      600\n",
       "GarageType        74\n",
       "GarageYrBlt       74\n",
       "GarageFinish      74\n",
       "GarageQual        74\n",
       "GarageCond        74\n",
       "PoolQC          1191\n",
       "Fence            968\n",
       "MiscFeature     1156\n",
       "dtype: int64"
      ]
     },
     "execution_count": 12,
     "metadata": {},
     "output_type": "execute_result"
    }
   ],
   "source": [
    "hdf.loc[:,hdf.isnull().sum() > 0]\n",
    "hdf.isnull().sum()[hdf.isnull().sum() > 0]"
   ]
  },
  {
   "cell_type": "code",
   "execution_count": 13,
   "metadata": {},
   "outputs": [
    {
     "data": {
      "text/plain": [
       "Alley           92.80\n",
       "MasVnrType       0.50\n",
       "MasVnrArea       0.50\n",
       "BsmtQual         2.59\n",
       "BsmtCond         2.59\n",
       "BsmtExposure     2.68\n",
       "BsmtFinType1     2.59\n",
       "BsmtFinType2     2.68\n",
       "Electrical       0.08\n",
       "FireplaceQu     50.21\n",
       "GarageType       6.19\n",
       "GarageYrBlt      6.19\n",
       "GarageFinish     6.19\n",
       "GarageQual       6.19\n",
       "GarageCond       6.19\n",
       "PoolQC          99.67\n",
       "Fence           81.00\n",
       "MiscFeature     96.74\n",
       "dtype: float64"
      ]
     },
     "execution_count": 13,
     "metadata": {},
     "output_type": "execute_result"
    }
   ],
   "source": [
    "# In percentage\n",
    "round(100*hdf.isnull().sum()[hdf.isnull().sum() > 0]/len(hdf), 2)"
   ]
  },
  {
   "cell_type": "code",
   "execution_count": 14,
   "metadata": {},
   "outputs": [],
   "source": [
    "hdf.loc[hdf['Fence'].isnull(),'Fence'] = 'NoFen'\n",
    "hdf.loc[hdf['PoolQC'].isnull(), 'PoolQC'] = 'NoPool'\n",
    "hdf.loc[hdf['FireplaceQu'].isnull(), 'FireplaceQu'] = 'NoFir'\n",
    "hdf.loc[hdf['Alley'].isnull(), 'Alley'] = 'NoAcc'\n",
    "\n",
    "for gar in ['GarageFinish', 'GarageQual', 'GarageCond', 'GarageType']:\n",
    "    hdf.loc[hdf[gar].isnull(), gar] = 'NoGar'\n",
    "\n",
    "# There should be a better way to do this\n",
    "hdf.loc[hdf['GarageYrBlt'].isnull(), 'GarageYrBlt'] = round(np.mean(hdf['GarageYrBlt'])) \n",
    "\n",
    "\n",
    "for bsmt in ['BsmtQual','BsmtCond','BsmtExposure','BsmtFinType1','BsmtFinType2']:\n",
    "    hdf.loc[hdf[bsmt].isnull(), bsmt] = 'NoBsmt'\n",
    "\n",
    "hdf = hdf.drop(columns = 'MiscFeature') # drop feature (since price of feature in miscval)\n",
    "cat_feat.remove('MiscFeature')\n",
    "house_feat.remove('MiscFeature')\n",
    "feat.remove('MiscFeature')"
   ]
  },
  {
   "cell_type": "code",
   "execution_count": 15,
   "metadata": {},
   "outputs": [
    {
     "data": {
      "text/plain": [
       "MasVnrType    0.50\n",
       "MasVnrArea    0.50\n",
       "Electrical    0.08\n",
       "dtype: float64"
      ]
     },
     "execution_count": 15,
     "metadata": {},
     "output_type": "execute_result"
    }
   ],
   "source": [
    "round(100*hdf.isnull().sum()[hdf.isnull().sum() > 0]/len(hdf), 2)"
   ]
  },
  {
   "cell_type": "markdown",
   "metadata": {},
   "source": [
    "We should input LotFrontage based on Lot area (a simple linear regression should be good). For now, I will just drop the column. The other nas I will remove the observation."
   ]
  },
  {
   "cell_type": "code",
   "execution_count": 16,
   "metadata": {},
   "outputs": [],
   "source": [
    "hdf = hdf.drop(columns = 'LotFrontage')\n",
    "hdf = hdf.drop(labels = hdf.loc[hdf['MasVnrType'].isnull(),:].index)\n",
    "hdf = hdf.drop(labels = hdf.loc[hdf['Electrical'].isnull(),:].index)"
   ]
  },
  {
   "cell_type": "code",
   "execution_count": 17,
   "metadata": {},
   "outputs": [
    {
     "data": {
      "text/plain": [
       "Series([], dtype: float64)"
      ]
     },
     "execution_count": 17,
     "metadata": {},
     "output_type": "execute_result"
    }
   ],
   "source": [
    "round(100*hdf.isnull().sum()[hdf.isnull().sum() > 0]/len(hdf), 2)"
   ]
  },
  {
   "cell_type": "markdown",
   "metadata": {},
   "source": [
    "# Initialize"
   ]
  },
  {
   "cell_type": "code",
   "execution_count": 18,
   "metadata": {},
   "outputs": [],
   "source": [
    "from sklearn.model_selection import train_test_split\n",
    "from sklearn.linear_model import LinearRegression\n",
    "from sklearn.feature_selection import VarianceThreshold\n",
    "\n",
    "from scipy import stats"
   ]
  },
  {
   "cell_type": "code",
   "execution_count": 19,
   "metadata": {},
   "outputs": [],
   "source": [
    "X = hdf.loc[:,'MSSubClass':'SaleCondition']\n",
    "X = pd.get_dummies(X, columns = cat_feat+ord_feat, drop_first=True)\n",
    "y = hdf.loc[:, 'SalePrice']"
   ]
  },
  {
   "cell_type": "code",
   "execution_count": 20,
   "metadata": {},
   "outputs": [],
   "source": [
    "np.random.seed(0)\n",
    "X_train, X_test, y_train, y_test = train_test_split(X, y)"
   ]
  },
  {
   "cell_type": "markdown",
   "metadata": {},
   "source": [
    "### We fit a simple linear model for 'GrLivArea' with Sale price in log"
   ]
  },
  {
   "cell_type": "code",
   "execution_count": 21,
   "metadata": {},
   "outputs": [
    {
     "data": {
      "text/plain": [
       "(array([ 87., 461., 337., 162.,  78.,  34.,  19.,   4.,   3.,   3.]),\n",
       " array([ 34900.,  93910., 152920., 211930., 270940., 329950., 388960.,\n",
       "        447970., 506980., 565990., 625000.]),\n",
       " <a list of 10 Patch objects>)"
      ]
     },
     "execution_count": 21,
     "metadata": {},
     "output_type": "execute_result"
    },
    {
     "data": {
      "image/png": "[encoded data removed]",
      "text/plain": [
       "<Figure size 432x288 with 1 Axes>"
      ]
     },
     "metadata": {
      "needs_background": "light"
     },
     "output_type": "display_data"
    }
   ],
   "source": [
    "plt.hist(y)"
   ]
  },
  {
   "cell_type": "code",
   "execution_count": 22,
   "metadata": {},
   "outputs": [
    {
     "data": {
      "text/plain": [
       "(array([  5.,   9.,  31., 127., 343., 319., 197., 110.,  38.,   9.]),\n",
       " array([10.46024211, 10.74876859, 11.03729507, 11.32582155, 11.61434804,\n",
       "        11.90287452, 12.191401  , 12.47992748, 12.76845396, 13.05698045,\n",
       "        13.34550693]),\n",
       " <a list of 10 Patch objects>)"
      ]
     },
     "execution_count": 22,
     "metadata": {},
     "output_type": "execute_result"
    },
    {
     "data": {
      "image/png": "[encoded data removed]",
      "text/plain": [
       "<Figure size 432x288 with 1 Axes>"
      ]
     },
     "metadata": {
      "needs_background": "light"
     },
     "output_type": "display_data"
    }
   ],
   "source": [
    "plt.hist(np.log(y))"
   ]
  },
  {
   "cell_type": "code",
   "execution_count": 23,
   "metadata": {},
   "outputs": [
    {
     "data": {
      "text/plain": [
       "LinearRegression(copy_X=True, fit_intercept=True, n_jobs=None, normalize=False)"
      ]
     },
     "execution_count": 23,
     "metadata": {},
     "output_type": "execute_result"
    }
   ],
   "source": [
    "slm_LivArea_log = LinearRegression()\n",
    "slm_LivArea_log.fit(X_train[['GrLivArea']], np.log(y_train))"
   ]
  },
  {
   "cell_type": "code",
   "execution_count": 24,
   "metadata": {},
   "outputs": [
    {
     "data": {
      "text/plain": [
       "[<matplotlib.lines.Line2D at 0x1a1c41cbd0>]"
      ]
     },
     "execution_count": 24,
     "metadata": {},
     "output_type": "execute_result"
    },
    {
     "data": {
      "image/png": "[encoded data removed]",
      "text/plain": [
       "<Figure size 432x288 with 1 Axes>"
      ]
     },
     "metadata": {
      "needs_background": "light"
     },
     "output_type": "display_data"
    }
   ],
   "source": [
    "plt.scatter(X_train[['GrLivArea']], np.log(y_train))\n",
    "plt.plot(X_train[['GrLivArea']], slm_LivArea_log.predict(X_train[['GrLivArea']]))"
   ]
  },
  {
   "cell_type": "code",
   "execution_count": 25,
   "metadata": {},
   "outputs": [
    {
     "data": {
      "text/plain": [
       "0.5162229277955448"
      ]
     },
     "execution_count": 25,
     "metadata": {},
     "output_type": "execute_result"
    }
   ],
   "source": [
    "slm_LivArea_log.score(X_test[['GrLivArea']], np.log(y_test))"
   ]
  },
  {
   "cell_type": "markdown",
   "metadata": {},
   "source": [
    "# Drop columns with low variance"
   ]
  },
  {
   "cell_type": "code",
   "execution_count": 26,
   "metadata": {},
   "outputs": [],
   "source": [
    "vr = []\n",
    "for col in X.columns:\n",
    "    vr.append((np.var(X[col]), col))"
   ]
  },
  {
   "cell_type": "code",
   "execution_count": 27,
   "metadata": {},
   "outputs": [],
   "source": [
    "X_LV = X.copy()\n",
    "X_LV = X_LV.drop(columns = list(map(lambda x: x[1], filter(lambda x: x[0] > .8*(1-.8), vr))))"
   ]
  },
  {
   "cell_type": "code",
   "execution_count": 28,
   "metadata": {},
   "outputs": [],
   "source": [
    "# Normalization\n",
    "for col in X_LV.columns:\n",
    "    X_LV[col] = (X_LV[col] - np.mean(X_LV[col]))/np.std(X_LV[col], ddof=1)"
   ]
  },
  {
   "cell_type": "markdown",
   "metadata": {},
   "source": [
    "# Lasso feature selection"
   ]
  },
  {
   "cell_type": "code",
   "execution_count": 29,
   "metadata": {},
   "outputs": [],
   "source": [
    "from sklearn.linear_model import Lasso"
   ]
  },
  {
   "cell_type": "code",
   "execution_count": 30,
   "metadata": {},
   "outputs": [],
   "source": [
    "# Normalization of the columns\n",
    "\n",
    "for col in X.columns:\n",
    "    X[col] = (X[col] - np.mean(X[col]))/np.std(X[col], ddof=1)"
   ]
  },
  {
   "cell_type": "code",
   "execution_count": 31,
   "metadata": {},
   "outputs": [],
   "source": [
    "lasso_lm = Lasso(max_iter=1e7, warm_start=True)"
   ]
  },
  {
   "cell_type": "code",
   "execution_count": 32,
   "metadata": {},
   "outputs": [],
   "source": [
    "lasso_coefs = []\n",
    "alphas      = np.logspace(-1, 5, 1000)"
   ]
  },
  {
   "cell_type": "code",
   "execution_count": 33,
   "metadata": {},
   "outputs": [],
   "source": [
    "for alpha in alphas:\n",
    "    lasso_lm.set_params(alpha = alpha).fit(X_LV, y)\n",
    "    lasso_coefs.append(lasso_lm.coef_)"
   ]
  },
  {
   "cell_type": "code",
   "execution_count": 34,
   "metadata": {},
   "outputs": [
    {
     "data": {
      "image/png": "[encoded data removed]",
      "text/plain": [
       "<Figure size 432x288 with 1 Axes>"
      ]
     },
     "metadata": {
      "needs_background": "light"
     },
     "output_type": "display_data"
    }
   ],
   "source": [
    "df_coef = pd.DataFrame(lasso_coefs, index=alphas, columns = X_LV.columns)\n",
    "title = 'Lasso coefficients as a function of the regularization'\n",
    "df_coef.plot(logx=True, title=title, legend = False)\n",
    "plt.xlabel('alpha')\n",
    "plt.ylabel('coefficients')\n",
    "plt.show()"
   ]
  },
  {
   "cell_type": "code",
   "execution_count": 35,
   "metadata": {},
   "outputs": [
    {
     "data": {
      "text/plain": [
       "<matplotlib.axes._subplots.AxesSubplot at 0x1a1c4a9b10>"
      ]
     },
     "execution_count": 35,
     "metadata": {},
     "output_type": "execute_result"
    },
    {
     "data": {
      "image/png": "[encoded data removed]",
      "text/plain": [
       "<Figure size 432x288 with 1 Axes>"
      ]
     },
     "metadata": {
      "needs_background": "light"
     },
     "output_type": "display_data"
    }
   ],
   "source": [
    "df_coef.iloc[:, np.random.choice(range(df_coef.shape[1]), size = 5, replace = False)].plot(logx=True, title=title)"
   ]
  },
  {
   "cell_type": "code",
   "execution_count": 36,
   "metadata": {},
   "outputs": [
    {
     "data": {
      "text/html": [
       "<div>\n",
       "<style scoped>\n",
       "    .dataframe tbody tr th:only-of-type {\n",
       "        vertical-align: middle;\n",
       "    }\n",
       "\n",
       "    .dataframe tbody tr th {\n",
       "        vertical-align: top;\n",
       "    }\n",
       "\n",
       "    .dataframe thead th {\n",
       "        text-align: right;\n",
       "    }\n",
       "</style>\n",
       "<table border=\"1\" class=\"dataframe\">\n",
       "  <thead>\n",
       "    <tr style=\"text-align: right;\">\n",
       "      <th></th>\n",
       "      <th>KitchenAbvGr</th>\n",
       "      <th>LotShape_IR2</th>\n",
       "      <th>LotShape_IR3</th>\n",
       "      <th>LandContour_HLS</th>\n",
       "      <th>LandContour_Low</th>\n",
       "      <th>LandContour_Lvl</th>\n",
       "      <th>LotConfig_CulDSac</th>\n",
       "      <th>LotConfig_FR2</th>\n",
       "      <th>LotConfig_FR3</th>\n",
       "      <th>MSZoning_FV</th>\n",
       "      <th>...</th>\n",
       "      <th>Functional_Maj2</th>\n",
       "      <th>Functional_Min1</th>\n",
       "      <th>Functional_Min2</th>\n",
       "      <th>Functional_Mod</th>\n",
       "      <th>Functional_Typ</th>\n",
       "      <th>PoolQC_Fa</th>\n",
       "      <th>PoolQC_Gd</th>\n",
       "      <th>PoolQC_NoPool</th>\n",
       "      <th>BsmtQual_Fa</th>\n",
       "      <th>BsmtQual_NoBsmt</th>\n",
       "    </tr>\n",
       "  </thead>\n",
       "  <tbody>\n",
       "    <tr>\n",
       "      <td>0.100000</td>\n",
       "      <td>-4826.826699</td>\n",
       "      <td>-58.530837</td>\n",
       "      <td>2266.979788</td>\n",
       "      <td>-685.444905</td>\n",
       "      <td>-1478.458839</td>\n",
       "      <td>1840.000117</td>\n",
       "      <td>5086.951360</td>\n",
       "      <td>-258.622986</td>\n",
       "      <td>-286.243351</td>\n",
       "      <td>2323.978219</td>\n",
       "      <td>...</td>\n",
       "      <td>-2185.956805</td>\n",
       "      <td>-678.023183</td>\n",
       "      <td>-416.542002</td>\n",
       "      <td>1353.536367</td>\n",
       "      <td>293.791517</td>\n",
       "      <td>-3031.794176</td>\n",
       "      <td>-1001.594800</td>\n",
       "      <td>-4072.822873</td>\n",
       "      <td>-135.483393</td>\n",
       "      <td>-0.047376</td>\n",
       "    </tr>\n",
       "    <tr>\n",
       "      <td>0.101393</td>\n",
       "      <td>-4826.814247</td>\n",
       "      <td>-58.508000</td>\n",
       "      <td>2266.980073</td>\n",
       "      <td>-685.442245</td>\n",
       "      <td>-1478.467160</td>\n",
       "      <td>1839.999773</td>\n",
       "      <td>5086.945765</td>\n",
       "      <td>-258.623621</td>\n",
       "      <td>-286.239437</td>\n",
       "      <td>2323.981821</td>\n",
       "      <td>...</td>\n",
       "      <td>-2185.951475</td>\n",
       "      <td>-678.028903</td>\n",
       "      <td>-416.543313</td>\n",
       "      <td>1353.540662</td>\n",
       "      <td>293.792771</td>\n",
       "      <td>-3031.775649</td>\n",
       "      <td>-1001.578553</td>\n",
       "      <td>-4072.789020</td>\n",
       "      <td>-135.482604</td>\n",
       "      <td>-0.000823</td>\n",
       "    </tr>\n",
       "    <tr>\n",
       "      <td>0.102804</td>\n",
       "      <td>-4826.801615</td>\n",
       "      <td>-58.484850</td>\n",
       "      <td>2266.980361</td>\n",
       "      <td>-685.439552</td>\n",
       "      <td>-1478.475592</td>\n",
       "      <td>1839.999420</td>\n",
       "      <td>5086.940097</td>\n",
       "      <td>-258.624265</td>\n",
       "      <td>-286.235465</td>\n",
       "      <td>2323.985474</td>\n",
       "      <td>...</td>\n",
       "      <td>-2185.946070</td>\n",
       "      <td>-678.034711</td>\n",
       "      <td>-416.544652</td>\n",
       "      <td>1353.545017</td>\n",
       "      <td>293.794035</td>\n",
       "      <td>-3031.756857</td>\n",
       "      <td>-1001.562079</td>\n",
       "      <td>-4072.754685</td>\n",
       "      <td>-135.481805</td>\n",
       "      <td>-0.000837</td>\n",
       "    </tr>\n",
       "    <tr>\n",
       "      <td>0.104236</td>\n",
       "      <td>-4826.788805</td>\n",
       "      <td>-58.461382</td>\n",
       "      <td>2266.980654</td>\n",
       "      <td>-685.436821</td>\n",
       "      <td>-1478.484139</td>\n",
       "      <td>1839.999062</td>\n",
       "      <td>5086.934350</td>\n",
       "      <td>-258.624918</td>\n",
       "      <td>-286.231438</td>\n",
       "      <td>2323.989176</td>\n",
       "      <td>...</td>\n",
       "      <td>-2185.940592</td>\n",
       "      <td>-678.040601</td>\n",
       "      <td>-416.546010</td>\n",
       "      <td>1353.549432</td>\n",
       "      <td>293.795316</td>\n",
       "      <td>-3031.737803</td>\n",
       "      <td>-1001.545376</td>\n",
       "      <td>-4072.719875</td>\n",
       "      <td>-135.480995</td>\n",
       "      <td>-0.000848</td>\n",
       "    </tr>\n",
       "    <tr>\n",
       "      <td>0.105688</td>\n",
       "      <td>-4826.775816</td>\n",
       "      <td>-58.437591</td>\n",
       "      <td>2266.980950</td>\n",
       "      <td>-685.434052</td>\n",
       "      <td>-1478.492803</td>\n",
       "      <td>1839.998700</td>\n",
       "      <td>5086.928524</td>\n",
       "      <td>-258.625580</td>\n",
       "      <td>-286.227356</td>\n",
       "      <td>2323.992929</td>\n",
       "      <td>...</td>\n",
       "      <td>-2185.935038</td>\n",
       "      <td>-678.046572</td>\n",
       "      <td>-416.547388</td>\n",
       "      <td>1353.553908</td>\n",
       "      <td>293.796614</td>\n",
       "      <td>-3031.718484</td>\n",
       "      <td>-1001.528441</td>\n",
       "      <td>-4072.684582</td>\n",
       "      <td>-135.480174</td>\n",
       "      <td>-0.000860</td>\n",
       "    </tr>\n",
       "    <tr>\n",
       "      <td>...</td>\n",
       "      <td>...</td>\n",
       "      <td>...</td>\n",
       "      <td>...</td>\n",
       "      <td>...</td>\n",
       "      <td>...</td>\n",
       "      <td>...</td>\n",
       "      <td>...</td>\n",
       "      <td>...</td>\n",
       "      <td>...</td>\n",
       "      <td>...</td>\n",
       "      <td>...</td>\n",
       "      <td>...</td>\n",
       "      <td>...</td>\n",
       "      <td>...</td>\n",
       "      <td>...</td>\n",
       "      <td>...</td>\n",
       "      <td>...</td>\n",
       "      <td>...</td>\n",
       "      <td>...</td>\n",
       "      <td>...</td>\n",
       "      <td>...</td>\n",
       "    </tr>\n",
       "    <tr>\n",
       "      <td>94618.481947</td>\n",
       "      <td>-0.000000</td>\n",
       "      <td>0.000000</td>\n",
       "      <td>0.000000</td>\n",
       "      <td>0.000000</td>\n",
       "      <td>0.000000</td>\n",
       "      <td>-0.000000</td>\n",
       "      <td>0.000000</td>\n",
       "      <td>-0.000000</td>\n",
       "      <td>0.000000</td>\n",
       "      <td>0.000000</td>\n",
       "      <td>...</td>\n",
       "      <td>-0.000000</td>\n",
       "      <td>-0.000000</td>\n",
       "      <td>-0.000000</td>\n",
       "      <td>-0.000000</td>\n",
       "      <td>0.000000</td>\n",
       "      <td>0.000000</td>\n",
       "      <td>-0.000000</td>\n",
       "      <td>-0.000000</td>\n",
       "      <td>-0.000000</td>\n",
       "      <td>-0.000000</td>\n",
       "    </tr>\n",
       "    <tr>\n",
       "      <td>95936.082871</td>\n",
       "      <td>-0.000000</td>\n",
       "      <td>0.000000</td>\n",
       "      <td>0.000000</td>\n",
       "      <td>0.000000</td>\n",
       "      <td>0.000000</td>\n",
       "      <td>-0.000000</td>\n",
       "      <td>0.000000</td>\n",
       "      <td>-0.000000</td>\n",
       "      <td>0.000000</td>\n",
       "      <td>0.000000</td>\n",
       "      <td>...</td>\n",
       "      <td>-0.000000</td>\n",
       "      <td>-0.000000</td>\n",
       "      <td>-0.000000</td>\n",
       "      <td>-0.000000</td>\n",
       "      <td>0.000000</td>\n",
       "      <td>0.000000</td>\n",
       "      <td>-0.000000</td>\n",
       "      <td>-0.000000</td>\n",
       "      <td>-0.000000</td>\n",
       "      <td>-0.000000</td>\n",
       "    </tr>\n",
       "    <tr>\n",
       "      <td>97272.031925</td>\n",
       "      <td>-0.000000</td>\n",
       "      <td>0.000000</td>\n",
       "      <td>0.000000</td>\n",
       "      <td>0.000000</td>\n",
       "      <td>0.000000</td>\n",
       "      <td>-0.000000</td>\n",
       "      <td>0.000000</td>\n",
       "      <td>-0.000000</td>\n",
       "      <td>0.000000</td>\n",
       "      <td>0.000000</td>\n",
       "      <td>...</td>\n",
       "      <td>-0.000000</td>\n",
       "      <td>-0.000000</td>\n",
       "      <td>-0.000000</td>\n",
       "      <td>-0.000000</td>\n",
       "      <td>0.000000</td>\n",
       "      <td>0.000000</td>\n",
       "      <td>-0.000000</td>\n",
       "      <td>-0.000000</td>\n",
       "      <td>-0.000000</td>\n",
       "      <td>-0.000000</td>\n",
       "    </tr>\n",
       "    <tr>\n",
       "      <td>98626.584613</td>\n",
       "      <td>-0.000000</td>\n",
       "      <td>0.000000</td>\n",
       "      <td>0.000000</td>\n",
       "      <td>0.000000</td>\n",
       "      <td>0.000000</td>\n",
       "      <td>-0.000000</td>\n",
       "      <td>0.000000</td>\n",
       "      <td>-0.000000</td>\n",
       "      <td>0.000000</td>\n",
       "      <td>0.000000</td>\n",
       "      <td>...</td>\n",
       "      <td>-0.000000</td>\n",
       "      <td>-0.000000</td>\n",
       "      <td>-0.000000</td>\n",
       "      <td>-0.000000</td>\n",
       "      <td>0.000000</td>\n",
       "      <td>0.000000</td>\n",
       "      <td>-0.000000</td>\n",
       "      <td>-0.000000</td>\n",
       "      <td>-0.000000</td>\n",
       "      <td>-0.000000</td>\n",
       "    </tr>\n",
       "    <tr>\n",
       "      <td>100000.000000</td>\n",
       "      <td>-0.000000</td>\n",
       "      <td>0.000000</td>\n",
       "      <td>0.000000</td>\n",
       "      <td>0.000000</td>\n",
       "      <td>0.000000</td>\n",
       "      <td>-0.000000</td>\n",
       "      <td>0.000000</td>\n",
       "      <td>-0.000000</td>\n",
       "      <td>0.000000</td>\n",
       "      <td>0.000000</td>\n",
       "      <td>...</td>\n",
       "      <td>-0.000000</td>\n",
       "      <td>-0.000000</td>\n",
       "      <td>-0.000000</td>\n",
       "      <td>-0.000000</td>\n",
       "      <td>0.000000</td>\n",
       "      <td>0.000000</td>\n",
       "      <td>-0.000000</td>\n",
       "      <td>-0.000000</td>\n",
       "      <td>-0.000000</td>\n",
       "      <td>-0.000000</td>\n",
       "    </tr>\n",
       "  </tbody>\n",
       "</table>\n",
       "<p>1000 rows × 229 columns</p>\n",
       "</div>"
      ],
      "text/plain": [
       "               KitchenAbvGr  LotShape_IR2  LotShape_IR3  LandContour_HLS  \\\n",
       "0.100000       -4826.826699    -58.530837   2266.979788      -685.444905   \n",
       "0.101393       -4826.814247    -58.508000   2266.980073      -685.442245   \n",
       "0.102804       -4826.801615    -58.484850   2266.980361      -685.439552   \n",
       "0.104236       -4826.788805    -58.461382   2266.980654      -685.436821   \n",
       "0.105688       -4826.775816    -58.437591   2266.980950      -685.434052   \n",
       "...                     ...           ...           ...              ...   \n",
       "94618.481947      -0.000000      0.000000      0.000000         0.000000   \n",
       "95936.082871      -0.000000      0.000000      0.000000         0.000000   \n",
       "97272.031925      -0.000000      0.000000      0.000000         0.000000   \n",
       "98626.584613      -0.000000      0.000000      0.000000         0.000000   \n",
       "100000.000000     -0.000000      0.000000      0.000000         0.000000   \n",
       "\n",
       "               LandContour_Low  LandContour_Lvl  LotConfig_CulDSac  \\\n",
       "0.100000          -1478.458839      1840.000117        5086.951360   \n",
       "0.101393          -1478.467160      1839.999773        5086.945765   \n",
       "0.102804          -1478.475592      1839.999420        5086.940097   \n",
       "0.104236          -1478.484139      1839.999062        5086.934350   \n",
       "0.105688          -1478.492803      1839.998700        5086.928524   \n",
       "...                        ...              ...                ...   \n",
       "94618.481947          0.000000        -0.000000           0.000000   \n",
       "95936.082871          0.000000        -0.000000           0.000000   \n",
       "97272.031925          0.000000        -0.000000           0.000000   \n",
       "98626.584613          0.000000        -0.000000           0.000000   \n",
       "100000.000000         0.000000        -0.000000           0.000000   \n",
       "\n",
       "               LotConfig_FR2  LotConfig_FR3  MSZoning_FV  ...  \\\n",
       "0.100000         -258.622986    -286.243351  2323.978219  ...   \n",
       "0.101393         -258.623621    -286.239437  2323.981821  ...   \n",
       "0.102804         -258.624265    -286.235465  2323.985474  ...   \n",
       "0.104236         -258.624918    -286.231438  2323.989176  ...   \n",
       "0.105688         -258.625580    -286.227356  2323.992929  ...   \n",
       "...                      ...            ...          ...  ...   \n",
       "94618.481947       -0.000000       0.000000     0.000000  ...   \n",
       "95936.082871       -0.000000       0.000000     0.000000  ...   \n",
       "97272.031925       -0.000000       0.000000     0.000000  ...   \n",
       "98626.584613       -0.000000       0.000000     0.000000  ...   \n",
       "100000.000000      -0.000000       0.000000     0.000000  ...   \n",
       "\n",
       "               Functional_Maj2  Functional_Min1  Functional_Min2  \\\n",
       "0.100000          -2185.956805      -678.023183      -416.542002   \n",
       "0.101393          -2185.951475      -678.028903      -416.543313   \n",
       "0.102804          -2185.946070      -678.034711      -416.544652   \n",
       "0.104236          -2185.940592      -678.040601      -416.546010   \n",
       "0.105688          -2185.935038      -678.046572      -416.547388   \n",
       "...                        ...              ...              ...   \n",
       "94618.481947         -0.000000        -0.000000        -0.000000   \n",
       "95936.082871         -0.000000        -0.000000        -0.000000   \n",
       "97272.031925         -0.000000        -0.000000        -0.000000   \n",
       "98626.584613         -0.000000        -0.000000        -0.000000   \n",
       "100000.000000        -0.000000        -0.000000        -0.000000   \n",
       "\n",
       "               Functional_Mod  Functional_Typ    PoolQC_Fa    PoolQC_Gd  \\\n",
       "0.100000          1353.536367      293.791517 -3031.794176 -1001.594800   \n",
       "0.101393          1353.540662      293.792771 -3031.775649 -1001.578553   \n",
       "0.102804          1353.545017      293.794035 -3031.756857 -1001.562079   \n",
       "0.104236          1353.549432      293.795316 -3031.737803 -1001.545376   \n",
       "0.105688          1353.553908      293.796614 -3031.718484 -1001.528441   \n",
       "...                       ...             ...          ...          ...   \n",
       "94618.481947        -0.000000        0.000000     0.000000    -0.000000   \n",
       "95936.082871        -0.000000        0.000000     0.000000    -0.000000   \n",
       "97272.031925        -0.000000        0.000000     0.000000    -0.000000   \n",
       "98626.584613        -0.000000        0.000000     0.000000    -0.000000   \n",
       "100000.000000       -0.000000        0.000000     0.000000    -0.000000   \n",
       "\n",
       "               PoolQC_NoPool  BsmtQual_Fa  BsmtQual_NoBsmt  \n",
       "0.100000        -4072.822873  -135.483393        -0.047376  \n",
       "0.101393        -4072.789020  -135.482604        -0.000823  \n",
       "0.102804        -4072.754685  -135.481805        -0.000837  \n",
       "0.104236        -4072.719875  -135.480995        -0.000848  \n",
       "0.105688        -4072.684582  -135.480174        -0.000860  \n",
       "...                      ...          ...              ...  \n",
       "94618.481947       -0.000000    -0.000000        -0.000000  \n",
       "95936.082871       -0.000000    -0.000000        -0.000000  \n",
       "97272.031925       -0.000000    -0.000000        -0.000000  \n",
       "98626.584613       -0.000000    -0.000000        -0.000000  \n",
       "100000.000000      -0.000000    -0.000000        -0.000000  \n",
       "\n",
       "[1000 rows x 229 columns]"
      ]
     },
     "execution_count": 36,
     "metadata": {},
     "output_type": "execute_result"
    }
   ],
   "source": [
    "df_coef"
   ]
  },
  {
   "cell_type": "code",
   "execution_count": null,
   "metadata": {},
   "outputs": [],
   "source": []
  }
 ],
 "metadata": {
  "kernelspec": {
   "display_name": "Python 3",
   "language": "python",
   "name": "python3"
  },
  "language_info": {
   "codemirror_mode": {
    "name": "ipython",
    "version": 3
   },
   "file_extension": ".py",
   "mimetype": "text/x-python",
   "name": "python",
   "nbconvert_exporter": "python",
   "pygments_lexer": "ipython3",
   "version": "3.7.4"
  }
 },
 "nbformat": 4,
 "nbformat_minor": 2
}
