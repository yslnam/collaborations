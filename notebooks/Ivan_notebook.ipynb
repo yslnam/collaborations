{
 "cells": [
  {
   "cell_type": "code",
   "execution_count": 1,
   "metadata": {
    "colab": {},
    "colab_type": "code",
    "id": "atzE4AbYUTB4"
   },
   "outputs": [],
   "source": [
    "import pandas as pd\n",
    "import numpy as np\n",
    "import matplotlib.pyplot as plt\n",
    "\n",
    "%matplotlib inline"
   ]
  },
  {
   "cell_type": "code",
   "execution_count": 2,
   "metadata": {
    "colab": {},
    "colab_type": "code",
    "id": "mJ2sRgjVa_sF"
   },
   "outputs": [],
   "source": [
    "housing_prices_df_raw = pd.read_csv('../src/data/train.csv')\n",
    "test_housing_prices_df_raw = pd.read_csv('../src/data/test.csv')"
   ]
  },
  {
   "cell_type": "code",
   "execution_count": 3,
   "metadata": {
    "colab": {},
    "colab_type": "code",
    "id": "9h2PVzzZUTB_"
   },
   "outputs": [],
   "source": [
    "train_hdf = housing_prices_df_raw.copy()\n",
    "test_hdf = test_housing_prices_df_raw.copy()\n",
    "hdf = pd.concat([train_hdf, test_hdf], axis = 0, sort = False)"
   ]
  },
  {
   "cell_type": "markdown",
   "metadata": {
    "colab_type": "text",
    "id": "nlLR7tFBUTCC"
   },
   "source": [
    "# Feature Selection/Data Wragling"
   ]
  },
  {
   "cell_type": "code",
   "execution_count": 4,
   "metadata": {
    "colab": {},
    "colab_type": "code",
    "id": "bIQ_mED8UTCD"
   },
   "outputs": [],
   "source": [
    "# Feature list\n",
    "geo_feat = ['LotFrontage', 'LotArea', 'LotShape', 'LandContour', 'LandSlope', \n",
    "            'LotConfig']\n",
    "location_feat = ['MSZoning', 'Street', 'Alley', 'Neighborhood', 'Condition1',\n",
    "                'Condition2']\n",
    "house_feat = set(['MSSubClass', 'BldgType', 'HouseStyle',                                   #Types\n",
    "\n",
    "              'OverallQual', 'OverallCond',                                             #Quality(general)\n",
    "\n",
    "              'RoofStyle', 'RoofMatl',                                                  #Roof \n",
    "\n",
    "              'Exterior1st', 'Exterior2nd', 'ExterQual', 'ExterCond', 'Foundation',     #Material and cond\n",
    "\n",
    "              'MasVnrType', 'MasVnrArea',                                               #Mansonry\n",
    "\n",
    "              'BsmtCond', 'BsmtExposure', 'BsmtFinType1', 'BsmtFinSF1', 'BsmtQual',     #Basement variables\n",
    "              'BsmtFinSF2', 'BsmtUnfSF', 'TotalBsmtSF', 'BsmtFinType2', 'BsmtFullBath',\n",
    "              'BsmtHalfBath',\n",
    "\n",
    "              'Heating', 'HeatingQC', 'CentralAir',                                      #Heating/AC\n",
    "               \n",
    "              'Electrical', 'Utilities',                                                 #Energy\n",
    "               \n",
    "              '1stFlrSF', '2ndFlrSF', 'LowQualFinSF', 'GrLivArea',                       #Some house measures\n",
    "               \n",
    "               'FullBath', 'HalfBath', 'Bedroom', 'Kitchen', 'TotRmsAbvGrd',\n",
    "               'Fireplaces',\n",
    "               \n",
    "               'KitchenQual', 'FireplaceQu',\n",
    "               \n",
    "               'GarageType', 'GarageYrBlt', 'GarageFinish', 'GarageCars', 'GarageArea',  #Garage variables\n",
    "               'GarageQual', 'GarageCond', \n",
    "               \n",
    "               'Functional',\n",
    "               'PavedDrive',\n",
    "               'WoodDeckSF',\n",
    "              \n",
    "               'OpenPorchSF', 'EnclosedPorch', '3SsnPorch', 'ScreenPorch',               #Porch\n",
    "\n",
    "               'PoolArea', 'PoolQC',                                                     #Pool\n",
    "\n",
    "               'Fence', \n",
    "              \n",
    "               'MiscFeature', 'MiscVal'])\n",
    "\n",
    "time_feat = ['MoSold', 'YrSold', 'YearBuilt', 'YearRemodAdd']             \n",
    "sale_feat = ['SaleType', 'SaleCondition']\n",
    "\n",
    "# feat = set(geo_feat + location_feat + house_feat + time_feat + sale_feat)"
   ]
  },
  {
   "cell_type": "code",
   "execution_count": 5,
   "metadata": {
    "colab": {},
    "colab_type": "code",
    "id": "v0r9v-A_UTCJ"
   },
   "outputs": [],
   "source": [
    "#LotShape?, BsmtExposure?\n",
    "ord_feat  = set(['OverallQual', 'OverallCond', 'ExterQual', 'ExterCond', 'BsmtCond',\n",
    "             'BsmtFullBath','BsmtHalfBath', \n",
    "             \n",
    "             'FullBath', 'HalfBath', 'TotRmsAbvGrd', 'Fireplaces', #Is it?\n",
    "#              'Bedroom', 'Kitchen', #Not in dataframe??\n",
    "    \n",
    "             'KitchenQual', 'FireplaceQu', 'GarageCars', 'GarageQual', 'GarageCond',\n",
    "             'Functional', 'PoolQC', 'BsmtQual'\n",
    "             ])\n",
    "\n",
    "\n",
    "cat_feat  = set(['LotShape', 'LandContour', 'LotConfig', 'MSZoning', 'Street', \n",
    "             'Alley', 'Neighborhood', 'Condition1', 'Condition2', 'MSSubClass', \n",
    "             'BldgType', 'HouseStyle', 'LandSlope', 'Exterior1st', 'Exterior2nd',\n",
    "             'Foundation', 'MasVnrType', 'BsmtExposure', 'BsmtFinType1','BsmtFinType2',\n",
    "             'Heating', 'HeatingQC', 'CentralAir', 'Electrical', 'Utilities',\n",
    "             'GarageType', 'GarageFinish', 'PavedDrive', 'Fence','MiscFeature',\n",
    "             'SaleType', 'SaleCondition', 'RoofStyle', 'RoofMatl'\n",
    "            ])\n",
    "\n",
    "\n",
    "cont_feat = set(['LotFrontage', 'LotArea', 'MasVnrArea', 'BsmtFinSF1', 'BsmtFinSF2',\n",
    "             'BsmtUnfSF', 'TotalBsmtSF', '1stFlrSF', '2ndFlrSF', 'LowQualFinSF', \n",
    "             'GrLivArea', 'GarageYrBlt', 'GarageArea', 'WoodDeckSF', 'OpenPorchSF',\n",
    "             'EnclosedPorch', '3SsnPorch', 'ScreenPorch', 'PoolArea', 'MiscVal',\n",
    "             \n",
    "             'MoSold', 'YrSold', 'YearBuilt', 'YearRemodAdd' #?\n",
    "            ])\n"
   ]
  },
  {
   "cell_type": "markdown",
   "metadata": {
    "colab_type": "text",
    "id": "9AMJd1yuUTCW"
   },
   "source": [
    "## Finding NA's"
   ]
  },
  {
   "cell_type": "code",
   "execution_count": 6,
   "metadata": {
    "colab": {
     "base_uri": "https://localhost:8080/",
     "height": 340
    },
    "colab_type": "code",
    "executionInfo": {
     "elapsed": 392,
     "status": "ok",
     "timestamp": 1582468844956,
     "user": {
      "displayName": "Ivan Passoni",
      "photoUrl": "https://lh3.googleusercontent.com/a-/AAuE7mCHiiM7ZGaeo_O1-PlJS1x888RZkgkMZqn_hJGXWQ=s64",
      "userId": "10149849310241908499"
     },
     "user_tz": 300
    },
    "id": "IChUNj9EUTCX",
    "outputId": "ab2e4cac-8559-44ee-995e-79b7de5734f7"
   },
   "outputs": [
    {
     "data": {
      "text/plain": [
       "MSZoning           4\n",
       "LotFrontage      486\n",
       "Alley           2721\n",
       "Utilities          2\n",
       "Exterior1st        1\n",
       "Exterior2nd        1\n",
       "MasVnrType        24\n",
       "MasVnrArea        23\n",
       "BsmtQual          81\n",
       "BsmtCond          82\n",
       "BsmtExposure      82\n",
       "BsmtFinType1      79\n",
       "BsmtFinSF1         1\n",
       "BsmtFinType2      80\n",
       "BsmtFinSF2         1\n",
       "BsmtUnfSF          1\n",
       "TotalBsmtSF        1\n",
       "Electrical         1\n",
       "BsmtFullBath       2\n",
       "BsmtHalfBath       2\n",
       "KitchenQual        1\n",
       "Functional         2\n",
       "FireplaceQu     1420\n",
       "GarageType       157\n",
       "GarageYrBlt      159\n",
       "GarageFinish     159\n",
       "GarageCars         1\n",
       "GarageArea         1\n",
       "GarageQual       159\n",
       "GarageCond       159\n",
       "PoolQC          2909\n",
       "Fence           2348\n",
       "MiscFeature     2814\n",
       "SaleType           1\n",
       "SalePrice       1459\n",
       "dtype: int64"
      ]
     },
     "execution_count": 6,
     "metadata": {},
     "output_type": "execute_result"
    }
   ],
   "source": [
    "hdf.loc[:,hdf.isnull().sum() > 0]\n",
    "hdf.isnull().sum()[hdf.isnull().sum() > 0]"
   ]
  },
  {
   "cell_type": "code",
   "execution_count": 7,
   "metadata": {
    "colab": {
     "base_uri": "https://localhost:8080/",
     "height": 357
    },
    "colab_type": "code",
    "executionInfo": {
     "elapsed": 660,
     "status": "ok",
     "timestamp": 1582468845235,
     "user": {
      "displayName": "Ivan Passoni",
      "photoUrl": "https://lh3.googleusercontent.com/a-/AAuE7mCHiiM7ZGaeo_O1-PlJS1x888RZkgkMZqn_hJGXWQ=s64",
      "userId": "10149849310241908499"
     },
     "user_tz": 300
    },
    "id": "5uxIy0rKUTCZ",
    "outputId": "10234db7-db12-4a55-de74-215571b95c5e"
   },
   "outputs": [
    {
     "name": "stdout",
     "output_type": "stream",
     "text": [
      "(2919, 81)\n"
     ]
    },
    {
     "data": {
      "text/plain": [
       "MSZoning         0.14\n",
       "LotFrontage     16.65\n",
       "Alley           93.22\n",
       "Utilities        0.07\n",
       "Exterior1st      0.03\n",
       "Exterior2nd      0.03\n",
       "MasVnrType       0.82\n",
       "MasVnrArea       0.79\n",
       "BsmtQual         2.77\n",
       "BsmtCond         2.81\n",
       "BsmtExposure     2.81\n",
       "BsmtFinType1     2.71\n",
       "BsmtFinSF1       0.03\n",
       "BsmtFinType2     2.74\n",
       "BsmtFinSF2       0.03\n",
       "BsmtUnfSF        0.03\n",
       "TotalBsmtSF      0.03\n",
       "Electrical       0.03\n",
       "BsmtFullBath     0.07\n",
       "BsmtHalfBath     0.07\n",
       "KitchenQual      0.03\n",
       "Functional       0.07\n",
       "FireplaceQu     48.65\n",
       "GarageType       5.38\n",
       "GarageYrBlt      5.45\n",
       "GarageFinish     5.45\n",
       "GarageCars       0.03\n",
       "GarageArea       0.03\n",
       "GarageQual       5.45\n",
       "GarageCond       5.45\n",
       "PoolQC          99.66\n",
       "Fence           80.44\n",
       "MiscFeature     96.40\n",
       "SaleType         0.03\n",
       "SalePrice       49.98\n",
       "dtype: float64"
      ]
     },
     "execution_count": 7,
     "metadata": {},
     "output_type": "execute_result"
    }
   ],
   "source": [
    "# In percentage\n",
    "print(hdf.shape)\n",
    "round(100*hdf.isnull().sum()[hdf.isnull().sum() > 0]/len(hdf), 2)"
   ]
  },
  {
   "cell_type": "code",
   "execution_count": 8,
   "metadata": {
    "colab": {
     "base_uri": "https://localhost:8080/",
     "height": 119
    },
    "colab_type": "code",
    "executionInfo": {
     "elapsed": 777,
     "status": "ok",
     "timestamp": 1582468845363,
     "user": {
      "displayName": "Ivan Passoni",
      "photoUrl": "https://lh3.googleusercontent.com/a-/AAuE7mCHiiM7ZGaeo_O1-PlJS1x888RZkgkMZqn_hJGXWQ=s64",
      "userId": "10149849310241908499"
     },
     "user_tz": 300
    },
    "id": "xK3phWGaUTCb",
    "outputId": "6958b207-8db0-41d7-fea8-d8dfb4e50988"
   },
   "outputs": [],
   "source": [
    "hdf.loc[hdf['Fence'].isnull(),'Fence'] = 'NoFen'\n",
    "# hdf.loc[hdf['PoolQC'].isnull(), 'PoolQC'] = 'NoPool'\n",
    "hdf.loc[hdf['FireplaceQu'].isnull(), 'FireplaceQu'] = 'NoFir'\n",
    "hdf.loc[hdf['Alley'].isnull(), 'Alley'] = 'NoAcc'"
   ]
  },
  {
   "cell_type": "code",
   "execution_count": 9,
   "metadata": {
    "colab": {
     "base_uri": "https://localhost:8080/",
     "height": 119
    },
    "colab_type": "code",
    "executionInfo": {
     "elapsed": 769,
     "status": "ok",
     "timestamp": 1582468845364,
     "user": {
      "displayName": "Ivan Passoni",
      "photoUrl": "https://lh3.googleusercontent.com/a-/AAuE7mCHiiM7ZGaeo_O1-PlJS1x888RZkgkMZqn_hJGXWQ=s64",
      "userId": "10149849310241908499"
     },
     "user_tz": 300
    },
    "id": "PUhG2p7xUTCf",
    "outputId": "0cdd96db-327d-4f4a-9d35-e66b76f1d77c"
   },
   "outputs": [],
   "source": [
    "from scipy import stats\n",
    "for gar in ['GarageFinish', 'GarageQual', 'GarageCond', 'GarageType']:\n",
    "    hdf.loc[hdf[gar].isnull(), gar] = 'NoGar'\n",
    "\n",
    "# There should be a better way to do this\n",
    "hdf.loc[hdf['GarageYrBlt'].isnull(), 'GarageYrBlt'] = round(np.mean(hdf['GarageYrBlt']))\n",
    "\n",
    "\n",
    "for bsmt in ['BsmtQual','BsmtCond','BsmtExposure','BsmtFinType1','BsmtFinType2']:\n",
    "    hdf.loc[hdf[bsmt].isnull(), bsmt] = 'NoBsmt'\n",
    "\n"
   ]
  },
  {
   "cell_type": "code",
   "execution_count": 10,
   "metadata": {},
   "outputs": [],
   "source": [
    "for col in set(hdf.columns) - {'SalePrice'}:\n",
    "    if hdf[col].dtype == 'object':\n",
    "        hdf[col] = hdf[col].fillna(stats.mode(hdf[col]).mode[0])\n",
    "    else:\n",
    "        hdf[col] = hdf[col].fillna(np.median(hdf.loc[~hdf[col].isnull(), col]))"
   ]
  },
  {
   "cell_type": "code",
   "execution_count": 11,
   "metadata": {
    "colab": {
     "base_uri": "https://localhost:8080/",
     "height": 85
    },
    "colab_type": "code",
    "executionInfo": {
     "elapsed": 605,
     "status": "ok",
     "timestamp": 1582468845364,
     "user": {
      "displayName": "Ivan Passoni",
      "photoUrl": "https://lh3.googleusercontent.com/a-/AAuE7mCHiiM7ZGaeo_O1-PlJS1x888RZkgkMZqn_hJGXWQ=s64",
      "userId": "10149849310241908499"
     },
     "user_tz": 300
    },
    "id": "RZSc6H4QUTCi",
    "outputId": "5dc06491-0e7b-4b14-f4c0-e0f7fdefbc68"
   },
   "outputs": [
    {
     "data": {
      "text/plain": [
       "SalePrice    49.98\n",
       "dtype: float64"
      ]
     },
     "execution_count": 11,
     "metadata": {},
     "output_type": "execute_result"
    }
   ],
   "source": [
    "round(100*hdf.isnull().sum()[hdf.isnull().sum() > 0]/len(hdf), 2)"
   ]
  },
  {
   "cell_type": "code",
   "execution_count": 12,
   "metadata": {},
   "outputs": [],
   "source": [
    "hdf['remodeled'] = pd.Series(['Yes' if a > 0 else 'No' for a in (hdf['YearRemodAdd'] - hdf['YearBuilt'])])"
   ]
  },
  {
   "cell_type": "code",
   "execution_count": 13,
   "metadata": {},
   "outputs": [],
   "source": [
    "hdf['TotalPorchAreasSF'] = hdf['OpenPorchSF'] + hdf['EnclosedPorch'] + hdf['3SsnPorch'] + hdf['ScreenPorch'] + \\\n",
    "                              hdf['WoodDeckSF']"
   ]
  },
  {
   "cell_type": "code",
   "execution_count": 14,
   "metadata": {},
   "outputs": [],
   "source": [
    "hdf ['TotalBath'] = hdf['FullBath'] + hdf['BsmtFullBath'] + .5*(hdf['HalfBath'] + hdf['BsmtHalfBath'])"
   ]
  },
  {
   "cell_type": "code",
   "execution_count": 15,
   "metadata": {},
   "outputs": [],
   "source": [
    "hdf.drop(columns = ['Utilities', 'Street', 'PoolQC'], inplace = True)\n",
    "hdf.drop(columns = ['BsmtFinSF1', 'BsmtFinSF2', 'BsmtUnfSF'], inplace = True) #there is totalbsmt\n",
    "hdf.drop(columns = ['FullBath', 'BsmtFullBath', 'HalfBath','BsmtHalfBath'], inplace = True)\n",
    "hdf.drop(columns = ['OpenPorchSF', 'EnclosedPorch', '3SsnPorch', 'ScreenPorch', 'WoodDeckSF'], inplace = True)\n",
    "hdf.drop(columns = 'MiscFeature', inplace = True) # drop feature (since price of feature is in miscval)\n",
    "hdf.drop(columns = 'LotFrontage', inplace = True)"
   ]
  },
  {
   "cell_type": "code",
   "execution_count": 16,
   "metadata": {},
   "outputs": [],
   "source": [
    "cat_feat = cat_feat - set(['MiscFeature', 'Utilities', 'Street'])\n",
    "house_feat = house_feat - set(['MiscFeature', 'Utilities', 'Street', 'PoolQC'])\n",
    "\n",
    "ord_feat = ord_feat - set(['FullBath', 'PoolQC', 'HalfBath', 'BsmtHalfBath', 'BsmtFullBath', 'PoolQC'])"
   ]
  },
  {
   "cell_type": "markdown",
   "metadata": {
    "colab_type": "text",
    "id": "eqfR9Cl2UTCM"
   },
   "source": [
    "# Removing some outliers"
   ]
  },
  {
   "cell_type": "code",
   "execution_count": 17,
   "metadata": {
    "colab": {},
    "colab_type": "code",
    "id": "7Ms2gtphUTCu"
   },
   "outputs": [
    {
     "name": "stderr",
     "output_type": "stream",
     "text": [
      "/usr/local/anaconda3/lib/python3.7/site-packages/pandas/core/frame.py:4102: SettingWithCopyWarning: \n",
      "A value is trying to be set on a copy of a slice from a DataFrame\n",
      "\n",
      "See the caveats in the documentation: http://pandas.pydata.org/pandas-docs/stable/user_guide/indexing.html#returning-a-view-versus-a-copy\n",
      "  errors=errors,\n"
     ]
    }
   ],
   "source": [
    "# Dummify and Transforming prine to log price\n",
    "X = pd.get_dummies(hdf, columns = list(cat_feat)+list(ord_feat), drop_first=True)\n",
    "\n",
    "X_train = X.loc[~X['SalePrice'].isnull(), :]\n",
    "# #Removing Outliers\n",
    "\n",
    "\n",
    "X_train = X_train.loc[X_train['GrLivArea'] < 4000,:]\n",
    "X_train = X_train.loc[X_train['LotArea'] < 100000,:]\n",
    "\n",
    "\n",
    "y_train = np.log1p(X_train.loc[~X_train['SalePrice'].isnull(), 'SalePrice'])\n",
    "\n",
    "\n",
    "\n",
    "X_train.drop(columns = ['Id', 'SalePrice'], inplace = True)\n",
    "\n",
    "\n",
    "X_test = X.loc[X['SalePrice'].isnull(), :]\n",
    "\n",
    "X_test.drop(columns = ['Id', 'SalePrice'], inplace = True)"
   ]
  },
  {
   "cell_type": "code",
   "execution_count": 18,
   "metadata": {
    "colab": {
     "base_uri": "https://localhost:8080/",
     "height": 558
    },
    "colab_type": "code",
    "executionInfo": {
     "elapsed": 815,
     "status": "ok",
     "timestamp": 1582468825024,
     "user": {
      "displayName": "Ivan Passoni",
      "photoUrl": "https://lh3.googleusercontent.com/a-/AAuE7mCHiiM7ZGaeo_O1-PlJS1x888RZkgkMZqn_hJGXWQ=s64",
      "userId": "10149849310241908499"
     },
     "user_tz": 300
    },
    "id": "KY8Chxb8UTCN",
    "outputId": "60cdf3d2-3539-40be-87a7-161658c56789"
   },
   "outputs": [],
   "source": [
    "# X_train.plot(kind = 'scatter', x = 'GrLivArea', y = 'SalePrice')\n",
    "\n",
    "# X_train.plot(kind = 'scatter', x = 'GrLivArea', y = 'SalePrice')"
   ]
  },
  {
   "cell_type": "markdown",
   "metadata": {
    "colab_type": "text",
    "id": "9oOTsw9XUTCP"
   },
   "source": [
    "The plot justifies the removal of hourses with 'GrLivArea' > 4000 (high leverage)."
   ]
  },
  {
   "cell_type": "code",
   "execution_count": 19,
   "metadata": {
    "colab": {
     "base_uri": "https://localhost:8080/",
     "height": 279
    },
    "colab_type": "code",
    "executionInfo": {
     "elapsed": 532,
     "status": "ok",
     "timestamp": 1582468826127,
     "user": {
      "displayName": "Ivan Passoni",
      "photoUrl": "https://lh3.googleusercontent.com/a-/AAuE7mCHiiM7ZGaeo_O1-PlJS1x888RZkgkMZqn_hJGXWQ=s64",
      "userId": "10149849310241908499"
     },
     "user_tz": 300
    },
    "id": "3FyS6QM_UTCQ",
    "outputId": "60ca8adf-5b2a-4cd7-d109-9e871d922495"
   },
   "outputs": [],
   "source": [
    "# hdf.plot(kind = 'scatter', x = 'LotArea', y = 'SalePrice')\n"
   ]
  },
  {
   "cell_type": "markdown",
   "metadata": {
    "colab_type": "text",
    "id": "Ve2Ob1IrUTCT"
   },
   "source": [
    "The plot justifies the removal of hourses with 'LotArea' > 100000 (high leverage)."
   ]
  },
  {
   "cell_type": "code",
   "execution_count": 20,
   "metadata": {
    "colab": {
     "base_uri": "https://localhost:8080/",
     "height": 279
    },
    "colab_type": "code",
    "executionInfo": {
     "elapsed": 486,
     "status": "ok",
     "timestamp": 1582468827403,
     "user": {
      "displayName": "Ivan Passoni",
      "photoUrl": "https://lh3.googleusercontent.com/a-/AAuE7mCHiiM7ZGaeo_O1-PlJS1x888RZkgkMZqn_hJGXWQ=s64",
      "userId": "10149849310241908499"
     },
     "user_tz": 300
    },
    "id": "J-xgnA5-UTCU",
    "outputId": "42dd6003-5fd0-4812-dab8-3aa7127ae511"
   },
   "outputs": [],
   "source": [
    "# hdf.plot(kind = 'scatter', x = 'LotFrontage', y = 'SalePrice')\n",
    "# X_train = X_train.loc[X_train['LotFrontage'] < 250, ]\n",
    "\n",
    "\n",
    "#### Remove LotFrontage before removing it"
   ]
  },
  {
   "cell_type": "markdown",
   "metadata": {
    "colab_type": "text",
    "id": "7KBq1OUgUTCr"
   },
   "source": [
    "# Initialize"
   ]
  },
  {
   "cell_type": "code",
   "execution_count": 21,
   "metadata": {
    "colab": {},
    "colab_type": "code",
    "id": "AGtZLOMsUTCs"
   },
   "outputs": [],
   "source": [
    "from sklearn.model_selection import train_test_split\n",
    "from sklearn.linear_model import LinearRegression\n",
    "from sklearn.feature_selection import VarianceThreshold\n",
    "\n",
    "from scipy import stats"
   ]
  },
  {
   "cell_type": "code",
   "execution_count": 22,
   "metadata": {
    "colab": {},
    "colab_type": "code",
    "id": "VuldykAIUTCw"
   },
   "outputs": [],
   "source": [
    "# Normalization of the columns\n",
    "\n",
    "\n",
    "# for col in X.columns[1:]:\n",
    "#     X[col] = (X[col] - np.mean(X[col]))/np.std(X[col], ddof=1)"
   ]
  },
  {
   "cell_type": "markdown",
   "metadata": {
    "colab_type": "text",
    "id": "ZUxRE7DeUTC1"
   },
   "source": [
    "### We fit a simple linear model for 'GrLivArea' with Sale price in log"
   ]
  },
  {
   "cell_type": "code",
   "execution_count": 23,
   "metadata": {
    "colab": {
     "base_uri": "https://localhost:8080/",
     "height": 350
    },
    "colab_type": "code",
    "executionInfo": {
     "elapsed": 394,
     "status": "ok",
     "timestamp": 1582468863140,
     "user": {
      "displayName": "Ivan Passoni",
      "photoUrl": "https://lh3.googleusercontent.com/a-/AAuE7mCHiiM7ZGaeo_O1-PlJS1x888RZkgkMZqn_hJGXWQ=s64",
      "userId": "10149849310241908499"
     },
     "user_tz": 300
    },
    "id": "KJM11cIQUTC2",
    "outputId": "17107b7e-06ad-4cb1-8a3a-51f6a45803fb"
   },
   "outputs": [
    {
     "data": {
      "text/plain": [
       "(array([ 96., 539., 445., 210.,  94.,  36.,  20.,   6.,   3.,   3.]),\n",
       " array([ 12839.36037632,  34547.92619985,  56256.49202338,  77965.0578469 ,\n",
       "         99673.62367043, 121382.18949396, 143090.75531749, 164799.32114101,\n",
       "        186507.88696454, 208216.45278807, 229925.01861159]),\n",
       " <a list of 10 Patch objects>)"
      ]
     },
     "execution_count": 23,
     "metadata": {},
     "output_type": "execute_result"
    },
    {
     "data": {
      "image/png": "[encoded data removed]",
      "text/plain": [
       "<Figure size 432x288 with 1 Axes>"
      ]
     },
     "metadata": {
      "needs_background": "light"
     },
     "output_type": "display_data"
    }
   ],
   "source": [
    "plt.hist(np.exp(y_train-1))"
   ]
  },
  {
   "cell_type": "code",
   "execution_count": 24,
   "metadata": {
    "colab": {
     "base_uri": "https://localhost:8080/",
     "height": 350
    },
    "colab_type": "code",
    "executionInfo": {
     "elapsed": 555,
     "status": "ok",
     "timestamp": 1582468863582,
     "user": {
      "displayName": "Ivan Passoni",
      "photoUrl": "https://lh3.googleusercontent.com/a-/AAuE7mCHiiM7ZGaeo_O1-PlJS1x888RZkgkMZqn_hJGXWQ=s64",
      "userId": "10149849310241908499"
     },
     "user_tz": 300
    },
    "id": "j76XirdBUTC4",
    "outputId": "03cc92e0-d5e9-4f59-8111-f63a23ed1996"
   },
   "outputs": [
    {
     "data": {
      "text/plain": [
       "(array([  5.,  10.,  34., 141., 401., 423., 259., 128.,  42.,   9.]),\n",
       " array([10.46027076, 10.74879454, 11.03731831, 11.32584209, 11.61436587,\n",
       "        11.90288964, 12.19141342, 12.4799372 , 12.76846098, 13.05698475,\n",
       "        13.34550853]),\n",
       " <a list of 10 Patch objects>)"
      ]
     },
     "execution_count": 24,
     "metadata": {},
     "output_type": "execute_result"
    },
    {
     "data": {
      "image/png": "[encoded data removed]",
      "text/plain": [
       "<Figure size 432x288 with 1 Axes>"
      ]
     },
     "metadata": {
      "needs_background": "light"
     },
     "output_type": "display_data"
    }
   ],
   "source": [
    "plt.hist(y_train)"
   ]
  },
  {
   "cell_type": "code",
   "execution_count": 25,
   "metadata": {
    "colab": {
     "base_uri": "https://localhost:8080/",
     "height": 34
    },
    "colab_type": "code",
    "executionInfo": {
     "elapsed": 538,
     "status": "ok",
     "timestamp": 1582468864162,
     "user": {
      "displayName": "Ivan Passoni",
      "photoUrl": "https://lh3.googleusercontent.com/a-/AAuE7mCHiiM7ZGaeo_O1-PlJS1x888RZkgkMZqn_hJGXWQ=s64",
      "userId": "10149849310241908499"
     },
     "user_tz": 300
    },
    "id": "5Mk-Br1VUTC6",
    "outputId": "2f6654b9-6fc6-4f71-aad3-7bb63b37b156"
   },
   "outputs": [
    {
     "data": {
      "text/plain": [
       "LinearRegression(copy_X=True, fit_intercept=True, n_jobs=None, normalize=False)"
      ]
     },
     "execution_count": 25,
     "metadata": {},
     "output_type": "execute_result"
    }
   ],
   "source": [
    "slm_LivArea_log = LinearRegression()\n",
    "slm_LivArea_log.fit(X_train[['GrLivArea']], y_train)"
   ]
  },
  {
   "cell_type": "code",
   "execution_count": 26,
   "metadata": {
    "colab": {
     "base_uri": "https://localhost:8080/",
     "height": 286
    },
    "colab_type": "code",
    "executionInfo": {
     "elapsed": 540,
     "status": "ok",
     "timestamp": 1582468867773,
     "user": {
      "displayName": "Ivan Passoni",
      "photoUrl": "https://lh3.googleusercontent.com/a-/AAuE7mCHiiM7ZGaeo_O1-PlJS1x888RZkgkMZqn_hJGXWQ=s64",
      "userId": "10149849310241908499"
     },
     "user_tz": 300
    },
    "id": "5bXbDwddUTC9",
    "outputId": "fe05e999-6ad5-49d7-fbdc-16ca82430131"
   },
   "outputs": [
    {
     "data": {
      "text/plain": [
       "[<matplotlib.lines.Line2D at 0x1a19d304d0>]"
      ]
     },
     "execution_count": 26,
     "metadata": {},
     "output_type": "execute_result"
    },
    {
     "data": {
      "image/png": "[encoded data removed]",
      "text/plain": [
       "<Figure size 432x288 with 1 Axes>"
      ]
     },
     "metadata": {
      "needs_background": "light"
     },
     "output_type": "display_data"
    }
   ],
   "source": [
    "plt.scatter(X_train[['GrLivArea']], y_train)\n",
    "plt.plot(X_train[['GrLivArea']], slm_LivArea_log.predict(X_train[['GrLivArea']]))"
   ]
  },
  {
   "cell_type": "markdown",
   "metadata": {
    "colab_type": "text",
    "id": "35dD6WrbUTDB"
   },
   "source": [
    "# Feature generation"
   ]
  },
  {
   "cell_type": "code",
   "execution_count": null,
   "metadata": {
    "colab": {},
    "colab_type": "code",
    "id": "ZkgpliVXUTDC"
   },
   "outputs": [],
   "source": [
    "# hdf['SalePrice'] = np.log1p(hdf['SalePrice'])"
   ]
  },
  {
   "cell_type": "code",
   "execution_count": null,
   "metadata": {
    "colab": {},
    "colab_type": "code",
    "id": "xm7lee0OUTDE"
   },
   "outputs": [],
   "source": [
    "# hdf['YearRemodDif'] = - hdf['YearBuilt'] + hdf['YearRemodAdd']"
   ]
  },
  {
   "cell_type": "markdown",
   "metadata": {
    "colab_type": "text",
    "id": "vh_Sy-G6UTDJ"
   },
   "source": [
    "# Drop columns with low variance"
   ]
  },
  {
   "cell_type": "code",
   "execution_count": null,
   "metadata": {
    "colab": {},
    "colab_type": "code",
    "id": "_K_8H0YqUTDK"
   },
   "outputs": [],
   "source": [
    "vr = []\n",
    "for col in X.columns:\n",
    "    vr.append((np.var(X[col]), col))"
   ]
  },
  {
   "cell_type": "code",
   "execution_count": null,
   "metadata": {
    "colab": {},
    "colab_type": "code",
    "id": "RbMCQ2L3UTDM"
   },
   "outputs": [],
   "source": [
    "X_LV = X.copy()\n",
    "X_LV = X_LV.drop(columns = list(map(lambda x: x[1], filter(lambda x: x[0] > .8*(1-.8), vr))))"
   ]
  },
  {
   "cell_type": "code",
   "execution_count": null,
   "metadata": {
    "colab": {},
    "colab_type": "code",
    "id": "hDpGGuvMUTDP"
   },
   "outputs": [],
   "source": [
    "# Normalization\n",
    "for col in X_LV.columns:\n",
    "    X_LV[col] = (X_LV[col] - np.mean(X_LV[col]))/np.std(X_LV[col], ddof=1)"
   ]
  },
  {
   "cell_type": "markdown",
   "metadata": {
    "colab_type": "text",
    "id": "qjWkCSEzUTDR"
   },
   "source": [
    "# Lasso feature selection"
   ]
  },
  {
   "cell_type": "code",
   "execution_count": null,
   "metadata": {
    "colab": {},
    "colab_type": "code",
    "id": "EuxQ8tqnUTDS"
   },
   "outputs": [],
   "source": [
    "from sklearn.linear_model import Lasso\n",
    "import seaborn as sns"
   ]
  },
  {
   "cell_type": "code",
   "execution_count": null,
   "metadata": {
    "colab": {},
    "colab_type": "code",
    "id": "6-aQlFA1UTDT"
   },
   "outputs": [],
   "source": [
    "lasso_lm = Lasso(max_iter=1e7, warm_start=True)"
   ]
  },
  {
   "cell_type": "code",
   "execution_count": null,
   "metadata": {
    "colab": {},
    "colab_type": "code",
    "id": "Gc-uT0qfUTDY"
   },
   "outputs": [],
   "source": [
    "## Try this as well. takes a long time!\n",
    "lasso_coefs = []\n",
    "alphas      = np.logspace(-6, 1, 1000)"
   ]
  },
  {
   "cell_type": "code",
   "execution_count": null,
   "metadata": {
    "colab": {},
    "colab_type": "code",
    "id": "BRt0hUgsUTDa"
   },
   "outputs": [],
   "source": [
    "lasso_coefs = []\n",
    "alphas      = np.logspace(-2, 0.5, 2)"
   ]
  },
  {
   "cell_type": "code",
   "execution_count": null,
   "metadata": {
    "colab": {},
    "colab_type": "code",
    "id": "8R72zp-YUTDc"
   },
   "outputs": [],
   "source": [
    "for alpha in alphas:\n",
    "    lasso_lm.set_params(alpha = alpha).fit(X, y)\n",
    "    lasso_coefs.append(lasso_lm.coef_)"
   ]
  },
  {
   "cell_type": "code",
   "execution_count": null,
   "metadata": {
    "colab": {
     "base_uri": "https://localhost:8080/",
     "height": 299
    },
    "colab_type": "code",
    "executionInfo": {
     "elapsed": 42071,
     "status": "ok",
     "timestamp": 1582468919734,
     "user": {
      "displayName": "Ivan Passoni",
      "photoUrl": "https://lh3.googleusercontent.com/a-/AAuE7mCHiiM7ZGaeo_O1-PlJS1x888RZkgkMZqn_hJGXWQ=s64",
      "userId": "10149849310241908499"
     },
     "user_tz": 300
    },
    "id": "WZckzKX1UTDe",
    "outputId": "8f11c324-f739-4ea3-f1eb-b088e91041cb"
   },
   "outputs": [],
   "source": [
    "df_coef = pd.DataFrame(lasso_coefs, index=alphas, columns = X.columns)\n",
    "title = 'Lasso coefficients as a function of the regularization'\n",
    "df_coef.plot(logx=True, title=title, legend = False)\n",
    "plt.xlabel('alpha')\n",
    "plt.ylabel('coefficients')\n",
    "plt.show()"
   ]
  },
  {
   "cell_type": "code",
   "execution_count": null,
   "metadata": {
    "colab": {},
    "colab_type": "code",
    "id": "QAkRd2bYUTDh",
    "outputId": "e742a612-ec20-4866-9e3a-98f33e4328af"
   },
   "outputs": [],
   "source": [
    "df_coef.iloc[:, np.random.choice(range(df_coef.shape[1]), size = 5, replace = False)].plot(logx=True, title=title)"
   ]
  },
  {
   "cell_type": "code",
   "execution_count": null,
   "metadata": {
    "colab": {},
    "colab_type": "code",
    "id": "iuaSRKq7UTDi"
   },
   "outputs": [],
   "source": [
    "coef_orders = []\n",
    "for row in df_coef.index:\n",
    "    coef_orders.extend([list(df_coef.loc[:,df_coef.loc[row, :] > 0.001].columns)])"
   ]
  },
  {
   "cell_type": "code",
   "execution_count": null,
   "metadata": {
    "colab": {},
    "colab_type": "code",
    "id": "niFyCqueUTDl",
    "outputId": "975156ac-0a57-4946-f5fd-d6f497d7a26c",
    "scrolled": false
   },
   "outputs": [],
   "source": [
    "last = []\n",
    "s = 0\n",
    "for i in sorted(np.unique(coef_orders), key = len):\n",
    "    print (set(i) - set(last))\n",
    "    s += len(set(i) - set(last))\n",
    "    last = i\n",
    "    \n",
    "print (s)"
   ]
  },
  {
   "cell_type": "code",
   "execution_count": null,
   "metadata": {
    "colab": {},
    "colab_type": "code",
    "id": "ILd59C-wUTDn",
    "outputId": "5e660c95-adcf-422c-a2a3-9cafdf25d9ae"
   },
   "outputs": [],
   "source": [
    "sns.pairplot(hdf[['YearBuilt', 'YearRemodAdd', 'BsmtFinSF1', 'TotalBsmtSF', 'GrLivArea', 'GarageArea']])"
   ]
  },
  {
   "cell_type": "code",
   "execution_count": null,
   "metadata": {
    "colab": {},
    "colab_type": "code",
    "id": "sgvMfbSUUTDo",
    "outputId": "67e671d3-ee15-4813-9c1b-7bc18485bbbd"
   },
   "outputs": [],
   "source": [
    "corr = hdf.corr()\n",
    "\n",
    "f, ax = plt.subplots(figsize = (11,9))\n",
    "sns.heatmap(corr)"
   ]
  },
  {
   "cell_type": "code",
   "execution_count": null,
   "metadata": {
    "colab": {},
    "colab_type": "code",
    "id": "6979-v0iUTDq",
    "outputId": "1e5921a6-0da5-4d4d-874e-817e563890cd"
   },
   "outputs": [],
   "source": [
    "hdf.plot(kind = 'scatter', x = 'YearRemodAdd', y =  'SalePrice')"
   ]
  },
  {
   "cell_type": "code",
   "execution_count": null,
   "metadata": {
    "colab": {},
    "colab_type": "code",
    "id": "meXyu9aCUTDt",
    "outputId": "ef264a21-44e7-47c0-bc17-b9f5301e43b3"
   },
   "outputs": [],
   "source": [
    "hdf.plot(kind = 'scatter', x = 'YearBuilt', y =  'SalePrice')"
   ]
  },
  {
   "cell_type": "markdown",
   "metadata": {
    "colab_type": "text",
    "id": "q4UVwsCaUTDw"
   },
   "source": [
    "# Grid search CV in lasso regression"
   ]
  },
  {
   "cell_type": "code",
   "execution_count": null,
   "metadata": {
    "colab": {},
    "colab_type": "code",
    "id": "YjkS70P-UTDw"
   },
   "outputs": [],
   "source": [
    "from sklearn.model_selection import GridSearchCV\n",
    "from sklearn.linear_model import Lasso"
   ]
  },
  {
   "cell_type": "code",
   "execution_count": null,
   "metadata": {
    "colab": {},
    "colab_type": "code",
    "id": "V62e7HxvUTDx"
   },
   "outputs": [],
   "source": [
    "lasso_gs = Lasso(max_iter = 1e7, warm_start = True)"
   ]
  },
  {
   "cell_type": "code",
   "execution_count": null,
   "metadata": {
    "colab": {},
    "colab_type": "code",
    "id": "WsXGoVI0UTD0"
   },
   "outputs": [],
   "source": [
    "grid_params = [{'alpha': np.logspace(-6, -2, 10)}]"
   ]
  },
  {
   "cell_type": "code",
   "execution_count": null,
   "metadata": {
    "colab": {},
    "colab_type": "code",
    "id": "cKz_jixcUTD2"
   },
   "outputs": [],
   "source": [
    "lasso_param_search = GridSearchCV(estimator = lasso_gs, \n",
    "                                  param_grid = grid_params, cv=10, \n",
    "                                  return_train_score=True,\n",
    "                                  scoring='r2', verbose=2)"
   ]
  },
  {
   "cell_type": "code",
   "execution_count": null,
   "metadata": {
    "colab": {
     "base_uri": "https://localhost:8080/",
     "height": 51
    },
    "colab_type": "code",
    "id": "OViSFLcyUTD3",
    "outputId": "d8e7395e-9deb-43c3-c583-0bfe5548827d"
   },
   "outputs": [],
   "source": [
    "lasso_param_search.fit(X_train, y_train)"
   ]
  },
  {
   "cell_type": "code",
   "execution_count": null,
   "metadata": {
    "colab": {},
    "colab_type": "code",
    "id": "z-OCyuplUTD5"
   },
   "outputs": [],
   "source": [
    "mean_test_score = lasso_param_search.cv_results_['mean_test_score']\n",
    "std_test_score = lasso_param_search.cv_results_['std_test_score']\n",
    "mean_train_score = lasso_param_search.cv_results_['mean_train_score']\n",
    "std_train_score = lasso_param_search.cv_results_['std_train_score']\n",
    "\n",
    "params = list(map(lambda s: s['alpha'], lasso_param_search.cv_results_['params']))"
   ]
  },
  {
   "cell_type": "code",
   "execution_count": null,
   "metadata": {
    "colab": {},
    "colab_type": "code",
    "id": "6XLWDSTfUTD7"
   },
   "outputs": [],
   "source": [
    "lasso_vis_df = pd.DataFrame({'param': params, 'mean_test_score': mean_test_score,\n",
    "                             'std_test_score': std_test_score, \n",
    "                             'mean_train_score':mean_train_score,\n",
    "                             'std_train_score': std_train_score})"
   ]
  },
  {
   "cell_type": "code",
   "execution_count": null,
   "metadata": {
    "colab": {
     "base_uri": "https://localhost:8080/",
     "height": 296
    },
    "colab_type": "code",
    "executionInfo": {
     "elapsed": 765,
     "status": "ok",
     "timestamp": 1582470837104,
     "user": {
      "displayName": "Ivan Passoni",
      "photoUrl": "https://lh3.googleusercontent.com/a-/AAuE7mCHiiM7ZGaeo_O1-PlJS1x888RZkgkMZqn_hJGXWQ=s64",
      "userId": "10149849310241908499"
     },
     "user_tz": 300
    },
    "id": "9t65MyyxUTD9",
    "outputId": "fbf23da5-60bd-4a7d-9a48-a4bf69a80f1e"
   },
   "outputs": [],
   "source": [
    "lasso_vis_df.plot(x = 'param', y = ['mean_train_score', 'mean_test_score'])"
   ]
  },
  {
   "cell_type": "code",
   "execution_count": null,
   "metadata": {},
   "outputs": [],
   "source": [
    "lasso_gs2 = Lasso(max_iter = 1e7, warm_start = True)"
   ]
  },
  {
   "cell_type": "code",
   "execution_count": null,
   "metadata": {},
   "outputs": [],
   "source": [
    "grid_params2 = [{'alpha': np.linspace(0.002, 0.004, 10000)}]"
   ]
  },
  {
   "cell_type": "code",
   "execution_count": null,
   "metadata": {},
   "outputs": [],
   "source": [
    "lasso_param_search2 = GridSearchCV(estimator = lasso_gs2, \n",
    "                                  param_grid = grid_params2, cv=10, \n",
    "                                  return_train_score=True,\n",
    "                                  scoring='r2', verbose=2)"
   ]
  },
  {
   "cell_type": "code",
   "execution_count": null,
   "metadata": {},
   "outputs": [],
   "source": [
    "lasso_param_search2.fit(X_train, y_train)"
   ]
  },
  {
   "cell_type": "code",
   "execution_count": null,
   "metadata": {},
   "outputs": [],
   "source": [
    "mean_test_score = lasso_param_search2.cv_results_['mean_test_score']\n",
    "std_test_score = lasso_param_search2.cv_results_['std_test_score']\n",
    "mean_train_score = lasso_param_search2.cv_results_['mean_train_score']\n",
    "std_train_score = lasso_param_search2.cv_results_['std_train_score']\n",
    "\n",
    "params = list(map(lambda s: s['alpha'], lasso_param_search2.cv_results_['params']))"
   ]
  },
  {
   "cell_type": "code",
   "execution_count": null,
   "metadata": {},
   "outputs": [],
   "source": [
    "lasso_vis_df = pd.DataFrame({'param': params, 'mean_test_score': mean_test_score,\n",
    "                             'std_test_score': std_test_score, \n",
    "                             'mean_train_score':mean_train_score,\n",
    "                             'std_train_score': std_train_score})"
   ]
  },
  {
   "cell_type": "code",
   "execution_count": null,
   "metadata": {},
   "outputs": [],
   "source": [
    "lasso_vis_df.plot(x = 'param', y = ['mean_train_score', 'mean_test_score'])"
   ]
  },
  {
   "cell_type": "code",
   "execution_count": null,
   "metadata": {},
   "outputs": [],
   "source": [
    "best_alpha = lasso_param_search2.best_estimator_.get_params()['alpha']"
   ]
  },
  {
   "cell_type": "code",
   "execution_count": null,
   "metadata": {},
   "outputs": [],
   "source": [
    "lasso_param_search2.score(X_test, y_test)"
   ]
  },
  {
   "cell_type": "markdown",
   "metadata": {},
   "source": [
    "# Training on te full dataset"
   ]
  },
  {
   "cell_type": "code",
   "execution_count": null,
   "metadata": {},
   "outputs": [],
   "source": [
    "train_all_best = Lasso()"
   ]
  },
  {
   "cell_type": "code",
   "execution_count": null,
   "metadata": {},
   "outputs": [],
   "source": [
    "train_all_best.set_params(alpha = best_alpha, max_iter = 1e7, warm_start = True)"
   ]
  },
  {
   "cell_type": "code",
   "execution_count": null,
   "metadata": {},
   "outputs": [],
   "source": [
    "train_all_best.fit(X, y)"
   ]
  },
  {
   "cell_type": "code",
   "execution_count": null,
   "metadata": {},
   "outputs": [],
   "source": [
    "train_all_best.score(X, y)"
   ]
  },
  {
   "cell_type": "markdown",
   "metadata": {},
   "source": [
    "# Fitting the model to the test set"
   ]
  },
  {
   "cell_type": "code",
   "execution_count": null,
   "metadata": {},
   "outputs": [],
   "source": [
    "test_house_pricing_raw = pd.read_csv('../src/data/test.csv')\n",
    "test_hdf = test_house_pricing_raw.copy()"
   ]
  },
  {
   "cell_type": "code",
   "execution_count": null,
   "metadata": {},
   "outputs": [],
   "source": [
    "set(test_house_pricing_raw.columns)  - set(housing_prices_df_raw.columns)"
   ]
  },
  {
   "cell_type": "markdown",
   "metadata": {},
   "source": [
    "### Cleaning the test set"
   ]
  },
  {
   "cell_type": "code",
   "execution_count": null,
   "metadata": {},
   "outputs": [],
   "source": [
    "test_hdf.loc[test_hdf['Fence'].isnull(),'Fence'] = 'NoFen'\n",
    "# test_hdf.loc[test_hdf['PoolQC'].isnull(), 'PoolQC'] = 'NoPool'\n",
    "test_hdf.loc[test_hdf['FireplaceQu'].isnull(), 'FireplaceQu'] = 'NoFir'\n",
    "test_hdf.loc[test_hdf['Alley'].isnull(), 'Alley'] = 'NoAcc'\n",
    "\n",
    "for gar in ['GarageFinish', 'GarageQual', 'GarageCond', 'GarageType']:\n",
    "    test_hdf.loc[test_hdf[gar].isnull(), gar] = 'NoGar'\n",
    "\n",
    "# There should be a better way to do this\n",
    "test_hdf.loc[test_hdf['GarageYrBlt'].isnull(), 'GarageYrBlt'] = round(np.mode(test_hdf['GarageYrBlt']))\n",
    "\n",
    "\n",
    "for bsmt in ['BsmtQual','BsmtCond','BsmtExposure','BsmtFinType1','BsmtFinType2']:\n",
    "    test_hdf.loc[test_hdf[bsmt].isnull(), bsmt] = 'NoBsmt'\n",
    "\n",
    "test_hdf = test_hdf.drop(columns = 'MiscFeature') # drop feature (since price of feature is in miscval)\n",
    "\n",
    "test_hdf = test_hdf.drop(columns = 'LotFrontage')\n",
    "test_hdf = test_hdf.drop(labels = test_hdf.loc[test_hdf['MasVnrType'].isnull(),:].index)\n",
    "test_hdf = test_hdf.drop(labels = test_hdf.loc[test_hdf['Electrical'].isnull(),:].index)"
   ]
  },
  {
   "cell_type": "code",
   "execution_count": null,
   "metadata": {},
   "outputs": [],
   "source": [
    "test_hdf.isnull().sum()[test_hdf.isnull().sum() > 0]"
   ]
  },
  {
   "cell_type": "code",
   "execution_count": null,
   "metadata": {},
   "outputs": [],
   "source": [
    "test_hdf = pd.get_dummies(test_hdf, columns = cat_feat+ord_feat, drop_first=True)"
   ]
  },
  {
   "cell_type": "code",
   "execution_count": null,
   "metadata": {},
   "outputs": [],
   "source": [
    "lasso_param_search2"
   ]
  },
  {
   "cell_type": "code",
   "execution_count": null,
   "metadata": {},
   "outputs": [],
   "source": [
    "lasso_param_search2.predict(test_hdf.loc[:, test_hdf.columns != 'Id'])"
   ]
  },
  {
   "cell_type": "code",
   "execution_count": null,
   "metadata": {},
   "outputs": [],
   "source": [
    "submission = pd.DataFrame({'Id': test_hdf['Id'], 'SalePrice': np.expm1(\n",
    "    lasso_param_search2.predict(test_hdf.loc[:, test_hdf.columns != 'Id']))})\n",
    "\n"
   ]
  },
  {
   "cell_type": "code",
   "execution_count": null,
   "metadata": {},
   "outputs": [],
   "source": []
  }
 ],
 "metadata": {
  "colab": {
   "name": "Ivan_notebook.ipynb",
   "provenance": [],
   "toc_visible": true
  },
  "kernelspec": {
   "display_name": "Python 3",
   "language": "python",
   "name": "python3"
  },
  "language_info": {
   "codemirror_mode": {
    "name": "ipython",
    "version": 3
   },
   "file_extension": ".py",
   "mimetype": "text/x-python",
   "name": "python",
   "nbconvert_exporter": "python",
   "pygments_lexer": "ipython3",
   "version": "3.7.4"
  }
 },
 "nbformat": 4,
 "nbformat_minor": 1
}
