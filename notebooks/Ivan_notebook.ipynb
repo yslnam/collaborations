{
 "cells": [
  {
   "cell_type": "code",
   "execution_count": null,
   "metadata": {
    "colab": {},
    "colab_type": "code",
    "id": "atzE4AbYUTB4"
   },
   "outputs": [],
   "source": [
    "import pandas as pd\n",
    "import numpy as np\n",
    "import matplotlib.pyplot as plt\n",
    "\n",
    "%matplotlib inline"
   ]
  },
  {
   "cell_type": "code",
   "execution_count": null,
   "metadata": {
    "colab": {},
    "colab_type": "code",
    "id": "mJ2sRgjVa_sF"
   },
   "outputs": [],
   "source": [
    "housing_prices_df_raw = pd.read_csv('../src/data/train.csv')\n",
    "test_housing_prices_df_raw = pd.read_csv('../src/data/test.csv')"
   ]
  },
  {
   "cell_type": "code",
   "execution_count": null,
   "metadata": {
    "colab": {},
    "colab_type": "code",
    "id": "9h2PVzzZUTB_"
   },
   "outputs": [],
   "source": [
    "train_hdf = housing_prices_df_raw.copy()\n",
    "test_hdf = test_housing_prices_df_raw.copy()\n",
    "hdf = pd.concat([train_hdf, test_hdf], axis = 0, sort = False)"
   ]
  },
  {
   "cell_type": "markdown",
   "metadata": {
    "colab_type": "text",
    "id": "nlLR7tFBUTCC"
   },
   "source": [
    "# Feature Selection/Data Wragling"
   ]
  },
  {
   "cell_type": "code",
   "execution_count": null,
   "metadata": {},
   "outputs": [],
   "source": [
    "ord_feat_num = ['OverallQual', 'OverallCond', 'BsmtFullBath', \n",
    "        'BsmtHalfBath', 'FullBath', 'HalfBath',\n",
    "        'TotRmsAbvGrd', 'Fireplaces', 'BedroomAbvGr', \n",
    "        'KitchenAbvGr', 'GarageCars']\n",
    "\n",
    "ord_feat_cat = ['ExterQual', 'ExterCond', 'BsmtQual', 'BsmtCond', \n",
    "        'BsmtExposure', 'BsmtFinType1', 'BsmtFinType2', \n",
    "        'HeatingQC', 'KitchenQual', 'FireplaceQu', \n",
    "        'GarageQual', 'GarageCond', 'PoolQC']\n",
    "\n",
    "ord_feat = ord_feat_num + ord_feat_cat\n",
    "\n",
    "nom_feat = ['MSSubClass', 'MSZoning', 'Alley', 'LotShape', \n",
    "       'LandContour', 'Utilities', 'Neighborhood', \n",
    "       'Condition1', 'Condition2', 'BldgType', 'RoofStyle', \n",
    "       'RoofMatl', 'Exterior1st', 'Exterior2nd', 'MasVnrType', \n",
    "       'Foundation', 'Heating', 'CentralAir', 'Electrical', \n",
    "       'GarageType', 'MiscFeature', 'SaleType', 'SaleCondition', \n",
    "       'GarageFinish', 'PavedDrive', 'Fence', 'Functional', \n",
    "       'HouseStyle','LotConfig', 'Street', 'LandSlope']\n",
    "\n",
    "cat_feat = nom_feat + ord_feat\n",
    "\n",
    "cont_feat = ['LotFrontage', 'LotArea', 'YearBuilt', \n",
    "       'YearRemodAdd', 'MasVnrArea', 'BsmtFinSF1', \n",
    "       'BsmtFinSF2', 'TotalBsmtSF', '1stFlrSF', '2ndFlrSF', \n",
    "       'GarageYrBlt', 'WoodDeckSF', 'OpenPorchSF', \n",
    "       'EnclosedPorch', '3SsnPorch', 'ScreenPorch', 'PoolArea', \n",
    "       'MiscVal', 'MoSold', 'YrSold','BsmtUnfSF', 'GarageArea', \n",
    "       'LowQualFinSF', 'GrLivArea']"
   ]
  },
  {
   "cell_type": "code",
   "execution_count": null,
   "metadata": {},
   "outputs": [],
   "source": [
    "hdf['FireplaceQu'].unique()"
   ]
  },
  {
   "cell_type": "markdown",
   "metadata": {
    "colab_type": "text",
    "id": "9AMJd1yuUTCW"
   },
   "source": [
    "## Filling NA's"
   ]
  },
  {
   "cell_type": "code",
   "execution_count": null,
   "metadata": {
    "colab": {
     "base_uri": "https://localhost:8080/",
     "height": 340
    },
    "colab_type": "code",
    "executionInfo": {
     "elapsed": 392,
     "status": "ok",
     "timestamp": 1582468844956,
     "user": {
      "displayName": "Ivan Passoni",
      "photoUrl": "https://lh3.googleusercontent.com/a-/AAuE7mCHiiM7ZGaeo_O1-PlJS1x888RZkgkMZqn_hJGXWQ=s64",
      "userId": "10149849310241908499"
     },
     "user_tz": 300
    },
    "id": "IChUNj9EUTCX",
    "outputId": "ab2e4cac-8559-44ee-995e-79b7de5734f7"
   },
   "outputs": [],
   "source": [
    "# hdf.loc[:,hdf.isnull().sum() > 0]\n",
    "# hdf.isnull().sum()[hdf.isnull().sum() > 0]"
   ]
  },
  {
   "cell_type": "code",
   "execution_count": null,
   "metadata": {
    "colab": {
     "base_uri": "https://localhost:8080/",
     "height": 357
    },
    "colab_type": "code",
    "executionInfo": {
     "elapsed": 660,
     "status": "ok",
     "timestamp": 1582468845235,
     "user": {
      "displayName": "Ivan Passoni",
      "photoUrl": "https://lh3.googleusercontent.com/a-/AAuE7mCHiiM7ZGaeo_O1-PlJS1x888RZkgkMZqn_hJGXWQ=s64",
      "userId": "10149849310241908499"
     },
     "user_tz": 300
    },
    "id": "5uxIy0rKUTCZ",
    "outputId": "10234db7-db12-4a55-de74-215571b95c5e"
   },
   "outputs": [],
   "source": [
    "# In percentage\n",
    "print(hdf.shape)\n",
    "round(100*hdf.isnull().sum()[hdf.isnull().sum() > 0]/len(hdf), 2)"
   ]
  },
  {
   "cell_type": "code",
   "execution_count": null,
   "metadata": {},
   "outputs": [],
   "source": [
    "from scipy import stats\n",
    "\n",
    "\n",
    "hdf[ord_feat_cat] = hdf[ord_feat_cat].replace({'Ex': 5, 'Gd': 4, 'TA': 3, 'Fa': 2, 'Po': 1, np.nan: 0})\n",
    "hdf[['BsmtExposure']] = hdf[['BsmtExposure']].replace({'Gd': 4, 'Av': 3, 'Mn': 2, 'No': 1, np.nan: 0})\n",
    "hdf[['BsmtFinType1', 'BsmtFinType2']] = hdf[['BsmtFinType1', \n",
    "                                             'BsmtFinType2']].replace({'GLQ': 6, 'ALQ': 5, \n",
    "                                                                       'BLQ': 4, 'Rec': 3, \n",
    "                                                                       'LwQ': 2, 'Unf': 1, \n",
    "                                                                       np.nan:0})\n",
    "hdf[['Fence']] = hdf[['Fence']].replace({'MnPrv': 'HasFence', \n",
    "                                         'GdWo': 'HasFence', \n",
    "                                         'GdPrv': 'HasFence', \n",
    "                                         'MnWw': 'HasFence',\n",
    "                                          np.nan: 'NoFence'})\n",
    "\n",
    "\n",
    "# Inpute LotFrontage\n",
    "a = hdf.groupby('Neighborhood')['LotFrontage'].agg('median')\n",
    "\n",
    "hdf['LotFrontage'] = hdf.apply(lambda row: a.loc[row['Neighborhood']] if \n",
    "          np.isnan(row['LotFrontage']) else row['LotFrontage'], axis = 1)\n",
    "\n",
    "\n",
    "\n",
    "for col in set(hdf.columns) - {'SalePrice'}:\n",
    "    if hdf[col].dtype == 'object':\n",
    "        hdf.fillna({col:stats.mode(hdf[col]).mode[0]}, inplace = True)\n",
    "    else:\n",
    "        hdf.fillna({col:np.median(hdf.loc[~hdf[col].isnull(), col])}, inplace = True)\n",
    "        \n",
    "        \n",
    "# hdf.fillna({'PoolQC':}, inplace = True)\n",
    "# hdf.fillna({'FireplaceQu':0}, inplace = True)\n",
    "# hdf.fillna({'Alley':0}, inplace = True)\n",
    "# hdf.fillna({gar:'NoGar' for gar in ['GarageFinish', 'GarageQual', 'GarageCond', 'GarageType']}, inplace=True)\n",
    "# hdf.fillna({'GarageYrBlt':int(stats.mode(hdf['GarageYrBlt']).mode[0])}, inplace = True)\n",
    "# hdf.fillna({bsmt:'NoBsmt' for bsmt in ['BsmtQual','BsmtCond','BsmtExposure','BsmtFinType1','BsmtFinType2']},\n",
    "#             inplace = True)"
   ]
  },
  {
   "cell_type": "code",
   "execution_count": null,
   "metadata": {
    "colab": {
     "base_uri": "https://localhost:8080/",
     "height": 85
    },
    "colab_type": "code",
    "executionInfo": {
     "elapsed": 605,
     "status": "ok",
     "timestamp": 1582468845364,
     "user": {
      "displayName": "Ivan Passoni",
      "photoUrl": "https://lh3.googleusercontent.com/a-/AAuE7mCHiiM7ZGaeo_O1-PlJS1x888RZkgkMZqn_hJGXWQ=s64",
      "userId": "10149849310241908499"
     },
     "user_tz": 300
    },
    "id": "RZSc6H4QUTCi",
    "outputId": "5dc06491-0e7b-4b14-f4c0-e0f7fdefbc68"
   },
   "outputs": [],
   "source": [
    "round(100*hdf.isnull().sum()[hdf.isnull().sum() > 0]/len(hdf), 2)"
   ]
  },
  {
   "cell_type": "markdown",
   "metadata": {},
   "source": [
    "# Feature generation"
   ]
  },
  {
   "cell_type": "code",
   "execution_count": null,
   "metadata": {},
   "outputs": [],
   "source": [
    "hdf['remodeled'] = pd.Series([1 if a > 0 else 0 for a in (hdf['YearRemodAdd'] - hdf['YearBuilt'])])\n",
    "hdf['TotalPorchAreasSF'] = hdf['OpenPorchSF'] + hdf['EnclosedPorch'] + hdf['3SsnPorch'] + hdf['ScreenPorch'] + \\\n",
    "                              hdf['WoodDeckSF']\n",
    "hdf ['TotalBath'] = hdf['FullBath'] + hdf['BsmtFullBath'] + .5*(hdf['HalfBath'] + hdf['BsmtHalfBath'])\n",
    "hdf['RestRooms'] = hdf['TotRmsAbvGrd'] - hdf['KitchenAbvGr'] - hdf['FullBath']"
   ]
  },
  {
   "cell_type": "code",
   "execution_count": null,
   "metadata": {},
   "outputs": [],
   "source": [
    "hdf.drop(columns = ['Utilities', 'Street', 'PoolQC'], inplace = True)\n",
    "hdf.drop(columns = ['BsmtFinSF1', 'BsmtFinSF2', 'BsmtUnfSF'], inplace = True) #there is totalbsmt\n",
    "hdf.drop(columns = ['FullBath', 'BsmtFullBath', 'HalfBath','BsmtHalfBath'], inplace = True)\n",
    "hdf.drop(columns = ['OpenPorchSF', 'EnclosedPorch', '3SsnPorch', 'ScreenPorch', 'WoodDeckSF'], inplace = True)\n",
    "hdf.drop(columns = 'MiscFeature', inplace = True) # drop feature (since price of feature is in miscval)\n",
    "hdf.drop(columns = 'TotRmsAbvGrd', inplace = True)"
   ]
  },
  {
   "cell_type": "code",
   "execution_count": null,
   "metadata": {},
   "outputs": [],
   "source": [
    "cat_feat = set(cat_feat) - set(['MiscFeature', 'Utilities', 'Street', \n",
    "                                'FullBath', 'PoolQC', 'HalfBath', 'BsmtHalfBath', \n",
    "                                'BsmtFullBath', 'PoolQC', 'TotRmsAbvGrd'])\n",
    "\n",
    "cont_feat = list(set(cont_feat) - set(['Utilities', 'Street', 'PoolQC'] +\\\n",
    "['BsmtFinSF1', 'BsmtFinSF2', 'BsmtUnfSF'] +\\\n",
    "['FullBath', 'BsmtFullBath', 'HalfBath','BsmtHalfBath'] +\\\n",
    "['OpenPorchSF', 'EnclosedPorch', '3SsnPorch', 'ScreenPorch', 'WoodDeckSF'] +\\\n",
    "['MiscFeature', 'TotRmsAbvGrd']))\n",
    "\n",
    "\n",
    "nom_feat = list(set(nom_feat) - set(['MiscFeature', 'Utilities', 'Street']))"
   ]
  },
  {
   "cell_type": "markdown",
   "metadata": {
    "colab_type": "text",
    "id": "eqfR9Cl2UTCM"
   },
   "source": [
    "# Train and test split/Remove outliers"
   ]
  },
  {
   "cell_type": "code",
   "execution_count": null,
   "metadata": {
    "colab": {},
    "colab_type": "code",
    "id": "7Ms2gtphUTCu"
   },
   "outputs": [],
   "source": [
    "# Dummify and Transforming prine to log price\n",
    "X = pd.get_dummies(hdf, columns = nom_feat, drop_first=True)\n",
    "\n",
    "X_train = X.loc[~X['SalePrice'].isnull(), :]\n",
    "\n",
    "\n",
    "# #Removing Outliers\n",
    "X_train = X_train.loc[(X_train['GrLivArea'] < 4000) & (X_train['LotArea'] < 100000) & (X_train['LotFrontage'] < 250),:]\n",
    "\n",
    "\n",
    "y_train = np.log1p(X_train.loc[~X_train['SalePrice'].isnull(), 'SalePrice'])\n",
    "\n",
    "X_train.drop(columns = ['Id', 'SalePrice'], inplace = True)\n",
    "X_test = X.loc[X['SalePrice'].isnull(), :].drop(columns = ['SalePrice'])"
   ]
  },
  {
   "cell_type": "markdown",
   "metadata": {},
   "source": [
    "# Normalization of the columns if needed"
   ]
  },
  {
   "cell_type": "code",
   "execution_count": null,
   "metadata": {},
   "outputs": [],
   "source": [
    "# # Normalization. Use this one instead of the model option since we have to normalize the test dataset as well.\n",
    "for col in X_train.columns:\n",
    "    X_train[col] = (X_train[col] - np.mean(X_train[col]))/np.std(X_train[col], ddof=1)\n",
    "    X_test[col] = (X_test[col] - np.mean(X_test[col]))/np.std(X_test[col], ddof=1)"
   ]
  },
  {
   "cell_type": "markdown",
   "metadata": {
    "colab_type": "text",
    "id": "7KBq1OUgUTCr"
   },
   "source": [
    "# Initialize"
   ]
  },
  {
   "cell_type": "code",
   "execution_count": null,
   "metadata": {
    "colab": {},
    "colab_type": "code",
    "id": "AGtZLOMsUTCs"
   },
   "outputs": [],
   "source": [
    "from sklearn.model_selection import train_test_split\n",
    "from sklearn.linear_model import LinearRegression"
   ]
  },
  {
   "cell_type": "markdown",
   "metadata": {
    "colab_type": "text",
    "id": "vh_Sy-G6UTDJ"
   },
   "source": [
    "# Drop columns with low variance/Not advised"
   ]
  },
  {
   "cell_type": "code",
   "execution_count": null,
   "metadata": {
    "colab": {},
    "colab_type": "code",
    "id": "_K_8H0YqUTDK"
   },
   "outputs": [],
   "source": [
    "vr = []\n",
    "for col in X.columns:\n",
    "    vr.append((np.var(X[col]), col))"
   ]
  },
  {
   "cell_type": "code",
   "execution_count": null,
   "metadata": {
    "colab": {},
    "colab_type": "code",
    "id": "RbMCQ2L3UTDM"
   },
   "outputs": [],
   "source": [
    "X_LV = X.copy()\n",
    "X_LV = X_LV.drop(columns = list(map(lambda x: x[1], filter(lambda x: x[0] > .8*(1-.8), vr))))"
   ]
  },
  {
   "cell_type": "code",
   "execution_count": null,
   "metadata": {
    "colab": {},
    "colab_type": "code",
    "id": "hDpGGuvMUTDP"
   },
   "outputs": [],
   "source": [
    "# Normalization\n",
    "for col in X_LV.columns:\n",
    "    X_LV[col] = (X_LV[col] - np.mean(X_LV[col]))/np.std(X_LV[col], ddof=1)"
   ]
  },
  {
   "cell_type": "markdown",
   "metadata": {
    "colab_type": "text",
    "id": "qjWkCSEzUTDR"
   },
   "source": [
    "# Lasso feature selection"
   ]
  },
  {
   "cell_type": "code",
   "execution_count": null,
   "metadata": {
    "colab": {},
    "colab_type": "code",
    "id": "EuxQ8tqnUTDS"
   },
   "outputs": [],
   "source": [
    "from sklearn.linear_model import Lasso\n",
    "import seaborn as sns"
   ]
  },
  {
   "cell_type": "code",
   "execution_count": null,
   "metadata": {
    "colab": {},
    "colab_type": "code",
    "id": "6-aQlFA1UTDT"
   },
   "outputs": [],
   "source": [
    "lasso_lm = Lasso(max_iter=1e7, warm_start=True, normalize = True)"
   ]
  },
  {
   "cell_type": "code",
   "execution_count": null,
   "metadata": {
    "colab": {},
    "colab_type": "code",
    "id": "Gc-uT0qfUTDY"
   },
   "outputs": [],
   "source": [
    "## Try this as well. takes a long time!\n",
    "lasso_coefs = []\n",
    "alphas      = np.logspace(-6, 1, 1000)"
   ]
  },
  {
   "cell_type": "code",
   "execution_count": null,
   "metadata": {
    "colab": {},
    "colab_type": "code",
    "id": "BRt0hUgsUTDa"
   },
   "outputs": [],
   "source": [
    "lasso_coefs = []\n",
    "alphas      = np.logspace(-2, 0.5, 2)"
   ]
  },
  {
   "cell_type": "code",
   "execution_count": null,
   "metadata": {
    "colab": {},
    "colab_type": "code",
    "id": "8R72zp-YUTDc"
   },
   "outputs": [],
   "source": [
    "for alpha in alphas:\n",
    "    lasso_lm.set_params(alpha = alpha).fit(X_train, y_train)\n",
    "    lasso_coefs.append(lasso_lm.coef_)"
   ]
  },
  {
   "cell_type": "code",
   "execution_count": null,
   "metadata": {
    "colab": {
     "base_uri": "https://localhost:8080/",
     "height": 299
    },
    "colab_type": "code",
    "executionInfo": {
     "elapsed": 42071,
     "status": "ok",
     "timestamp": 1582468919734,
     "user": {
      "displayName": "Ivan Passoni",
      "photoUrl": "https://lh3.googleusercontent.com/a-/AAuE7mCHiiM7ZGaeo_O1-PlJS1x888RZkgkMZqn_hJGXWQ=s64",
      "userId": "10149849310241908499"
     },
     "user_tz": 300
    },
    "id": "WZckzKX1UTDe",
    "outputId": "8f11c324-f739-4ea3-f1eb-b088e91041cb"
   },
   "outputs": [],
   "source": [
    "df_coef = pd.DataFrame(lasso_coefs, index=alphas, columns = X_train.columns)\n",
    "title = 'Lasso coefficients as a function of the regularization'\n",
    "df_coef.plot(logx=True, title=title, legend = False)\n",
    "plt.xlabel('alpha')\n",
    "plt.ylabel('coefficients')\n",
    "plt.show()"
   ]
  },
  {
   "cell_type": "code",
   "execution_count": null,
   "metadata": {
    "colab": {},
    "colab_type": "code",
    "id": "QAkRd2bYUTDh",
    "outputId": "e742a612-ec20-4866-9e3a-98f33e4328af"
   },
   "outputs": [],
   "source": [
    "df_coef.iloc[:, np.random.choice(range(df_coef.shape[1]), size = 5, replace = False)].plot(logx=True, title=title)"
   ]
  },
  {
   "cell_type": "code",
   "execution_count": null,
   "metadata": {
    "colab": {},
    "colab_type": "code",
    "id": "iuaSRKq7UTDi"
   },
   "outputs": [],
   "source": [
    "coef_orders = []\n",
    "for row in df_coef.index:\n",
    "    coef_orders.extend([list(df_coef.loc[:,df_coef.loc[row, :] > 0.001].columns)])"
   ]
  },
  {
   "cell_type": "code",
   "execution_count": null,
   "metadata": {
    "colab": {},
    "colab_type": "code",
    "id": "niFyCqueUTDl",
    "outputId": "975156ac-0a57-4946-f5fd-d6f497d7a26c",
    "scrolled": false
   },
   "outputs": [],
   "source": [
    "last = []\n",
    "s = 0\n",
    "for i in sorted(np.unique(coef_orders), key = len):\n",
    "    print (set(i) - set(last))\n",
    "    s += len(set(i) - set(last))\n",
    "    last = i\n",
    "    \n",
    "print (s)"
   ]
  },
  {
   "cell_type": "code",
   "execution_count": null,
   "metadata": {
    "colab": {},
    "colab_type": "code",
    "id": "ILd59C-wUTDn",
    "outputId": "5e660c95-adcf-422c-a2a3-9cafdf25d9ae"
   },
   "outputs": [],
   "source": [
    "# sns.pairplot(hdf[['YearBuilt', 'YearRemodAdd', 'BsmtFinSF1', 'TotalBsmtSF', 'GrLivArea', 'GarageArea']])"
   ]
  },
  {
   "cell_type": "code",
   "execution_count": null,
   "metadata": {
    "colab": {},
    "colab_type": "code",
    "id": "sgvMfbSUUTDo",
    "outputId": "67e671d3-ee15-4813-9c1b-7bc18485bbbd"
   },
   "outputs": [],
   "source": [
    "corr = hdf.corr()\n",
    "\n",
    "f, ax = plt.subplots(figsize = (11,9))\n",
    "sns.heatmap(corr)"
   ]
  },
  {
   "cell_type": "code",
   "execution_count": null,
   "metadata": {
    "colab": {},
    "colab_type": "code",
    "id": "6979-v0iUTDq",
    "outputId": "1e5921a6-0da5-4d4d-874e-817e563890cd"
   },
   "outputs": [],
   "source": [
    "hdf.plot(kind = 'scatter', x = 'YearRemodAdd', y =  'SalePrice', logy = True)"
   ]
  },
  {
   "cell_type": "code",
   "execution_count": null,
   "metadata": {
    "colab": {},
    "colab_type": "code",
    "id": "meXyu9aCUTDt",
    "outputId": "ef264a21-44e7-47c0-bc17-b9f5301e43b3"
   },
   "outputs": [],
   "source": [
    "hdf.plot(kind = 'scatter', x = 'YearBuilt', y =  'SalePrice', logy = True)"
   ]
  },
  {
   "cell_type": "markdown",
   "metadata": {},
   "source": [
    "# ------------------------------------------------------------------------------------------"
   ]
  },
  {
   "cell_type": "markdown",
   "metadata": {
    "colab_type": "text",
    "id": "q4UVwsCaUTDw"
   },
   "source": [
    "# Grid search CV in lasso regression"
   ]
  },
  {
   "cell_type": "code",
   "execution_count": null,
   "metadata": {
    "colab": {},
    "colab_type": "code",
    "id": "YjkS70P-UTDw"
   },
   "outputs": [],
   "source": [
    "from sklearn.model_selection import GridSearchCV\n",
    "from sklearn.linear_model import Lasso"
   ]
  },
  {
   "cell_type": "code",
   "execution_count": null,
   "metadata": {
    "colab": {},
    "colab_type": "code",
    "id": "V62e7HxvUTDx"
   },
   "outputs": [],
   "source": [
    "lasso_gs = Lasso(max_iter = 1e7, warm_start = True, normalize = True)"
   ]
  },
  {
   "cell_type": "code",
   "execution_count": null,
   "metadata": {
    "colab": {},
    "colab_type": "code",
    "id": "WsXGoVI0UTD0"
   },
   "outputs": [],
   "source": [
    "grid_params = [{'alpha': np.logspace(-6, -2, 10)}]"
   ]
  },
  {
   "cell_type": "code",
   "execution_count": null,
   "metadata": {
    "colab": {},
    "colab_type": "code",
    "id": "cKz_jixcUTD2"
   },
   "outputs": [],
   "source": [
    "lasso_param_search = GridSearchCV(estimator = lasso_gs, \n",
    "                                  param_grid = grid_params, cv=10, \n",
    "                                  return_train_score=True,\n",
    "                                  scoring='r2', verbose=2)"
   ]
  },
  {
   "cell_type": "code",
   "execution_count": null,
   "metadata": {
    "colab": {
     "base_uri": "https://localhost:8080/",
     "height": 51
    },
    "colab_type": "code",
    "id": "OViSFLcyUTD3",
    "outputId": "d8e7395e-9deb-43c3-c583-0bfe5548827d"
   },
   "outputs": [],
   "source": [
    "lasso_param_search.fit(X_train, y_train)"
   ]
  },
  {
   "cell_type": "code",
   "execution_count": null,
   "metadata": {
    "colab": {},
    "colab_type": "code",
    "id": "z-OCyuplUTD5"
   },
   "outputs": [],
   "source": [
    "mean_test_score = lasso_param_search.cv_results_['mean_test_score']\n",
    "std_test_score = lasso_param_search.cv_results_['std_test_score']\n",
    "mean_train_score = lasso_param_search.cv_results_['mean_train_score']\n",
    "std_train_score = lasso_param_search.cv_results_['std_train_score']\n",
    "\n",
    "params = list(map(lambda s: s['alpha'], lasso_param_search.cv_results_['params']))"
   ]
  },
  {
   "cell_type": "code",
   "execution_count": null,
   "metadata": {
    "colab": {},
    "colab_type": "code",
    "id": "6XLWDSTfUTD7"
   },
   "outputs": [],
   "source": [
    "lasso_vis_df = pd.DataFrame({'param': params, 'mean_test_score': mean_test_score,\n",
    "                             'std_test_score': std_test_score, \n",
    "                             'mean_train_score':mean_train_score,\n",
    "                             'std_train_score': std_train_score})"
   ]
  },
  {
   "cell_type": "code",
   "execution_count": null,
   "metadata": {
    "colab": {
     "base_uri": "https://localhost:8080/",
     "height": 296
    },
    "colab_type": "code",
    "executionInfo": {
     "elapsed": 765,
     "status": "ok",
     "timestamp": 1582470837104,
     "user": {
      "displayName": "Ivan Passoni",
      "photoUrl": "https://lh3.googleusercontent.com/a-/AAuE7mCHiiM7ZGaeo_O1-PlJS1x888RZkgkMZqn_hJGXWQ=s64",
      "userId": "10149849310241908499"
     },
     "user_tz": 300
    },
    "id": "9t65MyyxUTD9",
    "outputId": "fbf23da5-60bd-4a7d-9a48-a4bf69a80f1e"
   },
   "outputs": [],
   "source": [
    "lasso_vis_df.plot(x = 'param', y = ['mean_train_score', 'mean_test_score'])"
   ]
  },
  {
   "cell_type": "code",
   "execution_count": null,
   "metadata": {},
   "outputs": [],
   "source": [
    "lasso_gs2 = Lasso(max_iter = 1e7, warm_start = True)"
   ]
  },
  {
   "cell_type": "code",
   "execution_count": null,
   "metadata": {},
   "outputs": [],
   "source": [
    "grid_params2 = [{'alpha': np.linspace(0.002, 0.004, 100)}]"
   ]
  },
  {
   "cell_type": "code",
   "execution_count": null,
   "metadata": {},
   "outputs": [],
   "source": [
    "lasso_param_search2 = GridSearchCV(estimator = lasso_gs2, \n",
    "                                  param_grid = grid_params2, cv=10, \n",
    "                                  return_train_score=True,\n",
    "                                  scoring='r2', verbose=2)"
   ]
  },
  {
   "cell_type": "code",
   "execution_count": null,
   "metadata": {},
   "outputs": [],
   "source": [
    "lasso_param_search2.fit(X_train, y_train)"
   ]
  },
  {
   "cell_type": "code",
   "execution_count": null,
   "metadata": {},
   "outputs": [],
   "source": [
    "mean_test_score = lasso_param_search2.cv_results_['mean_test_score']\n",
    "std_test_score = lasso_param_search2.cv_results_['std_test_score']\n",
    "mean_train_score = lasso_param_search2.cv_results_['mean_train_score']\n",
    "std_train_score = lasso_param_search2.cv_results_['std_train_score']\n",
    "\n",
    "params = list(map(lambda s: s['alpha'], lasso_param_search2.cv_results_['params']))"
   ]
  },
  {
   "cell_type": "code",
   "execution_count": null,
   "metadata": {},
   "outputs": [],
   "source": [
    "lasso_vis_df = pd.DataFrame({'param': params, 'mean_test_score': mean_test_score,\n",
    "                             'std_test_score': std_test_score, \n",
    "                             'mean_train_score':mean_train_score,\n",
    "                             'std_train_score': std_train_score})"
   ]
  },
  {
   "cell_type": "code",
   "execution_count": null,
   "metadata": {},
   "outputs": [],
   "source": [
    "lasso_vis_df.plot(x = 'param', y = ['mean_train_score', 'mean_test_score'])"
   ]
  },
  {
   "cell_type": "code",
   "execution_count": null,
   "metadata": {},
   "outputs": [],
   "source": [
    "best_alpha = lasso_param_search2.best_estimator_.get_params()['alpha']"
   ]
  },
  {
   "cell_type": "code",
   "execution_count": null,
   "metadata": {},
   "outputs": [],
   "source": [
    "y_predict = np.expm1(lasso_param_search2.predict(X_test.loc[:,X_test.columns != 'Id']))\n",
    "\n",
    "submission = pd.DataFrame({'Id': X_test['Id'], 'SalePrice': y_predict})\n",
    "submission"
   ]
  }
 ],
 "metadata": {
  "colab": {
   "name": "Ivan_notebook.ipynb",
   "provenance": [],
   "toc_visible": true
  },
  "kernelspec": {
   "display_name": "Python 3",
   "language": "python",
   "name": "python3"
  },
  "language_info": {
   "codemirror_mode": {
    "name": "ipython",
    "version": 3
   },
   "file_extension": ".py",
   "mimetype": "text/x-python",
   "name": "python",
   "nbconvert_exporter": "python",
   "pygments_lexer": "ipython3",
   "version": "3.7.4"
  }
 },
 "nbformat": 4,
 "nbformat_minor": 1
}
