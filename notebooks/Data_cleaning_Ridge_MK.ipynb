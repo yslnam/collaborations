{
 "cells": [
  {
   "cell_type": "code",
   "execution_count": 1,
   "metadata": {},
   "outputs": [],
   "source": [
    "import pandas as pd\n",
    "import numpy as np\n",
    "import matplotlib.pyplot as plt\n",
    "\n",
    "%matplotlib inline"
   ]
  },
  {
   "cell_type": "code",
   "execution_count": 2,
   "metadata": {},
   "outputs": [],
   "source": [
    "housing_prices_df_raw = pd.read_csv('../src/data/train.csv')"
   ]
  },
  {
   "cell_type": "code",
   "execution_count": 3,
   "metadata": {},
   "outputs": [],
   "source": [
    "hdf = housing_prices_df_raw.copy()\n",
    "hdf = hdf.drop(columns = 'Id')"
   ]
  },
  {
   "cell_type": "markdown",
   "metadata": {},
   "source": [
    "# Feature Selection/Data Wragling"
   ]
  },
  {
   "cell_type": "code",
   "execution_count": 4,
   "metadata": {},
   "outputs": [],
   "source": [
    "# Feature list\n",
    "geo_feat = ['LotFrontage', 'LotArea', 'LotShape', 'LandContour', 'LandSlope', \n",
    "            'LotConfig']\n",
    "location_feat = ['MSZoning', 'Street', 'Alley', 'Neighborhood', 'Condition1',\n",
    "                'Condition2']\n",
    "house_feat = ['MSSubClass', 'BldgType', 'HouseStyle',                                   #Types\n",
    "              \n",
    "              'OverallQual', 'OverallCond',                                             #Quality(general)\n",
    "             \n",
    "              'RoofStyle', 'RoofMatl',                                                  #Roof \n",
    "              \n",
    "              'Exterior1st', 'Exterior2nd', 'ExterQual', 'ExterCond', 'Foundation',     #Material and cond\n",
    "              \n",
    "              'MasVnrType', 'MasVnrArea',                                               #Mansonry\n",
    "              \n",
    "              'BsmtCond', 'BsmtExposure', 'BsmtFinType1', 'BsmtFinSF1', 'BsmtQual',     #Basement variables\n",
    "              'BsmtFinSF2', 'BsmtUnfSF', 'TotalBsmtSF', 'BsmtFinType2', 'BsmtFullBath',\n",
    "              'BsmtHalfBath',\n",
    "\n",
    "              'Heating', 'HeatingQC', 'CentralAir',                                      #Heating/AC\n",
    "               \n",
    "              'Electrical', 'Utilities',                                                 #Energy\n",
    "               \n",
    "              '1stFlrSF', '2ndFlrSF', 'LowQualFinSF', 'GrLivArea',                       #Some house measures\n",
    "               \n",
    "               'FullBath', 'HalfBath', 'Bedroom', 'Kitchen', 'TotRmsAbvGrd',\n",
    "               'Fireplaces',\n",
    "               \n",
    "               'KitchenQual', 'FireplaceQu',\n",
    "               \n",
    "               'GarageType', 'GarageYrBlt', 'GarageFinish', 'GarageCars', 'GarageArea',  #Garage variables\n",
    "               'GarageQual', 'GarageCond', \n",
    "               \n",
    "               'Functional',\n",
    "               'PavedDrive',\n",
    "               'WoodDeckSF',\n",
    "              \n",
    "               'OpenPorchSF', 'EnclosedPorch', '3SsnPorch', 'ScreenPorch',               #Porch\n",
    "\n",
    "               'PoolArea', 'PoolQC',                                                     #Pool\n",
    "\n",
    "               'Fence', \n",
    "              \n",
    "               'MiscFeature', 'MiscVal']\n",
    "\n",
    "time_feat = ['MoSold', 'YrSold', 'YearBuilt', 'YearRemodAdd']             \n",
    "sale_feat = ['SaleType', 'SaleCondition']\n",
    "\n",
    "feat = geo_feat + location_feat + house_feat + time_feat + sale_feat"
   ]
  },
  {
   "cell_type": "code",
   "execution_count": 5,
   "metadata": {},
   "outputs": [
    {
     "name": "stdout",
     "output_type": "stream",
     "text": [
      "{'BedroomAbvGr', 'KitchenAbvGr', 'SalePrice'}\n"
     ]
    }
   ],
   "source": [
    "print(set(hdf.columns) - set(feat)) # 2 parameters are not described in the kaggle page. "
   ]
  },
  {
   "cell_type": "code",
   "execution_count": 6,
   "metadata": {},
   "outputs": [],
   "source": [
    "#LotShape?, BsmtExposure?\n",
    "ord_feat  = ['OverallQual', 'OverallCond', 'ExterQual', 'ExterCond', 'BsmtCond',\n",
    "             'BsmtFullBath','BsmtHalfBath', \n",
    "             \n",
    "             'FullBath', 'HalfBath', 'TotRmsAbvGrd', 'Fireplaces', #Is it?\n",
    "#              'Bedroom', 'Kitchen', #Not in dataframe??\n",
    "             \n",
    "             'KitchenQual', 'FireplaceQu', 'GarageCars', 'GarageQual', 'GarageCond',\n",
    "             'Functional', 'PoolQC', 'BsmtQual'\n",
    "             ]\n",
    "\n",
    "\n",
    "cat_feat  = ['LotShape', 'LandContour', 'LotConfig', 'MSZoning', 'Street', \n",
    "             'Alley', 'Neighborhood', 'Condition1', 'Condition2', 'MSSubClass', \n",
    "             'BldgType', 'HouseStyle', 'LandSlope', 'Exterior1st', 'Exterior2nd',\n",
    "             'Foundation', 'MasVnrType', 'BsmtExposure', 'BsmtFinType1','BsmtFinType2',\n",
    "             'Heating', 'HeatingQC', 'CentralAir', 'Electrical', 'Utilities',\n",
    "             'GarageType', 'GarageFinish', 'PavedDrive', 'Fence','MiscFeature',\n",
    "             'SaleType', 'SaleCondition', 'RoofStyle', 'RoofMatl'\n",
    "            ]\n",
    "\n",
    "\n",
    "cont_feat = ['LotFrontage', 'LotArea', 'MasVnrArea', 'BsmtFinSF1', 'BsmtFinSF2',\n",
    "             'BsmtUnfSF', 'TotalBsmtSF', '1stFlrSF', '2ndFlrSF', 'LowQualFinSF', \n",
    "             'GrLivArea', 'GarageYrBlt', 'GarageArea', 'WoodDeckSF', 'OpenPorchSF',\n",
    "             'EnclosedPorch', '3SsnPorch', 'ScreenPorch', 'PoolArea', 'MiscVal',\n",
    "             \n",
    "             'MoSold', 'YrSold', 'YearBuilt', 'YearRemodAdd' #?\n",
    "            ]\n"
   ]
  },
  {
   "cell_type": "markdown",
   "metadata": {},
   "source": [
    "# Removing some outliers"
   ]
  },
  {
   "cell_type": "code",
   "execution_count": 7,
   "metadata": {},
   "outputs": [
    {
     "data": {
      "image/png": "[encoded data removed]",
      "text/plain": [
       "<Figure size 432x288 with 1 Axes>"
      ]
     },
     "metadata": {
      "needs_background": "light"
     },
     "output_type": "display_data"
    }
   ],
   "source": [
    "hdf.plot(kind = 'scatter', x = 'GrLivArea', y = 'SalePrice')\n",
    "hdf = hdf[hdf['GrLivArea'] < 4000]"
   ]
  },
  {
   "cell_type": "markdown",
   "metadata": {},
   "source": [
    "The plot justifies the removal of hourses with 'GrLivArea' > 4000 (high leverage)."
   ]
  },
  {
   "cell_type": "code",
   "execution_count": 8,
   "metadata": {},
   "outputs": [
    {
     "data": {
      "image/png": "[encoded data removed]",
      "text/plain": [
       "<Figure size 432x288 with 1 Axes>"
      ]
     },
     "metadata": {
      "needs_background": "light"
     },
     "output_type": "display_data"
    }
   ],
   "source": [
    "hdf.plot(kind = 'scatter', x = 'LotArea', y = 'SalePrice')\n",
    "hdf = hdf.loc[hdf['LotArea'] < 100000,:]"
   ]
  },
  {
   "cell_type": "markdown",
   "metadata": {},
   "source": [
    "The plot justifies the removal of hourses with 'LotArea' > 100000 (high leverage)."
   ]
  },
  {
   "cell_type": "code",
   "execution_count": 9,
   "metadata": {},
   "outputs": [
    {
     "data": {
      "image/png": "[encoded data removed]",
      "text/plain": [
       "<Figure size 432x288 with 1 Axes>"
      ]
     },
     "metadata": {
      "needs_background": "light"
     },
     "output_type": "display_data"
    }
   ],
   "source": [
    "hdf.plot(kind = 'scatter', x = 'LotFrontage', y = 'SalePrice')\n",
    "hdf = hdf.loc[hdf['LotFrontage'] < 250, ]"
   ]
  },
  {
   "cell_type": "markdown",
   "metadata": {},
   "source": [
    "## Finding NA's"
   ]
  },
  {
   "cell_type": "code",
   "execution_count": 10,
   "metadata": {},
   "outputs": [
    {
     "data": {
      "text/plain": [
       "Alley           1109\n",
       "MasVnrType         6\n",
       "MasVnrArea         6\n",
       "BsmtQual          31\n",
       "BsmtCond          31\n",
       "BsmtExposure      32\n",
       "BsmtFinType1      31\n",
       "BsmtFinType2      32\n",
       "Electrical         1\n",
       "FireplaceQu      600\n",
       "GarageType        74\n",
       "GarageYrBlt       74\n",
       "GarageFinish      74\n",
       "GarageQual        74\n",
       "GarageCond        74\n",
       "PoolQC          1191\n",
       "Fence            968\n",
       "MiscFeature     1156\n",
       "dtype: int64"
      ]
     },
     "execution_count": 10,
     "metadata": {},
     "output_type": "execute_result"
    }
   ],
   "source": [
    "hdf.loc[:,hdf.isnull().sum() > 0]\n",
    "hdf.isnull().sum()[hdf.isnull().sum() > 0]"
   ]
  },
  {
   "cell_type": "code",
   "execution_count": 11,
   "metadata": {},
   "outputs": [
    {
     "data": {
      "text/plain": [
       "Alley           92.80\n",
       "MasVnrType       0.50\n",
       "MasVnrArea       0.50\n",
       "BsmtQual         2.59\n",
       "BsmtCond         2.59\n",
       "BsmtExposure     2.68\n",
       "BsmtFinType1     2.59\n",
       "BsmtFinType2     2.68\n",
       "Electrical       0.08\n",
       "FireplaceQu     50.21\n",
       "GarageType       6.19\n",
       "GarageYrBlt      6.19\n",
       "GarageFinish     6.19\n",
       "GarageQual       6.19\n",
       "GarageCond       6.19\n",
       "PoolQC          99.67\n",
       "Fence           81.00\n",
       "MiscFeature     96.74\n",
       "dtype: float64"
      ]
     },
     "execution_count": 11,
     "metadata": {},
     "output_type": "execute_result"
    }
   ],
   "source": [
    "# In percentage\n",
    "round(100*hdf.isnull().sum()[hdf.isnull().sum() > 0]/len(hdf), 2)"
   ]
  },
  {
   "cell_type": "code",
   "execution_count": 12,
   "metadata": {},
   "outputs": [],
   "source": [
    "hdf.loc[hdf['Fence'].isnull(),'Fence'] = 'NoFen'\n",
    "hdf.loc[hdf['PoolQC'].isnull(), 'PoolQC'] = 'NoPool'\n",
    "hdf.loc[hdf['FireplaceQu'].isnull(), 'FireplaceQu'] = 'NoFir'\n",
    "hdf.loc[hdf['Alley'].isnull(), 'Alley'] = 'NoAcc'\n",
    "\n",
    "for gar in ['GarageFinish', 'GarageQual', 'GarageCond', 'GarageType']:\n",
    "    hdf.loc[hdf[gar].isnull(), gar] = 'NoGar'\n",
    "\n",
    "# There should be a better way to do this\n",
    "hdf.loc[hdf['GarageYrBlt'].isnull(), 'GarageYrBlt'] = round(np.mean(hdf['GarageYrBlt'])) \n",
    "\n",
    "\n",
    "for bsmt in ['BsmtQual','BsmtCond','BsmtExposure','BsmtFinType1','BsmtFinType2']:\n",
    "    hdf.loc[hdf[bsmt].isnull(), bsmt] = 'NoBsmt'\n",
    "\n",
    "hdf = hdf.drop(columns = 'MiscFeature') # drop feature (since price of feature in miscval)\n",
    "cat_feat.remove('MiscFeature')\n",
    "house_feat.remove('MiscFeature')\n",
    "feat.remove('MiscFeature')"
   ]
  },
  {
   "cell_type": "code",
   "execution_count": 13,
   "metadata": {},
   "outputs": [
    {
     "data": {
      "text/plain": [
       "MasVnrType    0.50\n",
       "MasVnrArea    0.50\n",
       "Electrical    0.08\n",
       "dtype: float64"
      ]
     },
     "execution_count": 13,
     "metadata": {},
     "output_type": "execute_result"
    }
   ],
   "source": [
    "round(100*hdf.isnull().sum()[hdf.isnull().sum() > 0]/len(hdf), 2)"
   ]
  },
  {
   "cell_type": "markdown",
   "metadata": {},
   "source": [
    "We should input LotFrontage based on Lot area (a simple linear regression should be good). For now, I will just drop the column. The other nas I will remove the observation."
   ]
  },
  {
   "cell_type": "code",
   "execution_count": 14,
   "metadata": {},
   "outputs": [],
   "source": [
    "hdf = hdf.drop(columns = 'LotFrontage')\n",
    "hdf = hdf.drop(labels = hdf.loc[hdf['MasVnrType'].isnull(),:].index)\n",
    "hdf = hdf.drop(labels = hdf.loc[hdf['Electrical'].isnull(),:].index)"
   ]
  },
  {
   "cell_type": "code",
   "execution_count": 15,
   "metadata": {},
   "outputs": [
    {
     "data": {
      "text/plain": [
       "Series([], dtype: float64)"
      ]
     },
     "execution_count": 15,
     "metadata": {},
     "output_type": "execute_result"
    }
   ],
   "source": [
    "round(100*hdf.isnull().sum()[hdf.isnull().sum() > 0]/len(hdf), 2)"
   ]
  },
  {
   "cell_type": "markdown",
   "metadata": {},
   "source": [
    "# Initialize"
   ]
  },
  {
   "cell_type": "code",
   "execution_count": 16,
   "metadata": {},
   "outputs": [],
   "source": [
    "from sklearn.model_selection import train_test_split\n",
    "from sklearn.linear_model import LinearRegression\n",
    "from sklearn.feature_selection import VarianceThreshold\n",
    "\n",
    "from scipy import stats"
   ]
  },
  {
   "cell_type": "code",
   "execution_count": 17,
   "metadata": {},
   "outputs": [],
   "source": [
    "X = hdf.loc[:,'MSSubClass':'SaleCondition']\n",
    "X = pd.get_dummies(X, columns = cat_feat+ord_feat, drop_first=True)\n",
    "y = hdf.loc[:, 'SalePrice']"
   ]
  },
  {
   "cell_type": "code",
   "execution_count": 18,
   "metadata": {},
   "outputs": [],
   "source": [
    "np.random.seed(0)\n",
    "X_train, X_test, y_train, y_test = train_test_split(X, y)"
   ]
  },
  {
   "cell_type": "markdown",
   "metadata": {},
   "source": [
    "### We fit a simple linear model for 'GrLivArea' with Sale price in log"
   ]
  },
  {
   "cell_type": "code",
   "execution_count": 19,
   "metadata": {},
   "outputs": [
    {
     "data": {
      "text/plain": [
       "(array([ 87., 461., 337., 162.,  78.,  34.,  19.,   4.,   3.,   3.]),\n",
       " array([ 34900.,  93910., 152920., 211930., 270940., 329950., 388960.,\n",
       "        447970., 506980., 565990., 625000.]),\n",
       " <a list of 10 Patch objects>)"
      ]
     },
     "execution_count": 19,
     "metadata": {},
     "output_type": "execute_result"
    },
    {
     "data": {
      "image/png": "[encoded data removed]",
      "text/plain": [
       "<Figure size 432x288 with 1 Axes>"
      ]
     },
     "metadata": {
      "needs_background": "light"
     },
     "output_type": "display_data"
    }
   ],
   "source": [
    "plt.hist(y)"
   ]
  },
  {
   "cell_type": "code",
   "execution_count": 20,
   "metadata": {},
   "outputs": [
    {
     "data": {
      "text/plain": [
       "(array([  5.,   9.,  31., 127., 343., 319., 197., 110.,  38.,   9.]),\n",
       " array([10.46024211, 10.74876859, 11.03729507, 11.32582155, 11.61434804,\n",
       "        11.90287452, 12.191401  , 12.47992748, 12.76845396, 13.05698045,\n",
       "        13.34550693]),\n",
       " <a list of 10 Patch objects>)"
      ]
     },
     "execution_count": 20,
     "metadata": {},
     "output_type": "execute_result"
    },
    {
     "data": {
      "image/png": "[encoded data removed]",
      "text/plain": [
       "<Figure size 432x288 with 1 Axes>"
      ]
     },
     "metadata": {
      "needs_background": "light"
     },
     "output_type": "display_data"
    }
   ],
   "source": [
    "plt.hist(np.log(y))"
   ]
  },
  {
   "cell_type": "code",
   "execution_count": 21,
   "metadata": {},
   "outputs": [
    {
     "data": {
      "text/plain": [
       "LinearRegression(copy_X=True, fit_intercept=True, n_jobs=None, normalize=False)"
      ]
     },
     "execution_count": 21,
     "metadata": {},
     "output_type": "execute_result"
    }
   ],
   "source": [
    "slm_LivArea_log = LinearRegression()\n",
    "slm_LivArea_log.fit(X_train[['GrLivArea']], np.log(y_train))"
   ]
  },
  {
   "cell_type": "code",
   "execution_count": 22,
   "metadata": {},
   "outputs": [
    {
     "data": {
      "text/plain": [
       "[<matplotlib.lines.Line2D at 0x1a1bd35310>]"
      ]
     },
     "execution_count": 22,
     "metadata": {},
     "output_type": "execute_result"
    },
    {
     "data": {
      "image/png": "[encoded data removed]",
      "text/plain": [
       "<Figure size 432x288 with 1 Axes>"
      ]
     },
     "metadata": {
      "needs_background": "light"
     },
     "output_type": "display_data"
    }
   ],
   "source": [
    "plt.scatter(X_train[['GrLivArea']], np.log(y_train))\n",
    "plt.plot(X_train[['GrLivArea']], slm_LivArea_log.predict(X_train[['GrLivArea']]))"
   ]
  },
  {
   "cell_type": "code",
   "execution_count": 23,
   "metadata": {},
   "outputs": [
    {
     "data": {
      "text/plain": [
       "0.5162229277955444"
      ]
     },
     "execution_count": 23,
     "metadata": {},
     "output_type": "execute_result"
    }
   ],
   "source": [
    "slm_LivArea_log.score(X_test[['GrLivArea']], np.log(y_test))"
   ]
  },
  {
   "cell_type": "markdown",
   "metadata": {},
   "source": [
    "# Drop columns with low variance"
   ]
  },
  {
   "cell_type": "code",
   "execution_count": 24,
   "metadata": {},
   "outputs": [],
   "source": [
    "vr = []\n",
    "for col in X.columns:\n",
    "    vr.append((np.var(X[col]), col))"
   ]
  },
  {
   "cell_type": "code",
   "execution_count": 25,
   "metadata": {},
   "outputs": [],
   "source": [
    "X_LV = X.copy()\n",
    "X_LV = X_LV.drop(columns = list(map(lambda x: x[1], filter(lambda x: x[0] > .8*(1-.8), vr))))"
   ]
  },
  {
   "cell_type": "code",
   "execution_count": 26,
   "metadata": {},
   "outputs": [],
   "source": [
    "# Normalization\n",
    "for col in X_LV.columns:\n",
    "    X_LV[col] = (X_LV[col] - np.mean(X_LV[col]))/np.std(X_LV[col], ddof=1)"
   ]
  },
  {
   "cell_type": "markdown",
   "metadata": {},
   "source": [
    "# Lasso feature selection"
   ]
  },
  {
   "cell_type": "code",
   "execution_count": 27,
   "metadata": {},
   "outputs": [],
   "source": [
    "from sklearn.linear_model import Lasso"
   ]
  },
  {
   "cell_type": "code",
   "execution_count": 28,
   "metadata": {},
   "outputs": [],
   "source": [
    "# Normalization of the columns\n",
    "\n",
    "for col in X.columns:\n",
    "    X[col] = (X[col] - np.mean(X[col]))/np.std(X[col], ddof=1)"
   ]
  },
  {
   "cell_type": "code",
   "execution_count": 29,
   "metadata": {},
   "outputs": [],
   "source": [
    "lasso_lm = Lasso(max_iter=1e7, warm_start=True)"
   ]
  },
  {
   "cell_type": "code",
   "execution_count": 30,
   "metadata": {},
   "outputs": [],
   "source": [
    "lasso_coefs = []\n",
    "alphas      = np.logspace(-1, 5, 1000)"
   ]
  },
  {
   "cell_type": "code",
   "execution_count": 31,
   "metadata": {},
   "outputs": [
    {
     "ename": "KeyboardInterrupt",
     "evalue": "",
     "output_type": "error",
     "traceback": [
      "\u001b[0;31m---------------------------------------------------------------------------\u001b[0m",
      "\u001b[0;31mKeyboardInterrupt\u001b[0m                         Traceback (most recent call last)",
      "\u001b[0;32m<ipython-input-31-0b6b25d7281d>\u001b[0m in \u001b[0;36m<module>\u001b[0;34m\u001b[0m\n\u001b[1;32m      1\u001b[0m \u001b[0;32mfor\u001b[0m \u001b[0malpha\u001b[0m \u001b[0;32min\u001b[0m \u001b[0malphas\u001b[0m\u001b[0;34m:\u001b[0m\u001b[0;34m\u001b[0m\u001b[0;34m\u001b[0m\u001b[0m\n\u001b[0;32m----> 2\u001b[0;31m     \u001b[0mlasso_lm\u001b[0m\u001b[0;34m.\u001b[0m\u001b[0mset_params\u001b[0m\u001b[0;34m(\u001b[0m\u001b[0malpha\u001b[0m \u001b[0;34m=\u001b[0m \u001b[0malpha\u001b[0m\u001b[0;34m)\u001b[0m\u001b[0;34m.\u001b[0m\u001b[0mfit\u001b[0m\u001b[0;34m(\u001b[0m\u001b[0mX_LV\u001b[0m\u001b[0;34m,\u001b[0m \u001b[0my\u001b[0m\u001b[0;34m)\u001b[0m\u001b[0;34m\u001b[0m\u001b[0;34m\u001b[0m\u001b[0m\n\u001b[0m\u001b[1;32m      3\u001b[0m     \u001b[0mlasso_coefs\u001b[0m\u001b[0;34m.\u001b[0m\u001b[0mappend\u001b[0m\u001b[0;34m(\u001b[0m\u001b[0mlasso_lm\u001b[0m\u001b[0;34m.\u001b[0m\u001b[0mcoef_\u001b[0m\u001b[0;34m)\u001b[0m\u001b[0;34m\u001b[0m\u001b[0;34m\u001b[0m\u001b[0m\n",
      "\u001b[0;32m/opt/anaconda3/lib/python3.7/site-packages/sklearn/linear_model/coordinate_descent.py\u001b[0m in \u001b[0;36mfit\u001b[0;34m(self, X, y, check_input)\u001b[0m\n\u001b[1;32m    750\u001b[0m                           \u001b[0mrandom_state\u001b[0m\u001b[0;34m=\u001b[0m\u001b[0mself\u001b[0m\u001b[0;34m.\u001b[0m\u001b[0mrandom_state\u001b[0m\u001b[0;34m,\u001b[0m\u001b[0;34m\u001b[0m\u001b[0;34m\u001b[0m\u001b[0m\n\u001b[1;32m    751\u001b[0m                           \u001b[0mselection\u001b[0m\u001b[0;34m=\u001b[0m\u001b[0mself\u001b[0m\u001b[0;34m.\u001b[0m\u001b[0mselection\u001b[0m\u001b[0;34m,\u001b[0m\u001b[0;34m\u001b[0m\u001b[0;34m\u001b[0m\u001b[0m\n\u001b[0;32m--> 752\u001b[0;31m                           check_input=False)\n\u001b[0m\u001b[1;32m    753\u001b[0m             \u001b[0mcoef_\u001b[0m\u001b[0;34m[\u001b[0m\u001b[0mk\u001b[0m\u001b[0;34m]\u001b[0m \u001b[0;34m=\u001b[0m \u001b[0mthis_coef\u001b[0m\u001b[0;34m[\u001b[0m\u001b[0;34m:\u001b[0m\u001b[0;34m,\u001b[0m \u001b[0;36m0\u001b[0m\u001b[0;34m]\u001b[0m\u001b[0;34m\u001b[0m\u001b[0;34m\u001b[0m\u001b[0m\n\u001b[1;32m    754\u001b[0m             \u001b[0mdual_gaps_\u001b[0m\u001b[0;34m[\u001b[0m\u001b[0mk\u001b[0m\u001b[0;34m]\u001b[0m \u001b[0;34m=\u001b[0m \u001b[0mthis_dual_gap\u001b[0m\u001b[0;34m[\u001b[0m\u001b[0;36m0\u001b[0m\u001b[0;34m]\u001b[0m\u001b[0;34m\u001b[0m\u001b[0;34m\u001b[0m\u001b[0m\n",
      "\u001b[0;32m/opt/anaconda3/lib/python3.7/site-packages/sklearn/linear_model/coordinate_descent.py\u001b[0m in \u001b[0;36menet_path\u001b[0;34m(X, y, l1_ratio, eps, n_alphas, alphas, precompute, Xy, copy_X, coef_init, verbose, return_n_iter, positive, check_input, **params)\u001b[0m\n\u001b[1;32m    473\u001b[0m             model = cd_fast.enet_coordinate_descent(\n\u001b[1;32m    474\u001b[0m                 \u001b[0mcoef_\u001b[0m\u001b[0;34m,\u001b[0m \u001b[0ml1_reg\u001b[0m\u001b[0;34m,\u001b[0m \u001b[0ml2_reg\u001b[0m\u001b[0;34m,\u001b[0m \u001b[0mX\u001b[0m\u001b[0;34m,\u001b[0m \u001b[0my\u001b[0m\u001b[0;34m,\u001b[0m \u001b[0mmax_iter\u001b[0m\u001b[0;34m,\u001b[0m \u001b[0mtol\u001b[0m\u001b[0;34m,\u001b[0m \u001b[0mrng\u001b[0m\u001b[0;34m,\u001b[0m \u001b[0mrandom\u001b[0m\u001b[0;34m,\u001b[0m\u001b[0;34m\u001b[0m\u001b[0;34m\u001b[0m\u001b[0m\n\u001b[0;32m--> 475\u001b[0;31m                 positive)\n\u001b[0m\u001b[1;32m    476\u001b[0m         \u001b[0;32melse\u001b[0m\u001b[0;34m:\u001b[0m\u001b[0;34m\u001b[0m\u001b[0;34m\u001b[0m\u001b[0m\n\u001b[1;32m    477\u001b[0m             raise ValueError(\"Precompute should be one of True, False, \"\n",
      "\u001b[0;31mKeyboardInterrupt\u001b[0m: "
     ]
    }
   ],
   "source": [
    "for alpha in alphas:\n",
    "    lasso_lm.set_params(alpha = alpha).fit(X_LV, y)\n",
    "    lasso_coefs.append(lasso_lm.coef_)"
   ]
  },
  {
   "cell_type": "code",
   "execution_count": null,
   "metadata": {},
   "outputs": [],
   "source": [
    "df_coef = pd.DataFrame(lasso_coefs, index=alphas, columns = X_LV.columns)\n",
    "title = 'Lasso coefficients as a function of the regularization'\n",
    "df_coef.plot(logx=True, title=title, legend = False)\n",
    "plt.xlabel('alpha')\n",
    "plt.ylabel('coefficients')\n",
    "plt.show()"
   ]
  },
  {
   "cell_type": "code",
   "execution_count": null,
   "metadata": {},
   "outputs": [],
   "source": [
    "df_coef.iloc[:, np.random.choice(range(df_coef.shape[1]), size = 5, replace = False)].plot(logx=True, title=title)"
   ]
  },
  {
   "cell_type": "code",
   "execution_count": null,
   "metadata": {},
   "outputs": [],
   "source": [
    "df_coef"
   ]
  },
  {
   "cell_type": "markdown",
   "metadata": {},
   "source": [
    "# Ridge Feature Selection\n"
   ]
  },
  {
   "cell_type": "code",
   "execution_count": 32,
   "metadata": {},
   "outputs": [],
   "source": [
    "from sklearn.linear_model import Ridge"
   ]
  },
  {
   "cell_type": "code",
   "execution_count": 44,
   "metadata": {},
   "outputs": [],
   "source": [
    "ridge_lm = Ridge(max_iter = 1e7)"
   ]
  },
  {
   "cell_type": "code",
   "execution_count": 48,
   "metadata": {},
   "outputs": [],
   "source": [
    "ridge_coefs = []\n",
    "ridge_alphas = np.logspace(-1, 7, 1000)"
   ]
  },
  {
   "cell_type": "code",
   "execution_count": 49,
   "metadata": {},
   "outputs": [],
   "source": [
    "for alpha in ridge_alphas:\n",
    "    ridge_lm.set_params(alpha = alpha).fit(X_LV, y)\n",
    "    ridge_coefs.append(ridge_lm.coef_)"
   ]
  },
  {
   "cell_type": "code",
   "execution_count": 50,
   "metadata": {},
   "outputs": [
    {
     "data": {
      "image/png": "[encoded data removed]",
      "text/plain": [
       "<Figure size 432x288 with 1 Axes>"
      ]
     },
     "metadata": {
      "needs_background": "light"
     },
     "output_type": "display_data"
    }
   ],
   "source": [
    "ridge_df_coef = pd.DataFrame(ridge_coefs, index=ridge_alphas, columns = X_LV.columns)\n",
    "title = 'Ridge coefficients as a function of the regularization'\n",
    "ridge_df_coef.plot(logx=True, title=title, legend = False)\n",
    "plt.xlabel('alpha')\n",
    "plt.ylabel('Coefficients')\n",
    "plt.show()"
   ]
  },
  {
   "cell_type": "code",
   "execution_count": 52,
   "metadata": {},
   "outputs": [
    {
     "data": {
      "text/plain": [
       "<matplotlib.axes._subplots.AxesSubplot at 0x1a1e042890>"
      ]
     },
     "execution_count": 52,
     "metadata": {},
     "output_type": "execute_result"
    },
    {
     "data": {
      "image/png": "[encoded data removed]",
      "text/plain": [
       "<Figure size 432x288 with 1 Axes>"
      ]
     },
     "metadata": {
      "needs_background": "light"
     },
     "output_type": "display_data"
    }
   ],
   "source": [
    "ridge_df_coef.iloc[:, np.random.choice(range(ridge_df_coef.shape[1]), size = 5, replace = False)].plot(logx=True, title=title)"
   ]
  },
  {
   "cell_type": "code",
   "execution_count": 53,
   "metadata": {},
   "outputs": [
    {
     "data": {
      "text/html": [
       "<div>\n",
       "<style scoped>\n",
       "    .dataframe tbody tr th:only-of-type {\n",
       "        vertical-align: middle;\n",
       "    }\n",
       "\n",
       "    .dataframe tbody tr th {\n",
       "        vertical-align: top;\n",
       "    }\n",
       "\n",
       "    .dataframe thead th {\n",
       "        text-align: right;\n",
       "    }\n",
       "</style>\n",
       "<table border=\"1\" class=\"dataframe\">\n",
       "  <thead>\n",
       "    <tr style=\"text-align: right;\">\n",
       "      <th></th>\n",
       "      <th>KitchenAbvGr</th>\n",
       "      <th>LotShape_IR2</th>\n",
       "      <th>LotShape_IR3</th>\n",
       "      <th>LandContour_HLS</th>\n",
       "      <th>LandContour_Low</th>\n",
       "      <th>LandContour_Lvl</th>\n",
       "      <th>LotConfig_CulDSac</th>\n",
       "      <th>LotConfig_FR2</th>\n",
       "      <th>LotConfig_FR3</th>\n",
       "      <th>MSZoning_FV</th>\n",
       "      <th>...</th>\n",
       "      <th>Functional_Maj2</th>\n",
       "      <th>Functional_Min1</th>\n",
       "      <th>Functional_Min2</th>\n",
       "      <th>Functional_Mod</th>\n",
       "      <th>Functional_Typ</th>\n",
       "      <th>PoolQC_Fa</th>\n",
       "      <th>PoolQC_Gd</th>\n",
       "      <th>PoolQC_NoPool</th>\n",
       "      <th>BsmtQual_Fa</th>\n",
       "      <th>BsmtQual_NoBsmt</th>\n",
       "    </tr>\n",
       "  </thead>\n",
       "  <tbody>\n",
       "    <tr>\n",
       "      <td>1.000000e-01</td>\n",
       "      <td>-4823.449701</td>\n",
       "      <td>-42.260526</td>\n",
       "      <td>2267.042323</td>\n",
       "      <td>-685.511125</td>\n",
       "      <td>-1490.473420</td>\n",
       "      <td>1839.663239</td>\n",
       "      <td>5081.883467</td>\n",
       "      <td>-260.728495</td>\n",
       "      <td>-285.745588</td>\n",
       "      <td>2326.498076</td>\n",
       "      <td>...</td>\n",
       "      <td>-2183.490898</td>\n",
       "      <td>-678.378125</td>\n",
       "      <td>-412.233673</td>\n",
       "      <td>1356.168709</td>\n",
       "      <td>297.409292</td>\n",
       "      <td>-3027.604617</td>\n",
       "      <td>-995.911154</td>\n",
       "      <td>-4058.889799</td>\n",
       "      <td>-136.754330</td>\n",
       "      <td>-1261.437070</td>\n",
       "    </tr>\n",
       "    <tr>\n",
       "      <td>1.018610e-01</td>\n",
       "      <td>-4823.370686</td>\n",
       "      <td>-41.946156</td>\n",
       "      <td>2267.043103</td>\n",
       "      <td>-685.507849</td>\n",
       "      <td>-1490.694947</td>\n",
       "      <td>1839.655937</td>\n",
       "      <td>5081.788165</td>\n",
       "      <td>-260.767902</td>\n",
       "      <td>-285.731909</td>\n",
       "      <td>2326.549024</td>\n",
       "      <td>...</td>\n",
       "      <td>-2183.441633</td>\n",
       "      <td>-678.392834</td>\n",
       "      <td>-412.161403</td>\n",
       "      <td>1356.220740</td>\n",
       "      <td>297.472736</td>\n",
       "      <td>-3027.505307</td>\n",
       "      <td>-995.789994</td>\n",
       "      <td>-4058.600068</td>\n",
       "      <td>-136.775579</td>\n",
       "      <td>-1261.375969</td>\n",
       "    </tr>\n",
       "    <tr>\n",
       "      <td>1.037567e-01</td>\n",
       "      <td>-4823.290219</td>\n",
       "      <td>-41.626603</td>\n",
       "      <td>2267.043870</td>\n",
       "      <td>-685.504479</td>\n",
       "      <td>-1490.920132</td>\n",
       "      <td>1839.648480</td>\n",
       "      <td>5081.691317</td>\n",
       "      <td>-260.808020</td>\n",
       "      <td>-285.718004</td>\n",
       "      <td>2326.600894</td>\n",
       "      <td>...</td>\n",
       "      <td>-2183.391582</td>\n",
       "      <td>-678.407832</td>\n",
       "      <td>-412.088004</td>\n",
       "      <td>1356.273644</td>\n",
       "      <td>297.537166</td>\n",
       "      <td>-3027.404270</td>\n",
       "      <td>-995.666803</td>\n",
       "      <td>-4058.305467</td>\n",
       "      <td>-136.797176</td>\n",
       "      <td>-1261.313750</td>\n",
       "    </tr>\n",
       "    <tr>\n",
       "      <td>1.056876e-01</td>\n",
       "      <td>-4823.208272</td>\n",
       "      <td>-41.301792</td>\n",
       "      <td>2267.044623</td>\n",
       "      <td>-685.501012</td>\n",
       "      <td>-1491.149026</td>\n",
       "      <td>1839.640864</td>\n",
       "      <td>5081.592902</td>\n",
       "      <td>-260.848861</td>\n",
       "      <td>-285.703870</td>\n",
       "      <td>2326.653699</td>\n",
       "      <td>...</td>\n",
       "      <td>-2183.340736</td>\n",
       "      <td>-678.423124</td>\n",
       "      <td>-412.013462</td>\n",
       "      <td>1356.327435</td>\n",
       "      <td>297.602593</td>\n",
       "      <td>-3027.301477</td>\n",
       "      <td>-995.541549</td>\n",
       "      <td>-4058.005924</td>\n",
       "      <td>-136.819125</td>\n",
       "      <td>-1261.250392</td>\n",
       "    </tr>\n",
       "    <tr>\n",
       "      <td>1.076545e-01</td>\n",
       "      <td>-4823.124820</td>\n",
       "      <td>-40.971650</td>\n",
       "      <td>2267.045362</td>\n",
       "      <td>-685.497444</td>\n",
       "      <td>-1491.381684</td>\n",
       "      <td>1839.633085</td>\n",
       "      <td>5081.492900</td>\n",
       "      <td>-260.890438</td>\n",
       "      <td>-285.689505</td>\n",
       "      <td>2326.707458</td>\n",
       "      <td>...</td>\n",
       "      <td>-2183.289085</td>\n",
       "      <td>-678.438718</td>\n",
       "      <td>-411.937763</td>\n",
       "      <td>1356.382125</td>\n",
       "      <td>297.669029</td>\n",
       "      <td>-3027.196901</td>\n",
       "      <td>-995.414203</td>\n",
       "      <td>-4057.701365</td>\n",
       "      <td>-136.841432</td>\n",
       "      <td>-1261.185876</td>\n",
       "    </tr>\n",
       "    <tr>\n",
       "      <td>...</td>\n",
       "      <td>...</td>\n",
       "      <td>...</td>\n",
       "      <td>...</td>\n",
       "      <td>...</td>\n",
       "      <td>...</td>\n",
       "      <td>...</td>\n",
       "      <td>...</td>\n",
       "      <td>...</td>\n",
       "      <td>...</td>\n",
       "      <td>...</td>\n",
       "      <td>...</td>\n",
       "      <td>...</td>\n",
       "      <td>...</td>\n",
       "      <td>...</td>\n",
       "      <td>...</td>\n",
       "      <td>...</td>\n",
       "      <td>...</td>\n",
       "      <td>...</td>\n",
       "      <td>...</td>\n",
       "      <td>...</td>\n",
       "      <td>...</td>\n",
       "    </tr>\n",
       "    <tr>\n",
       "      <td>9.288979e+06</td>\n",
       "      <td>-1.462937</td>\n",
       "      <td>1.375493</td>\n",
       "      <td>0.281296</td>\n",
       "      <td>1.359872</td>\n",
       "      <td>0.044579</td>\n",
       "      <td>-0.105446</td>\n",
       "      <td>2.133236</td>\n",
       "      <td>-0.018132</td>\n",
       "      <td>0.216657</td>\n",
       "      <td>1.104417</td>\n",
       "      <td>...</td>\n",
       "      <td>-0.776336</td>\n",
       "      <td>-0.765990</td>\n",
       "      <td>-0.788685</td>\n",
       "      <td>-0.104733</td>\n",
       "      <td>1.242303</td>\n",
       "      <td>0.189981</td>\n",
       "      <td>-0.030719</td>\n",
       "      <td>-0.222572</td>\n",
       "      <td>-1.358832</td>\n",
       "      <td>-1.555573</td>\n",
       "    </tr>\n",
       "    <tr>\n",
       "      <td>9.461848e+06</td>\n",
       "      <td>-1.436245</td>\n",
       "      <td>1.350381</td>\n",
       "      <td>0.276161</td>\n",
       "      <td>1.335048</td>\n",
       "      <td>0.043762</td>\n",
       "      <td>-0.103515</td>\n",
       "      <td>2.094287</td>\n",
       "      <td>-0.017798</td>\n",
       "      <td>0.212702</td>\n",
       "      <td>1.084262</td>\n",
       "      <td>...</td>\n",
       "      <td>-0.762164</td>\n",
       "      <td>-0.752009</td>\n",
       "      <td>-0.774292</td>\n",
       "      <td>-0.102832</td>\n",
       "      <td>1.219634</td>\n",
       "      <td>0.186512</td>\n",
       "      <td>-0.030159</td>\n",
       "      <td>-0.218505</td>\n",
       "      <td>-1.334033</td>\n",
       "      <td>-1.527196</td>\n",
       "    </tr>\n",
       "    <tr>\n",
       "      <td>9.637935e+06</td>\n",
       "      <td>-1.410039</td>\n",
       "      <td>1.325727</td>\n",
       "      <td>0.271120</td>\n",
       "      <td>1.310676</td>\n",
       "      <td>0.042960</td>\n",
       "      <td>-0.101619</td>\n",
       "      <td>2.056049</td>\n",
       "      <td>-0.017471</td>\n",
       "      <td>0.208819</td>\n",
       "      <td>1.064476</td>\n",
       "      <td>...</td>\n",
       "      <td>-0.748252</td>\n",
       "      <td>-0.738283</td>\n",
       "      <td>-0.760162</td>\n",
       "      <td>-0.100965</td>\n",
       "      <td>1.197379</td>\n",
       "      <td>0.183106</td>\n",
       "      <td>-0.029609</td>\n",
       "      <td>-0.214514</td>\n",
       "      <td>-1.309686</td>\n",
       "      <td>-1.499336</td>\n",
       "    </tr>\n",
       "    <tr>\n",
       "      <td>9.817298e+06</td>\n",
       "      <td>-1.384310</td>\n",
       "      <td>1.301523</td>\n",
       "      <td>0.266172</td>\n",
       "      <td>1.286749</td>\n",
       "      <td>0.042172</td>\n",
       "      <td>-0.099758</td>\n",
       "      <td>2.018509</td>\n",
       "      <td>-0.017149</td>\n",
       "      <td>0.205007</td>\n",
       "      <td>1.045050</td>\n",
       "      <td>...</td>\n",
       "      <td>-0.734593</td>\n",
       "      <td>-0.724808</td>\n",
       "      <td>-0.746289</td>\n",
       "      <td>-0.099132</td>\n",
       "      <td>1.175529</td>\n",
       "      <td>0.179762</td>\n",
       "      <td>-0.029069</td>\n",
       "      <td>-0.210595</td>\n",
       "      <td>-1.285783</td>\n",
       "      <td>-1.471983</td>\n",
       "    </tr>\n",
       "    <tr>\n",
       "      <td>1.000000e+07</td>\n",
       "      <td>-1.359050</td>\n",
       "      <td>1.277760</td>\n",
       "      <td>0.261313</td>\n",
       "      <td>1.263258</td>\n",
       "      <td>0.041399</td>\n",
       "      <td>-0.097931</td>\n",
       "      <td>1.981654</td>\n",
       "      <td>-0.016834</td>\n",
       "      <td>0.201264</td>\n",
       "      <td>1.025978</td>\n",
       "      <td>...</td>\n",
       "      <td>-0.721183</td>\n",
       "      <td>-0.711578</td>\n",
       "      <td>-0.732669</td>\n",
       "      <td>-0.097331</td>\n",
       "      <td>1.154078</td>\n",
       "      <td>0.176479</td>\n",
       "      <td>-0.028538</td>\n",
       "      <td>-0.206747</td>\n",
       "      <td>-1.262315</td>\n",
       "      <td>-1.445128</td>\n",
       "    </tr>\n",
       "  </tbody>\n",
       "</table>\n",
       "<p>1000 rows × 229 columns</p>\n",
       "</div>"
      ],
      "text/plain": [
       "              KitchenAbvGr  LotShape_IR2  LotShape_IR3  LandContour_HLS  \\\n",
       "1.000000e-01  -4823.449701    -42.260526   2267.042323      -685.511125   \n",
       "1.018610e-01  -4823.370686    -41.946156   2267.043103      -685.507849   \n",
       "1.037567e-01  -4823.290219    -41.626603   2267.043870      -685.504479   \n",
       "1.056876e-01  -4823.208272    -41.301792   2267.044623      -685.501012   \n",
       "1.076545e-01  -4823.124820    -40.971650   2267.045362      -685.497444   \n",
       "...                    ...           ...           ...              ...   \n",
       "9.288979e+06     -1.462937      1.375493      0.281296         1.359872   \n",
       "9.461848e+06     -1.436245      1.350381      0.276161         1.335048   \n",
       "9.637935e+06     -1.410039      1.325727      0.271120         1.310676   \n",
       "9.817298e+06     -1.384310      1.301523      0.266172         1.286749   \n",
       "1.000000e+07     -1.359050      1.277760      0.261313         1.263258   \n",
       "\n",
       "              LandContour_Low  LandContour_Lvl  LotConfig_CulDSac  \\\n",
       "1.000000e-01     -1490.473420      1839.663239        5081.883467   \n",
       "1.018610e-01     -1490.694947      1839.655937        5081.788165   \n",
       "1.037567e-01     -1490.920132      1839.648480        5081.691317   \n",
       "1.056876e-01     -1491.149026      1839.640864        5081.592902   \n",
       "1.076545e-01     -1491.381684      1839.633085        5081.492900   \n",
       "...                       ...              ...                ...   \n",
       "9.288979e+06         0.044579        -0.105446           2.133236   \n",
       "9.461848e+06         0.043762        -0.103515           2.094287   \n",
       "9.637935e+06         0.042960        -0.101619           2.056049   \n",
       "9.817298e+06         0.042172        -0.099758           2.018509   \n",
       "1.000000e+07         0.041399        -0.097931           1.981654   \n",
       "\n",
       "              LotConfig_FR2  LotConfig_FR3  MSZoning_FV  ...  Functional_Maj2  \\\n",
       "1.000000e-01    -260.728495    -285.745588  2326.498076  ...     -2183.490898   \n",
       "1.018610e-01    -260.767902    -285.731909  2326.549024  ...     -2183.441633   \n",
       "1.037567e-01    -260.808020    -285.718004  2326.600894  ...     -2183.391582   \n",
       "1.056876e-01    -260.848861    -285.703870  2326.653699  ...     -2183.340736   \n",
       "1.076545e-01    -260.890438    -285.689505  2326.707458  ...     -2183.289085   \n",
       "...                     ...            ...          ...  ...              ...   \n",
       "9.288979e+06      -0.018132       0.216657     1.104417  ...        -0.776336   \n",
       "9.461848e+06      -0.017798       0.212702     1.084262  ...        -0.762164   \n",
       "9.637935e+06      -0.017471       0.208819     1.064476  ...        -0.748252   \n",
       "9.817298e+06      -0.017149       0.205007     1.045050  ...        -0.734593   \n",
       "1.000000e+07      -0.016834       0.201264     1.025978  ...        -0.721183   \n",
       "\n",
       "              Functional_Min1  Functional_Min2  Functional_Mod  \\\n",
       "1.000000e-01      -678.378125      -412.233673     1356.168709   \n",
       "1.018610e-01      -678.392834      -412.161403     1356.220740   \n",
       "1.037567e-01      -678.407832      -412.088004     1356.273644   \n",
       "1.056876e-01      -678.423124      -412.013462     1356.327435   \n",
       "1.076545e-01      -678.438718      -411.937763     1356.382125   \n",
       "...                       ...              ...             ...   \n",
       "9.288979e+06        -0.765990        -0.788685       -0.104733   \n",
       "9.461848e+06        -0.752009        -0.774292       -0.102832   \n",
       "9.637935e+06        -0.738283        -0.760162       -0.100965   \n",
       "9.817298e+06        -0.724808        -0.746289       -0.099132   \n",
       "1.000000e+07        -0.711578        -0.732669       -0.097331   \n",
       "\n",
       "              Functional_Typ    PoolQC_Fa   PoolQC_Gd  PoolQC_NoPool  \\\n",
       "1.000000e-01      297.409292 -3027.604617 -995.911154   -4058.889799   \n",
       "1.018610e-01      297.472736 -3027.505307 -995.789994   -4058.600068   \n",
       "1.037567e-01      297.537166 -3027.404270 -995.666803   -4058.305467   \n",
       "1.056876e-01      297.602593 -3027.301477 -995.541549   -4058.005924   \n",
       "1.076545e-01      297.669029 -3027.196901 -995.414203   -4057.701365   \n",
       "...                      ...          ...         ...            ...   \n",
       "9.288979e+06        1.242303     0.189981   -0.030719      -0.222572   \n",
       "9.461848e+06        1.219634     0.186512   -0.030159      -0.218505   \n",
       "9.637935e+06        1.197379     0.183106   -0.029609      -0.214514   \n",
       "9.817298e+06        1.175529     0.179762   -0.029069      -0.210595   \n",
       "1.000000e+07        1.154078     0.176479   -0.028538      -0.206747   \n",
       "\n",
       "              BsmtQual_Fa  BsmtQual_NoBsmt  \n",
       "1.000000e-01  -136.754330     -1261.437070  \n",
       "1.018610e-01  -136.775579     -1261.375969  \n",
       "1.037567e-01  -136.797176     -1261.313750  \n",
       "1.056876e-01  -136.819125     -1261.250392  \n",
       "1.076545e-01  -136.841432     -1261.185876  \n",
       "...                   ...              ...  \n",
       "9.288979e+06    -1.358832        -1.555573  \n",
       "9.461848e+06    -1.334033        -1.527196  \n",
       "9.637935e+06    -1.309686        -1.499336  \n",
       "9.817298e+06    -1.285783        -1.471983  \n",
       "1.000000e+07    -1.262315        -1.445128  \n",
       "\n",
       "[1000 rows x 229 columns]"
      ]
     },
     "execution_count": 53,
     "metadata": {},
     "output_type": "execute_result"
    }
   ],
   "source": [
    "ridge_df_coef"
   ]
  },
  {
   "cell_type": "code",
   "execution_count": null,
   "metadata": {},
   "outputs": [],
   "source": []
  }
 ],
 "metadata": {
  "kernelspec": {
   "display_name": "Python 3",
   "language": "python",
   "name": "python3"
  },
  "language_info": {
   "codemirror_mode": {
    "name": "ipython",
    "version": 3
   },
   "file_extension": ".py",
   "mimetype": "text/x-python",
   "name": "python",
   "nbconvert_exporter": "python",
   "pygments_lexer": "ipython3",
   "version": "3.7.4"
  }
 },
 "nbformat": 4,
 "nbformat_minor": 2
}
