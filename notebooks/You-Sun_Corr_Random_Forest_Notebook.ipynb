{
 "cells": [
  {
   "cell_type": "markdown",
   "metadata": {},
   "source": [
    "# Random Forest"
   ]
  },
  {
   "cell_type": "markdown",
   "metadata": {},
   "source": [
    "## Import and load data"
   ]
  },
  {
   "cell_type": "code",
   "execution_count": 1,
   "metadata": {},
   "outputs": [],
   "source": [
    "import pandas as pd\n",
    "import numpy as np\n",
    "import matplotlib.pyplot as plt\n",
    "import seaborn as sns\n",
    "%matplotlib inline"
   ]
  },
  {
   "cell_type": "code",
   "execution_count": 2,
   "metadata": {},
   "outputs": [],
   "source": [
    "housing_prices_df_raw = pd.read_csv('../src/data/train.csv')\n",
    "test_housing_prices_df_raw = pd.read_csv('../src/data/test.csv')"
   ]
  },
  {
   "cell_type": "code",
   "execution_count": 3,
   "metadata": {},
   "outputs": [],
   "source": [
    "train_hdf = housing_prices_df_raw.copy()\n",
    "test_hdf = test_housing_prices_df_raw.copy()"
   ]
  },
  {
   "cell_type": "code",
   "execution_count": 4,
   "metadata": {},
   "outputs": [],
   "source": [
    "hdf = pd.concat([train_hdf, test_hdf], axis = 0, sort = False)\n",
    "hdf_eda = hdf.copy()"
   ]
  },
  {
   "cell_type": "markdown",
   "metadata": {},
   "source": [
    "### Helper functions"
   ]
  },
  {
   "cell_type": "code",
   "execution_count": 5,
   "metadata": {},
   "outputs": [],
   "source": [
    "def print_full(x):\n",
    "    pd.set_option('display.max_columns', None)\n",
    "    pd.set_option('display.max_rows', len(x))\n",
    "    print(x)\n",
    "    pd.reset_option('display.max_columns')\n",
    "    pd.reset_option('display.max_rows')"
   ]
  },
  {
   "cell_type": "markdown",
   "metadata": {},
   "source": [
    "## Inspect data frame"
   ]
  },
  {
   "cell_type": "code",
   "execution_count": 6,
   "metadata": {},
   "outputs": [
    {
     "data": {
      "text/plain": [
       "(2919, 81)"
      ]
     },
     "execution_count": 6,
     "metadata": {},
     "output_type": "execute_result"
    }
   ],
   "source": [
    "hdf.shape"
   ]
  },
  {
   "cell_type": "code",
   "execution_count": 7,
   "metadata": {},
   "outputs": [
    {
     "data": {
      "text/html": [
       "<div>\n",
       "<style scoped>\n",
       "    .dataframe tbody tr th:only-of-type {\n",
       "        vertical-align: middle;\n",
       "    }\n",
       "\n",
       "    .dataframe tbody tr th {\n",
       "        vertical-align: top;\n",
       "    }\n",
       "\n",
       "    .dataframe thead th {\n",
       "        text-align: right;\n",
       "    }\n",
       "</style>\n",
       "<table border=\"1\" class=\"dataframe\">\n",
       "  <thead>\n",
       "    <tr style=\"text-align: right;\">\n",
       "      <th></th>\n",
       "      <th>Id</th>\n",
       "      <th>MSSubClass</th>\n",
       "      <th>MSZoning</th>\n",
       "      <th>LotFrontage</th>\n",
       "      <th>LotArea</th>\n",
       "      <th>Street</th>\n",
       "      <th>Alley</th>\n",
       "      <th>LotShape</th>\n",
       "      <th>LandContour</th>\n",
       "      <th>Utilities</th>\n",
       "      <th>...</th>\n",
       "      <th>PoolArea</th>\n",
       "      <th>PoolQC</th>\n",
       "      <th>Fence</th>\n",
       "      <th>MiscFeature</th>\n",
       "      <th>MiscVal</th>\n",
       "      <th>MoSold</th>\n",
       "      <th>YrSold</th>\n",
       "      <th>SaleType</th>\n",
       "      <th>SaleCondition</th>\n",
       "      <th>SalePrice</th>\n",
       "    </tr>\n",
       "  </thead>\n",
       "  <tbody>\n",
       "    <tr>\n",
       "      <td>0</td>\n",
       "      <td>1</td>\n",
       "      <td>60</td>\n",
       "      <td>RL</td>\n",
       "      <td>65.0</td>\n",
       "      <td>8450</td>\n",
       "      <td>Pave</td>\n",
       "      <td>NaN</td>\n",
       "      <td>Reg</td>\n",
       "      <td>Lvl</td>\n",
       "      <td>AllPub</td>\n",
       "      <td>...</td>\n",
       "      <td>0</td>\n",
       "      <td>NaN</td>\n",
       "      <td>NaN</td>\n",
       "      <td>NaN</td>\n",
       "      <td>0</td>\n",
       "      <td>2</td>\n",
       "      <td>2008</td>\n",
       "      <td>WD</td>\n",
       "      <td>Normal</td>\n",
       "      <td>208500.0</td>\n",
       "    </tr>\n",
       "    <tr>\n",
       "      <td>1</td>\n",
       "      <td>2</td>\n",
       "      <td>20</td>\n",
       "      <td>RL</td>\n",
       "      <td>80.0</td>\n",
       "      <td>9600</td>\n",
       "      <td>Pave</td>\n",
       "      <td>NaN</td>\n",
       "      <td>Reg</td>\n",
       "      <td>Lvl</td>\n",
       "      <td>AllPub</td>\n",
       "      <td>...</td>\n",
       "      <td>0</td>\n",
       "      <td>NaN</td>\n",
       "      <td>NaN</td>\n",
       "      <td>NaN</td>\n",
       "      <td>0</td>\n",
       "      <td>5</td>\n",
       "      <td>2007</td>\n",
       "      <td>WD</td>\n",
       "      <td>Normal</td>\n",
       "      <td>181500.0</td>\n",
       "    </tr>\n",
       "    <tr>\n",
       "      <td>2</td>\n",
       "      <td>3</td>\n",
       "      <td>60</td>\n",
       "      <td>RL</td>\n",
       "      <td>68.0</td>\n",
       "      <td>11250</td>\n",
       "      <td>Pave</td>\n",
       "      <td>NaN</td>\n",
       "      <td>IR1</td>\n",
       "      <td>Lvl</td>\n",
       "      <td>AllPub</td>\n",
       "      <td>...</td>\n",
       "      <td>0</td>\n",
       "      <td>NaN</td>\n",
       "      <td>NaN</td>\n",
       "      <td>NaN</td>\n",
       "      <td>0</td>\n",
       "      <td>9</td>\n",
       "      <td>2008</td>\n",
       "      <td>WD</td>\n",
       "      <td>Normal</td>\n",
       "      <td>223500.0</td>\n",
       "    </tr>\n",
       "    <tr>\n",
       "      <td>3</td>\n",
       "      <td>4</td>\n",
       "      <td>70</td>\n",
       "      <td>RL</td>\n",
       "      <td>60.0</td>\n",
       "      <td>9550</td>\n",
       "      <td>Pave</td>\n",
       "      <td>NaN</td>\n",
       "      <td>IR1</td>\n",
       "      <td>Lvl</td>\n",
       "      <td>AllPub</td>\n",
       "      <td>...</td>\n",
       "      <td>0</td>\n",
       "      <td>NaN</td>\n",
       "      <td>NaN</td>\n",
       "      <td>NaN</td>\n",
       "      <td>0</td>\n",
       "      <td>2</td>\n",
       "      <td>2006</td>\n",
       "      <td>WD</td>\n",
       "      <td>Abnorml</td>\n",
       "      <td>140000.0</td>\n",
       "    </tr>\n",
       "    <tr>\n",
       "      <td>4</td>\n",
       "      <td>5</td>\n",
       "      <td>60</td>\n",
       "      <td>RL</td>\n",
       "      <td>84.0</td>\n",
       "      <td>14260</td>\n",
       "      <td>Pave</td>\n",
       "      <td>NaN</td>\n",
       "      <td>IR1</td>\n",
       "      <td>Lvl</td>\n",
       "      <td>AllPub</td>\n",
       "      <td>...</td>\n",
       "      <td>0</td>\n",
       "      <td>NaN</td>\n",
       "      <td>NaN</td>\n",
       "      <td>NaN</td>\n",
       "      <td>0</td>\n",
       "      <td>12</td>\n",
       "      <td>2008</td>\n",
       "      <td>WD</td>\n",
       "      <td>Normal</td>\n",
       "      <td>250000.0</td>\n",
       "    </tr>\n",
       "  </tbody>\n",
       "</table>\n",
       "<p>5 rows × 81 columns</p>\n",
       "</div>"
      ],
      "text/plain": [
       "   Id  MSSubClass MSZoning  LotFrontage  LotArea Street Alley LotShape  \\\n",
       "0   1          60       RL         65.0     8450   Pave   NaN      Reg   \n",
       "1   2          20       RL         80.0     9600   Pave   NaN      Reg   \n",
       "2   3          60       RL         68.0    11250   Pave   NaN      IR1   \n",
       "3   4          70       RL         60.0     9550   Pave   NaN      IR1   \n",
       "4   5          60       RL         84.0    14260   Pave   NaN      IR1   \n",
       "\n",
       "  LandContour Utilities  ... PoolArea PoolQC Fence MiscFeature MiscVal MoSold  \\\n",
       "0         Lvl    AllPub  ...        0    NaN   NaN         NaN       0      2   \n",
       "1         Lvl    AllPub  ...        0    NaN   NaN         NaN       0      5   \n",
       "2         Lvl    AllPub  ...        0    NaN   NaN         NaN       0      9   \n",
       "3         Lvl    AllPub  ...        0    NaN   NaN         NaN       0      2   \n",
       "4         Lvl    AllPub  ...        0    NaN   NaN         NaN       0     12   \n",
       "\n",
       "  YrSold  SaleType  SaleCondition  SalePrice  \n",
       "0   2008        WD         Normal   208500.0  \n",
       "1   2007        WD         Normal   181500.0  \n",
       "2   2008        WD         Normal   223500.0  \n",
       "3   2006        WD        Abnorml   140000.0  \n",
       "4   2008        WD         Normal   250000.0  \n",
       "\n",
       "[5 rows x 81 columns]"
      ]
     },
     "execution_count": 7,
     "metadata": {},
     "output_type": "execute_result"
    }
   ],
   "source": [
    "hdf.head()"
   ]
  },
  {
   "cell_type": "code",
   "execution_count": 8,
   "metadata": {},
   "outputs": [
    {
     "name": "stdout",
     "output_type": "stream",
     "text": [
      "<class 'pandas.core.frame.DataFrame'>\n",
      "Int64Index: 2919 entries, 0 to 1458\n",
      "Data columns (total 81 columns):\n",
      "Id               2919 non-null int64\n",
      "MSSubClass       2919 non-null int64\n",
      "MSZoning         2915 non-null object\n",
      "LotFrontage      2433 non-null float64\n",
      "LotArea          2919 non-null int64\n",
      "Street           2919 non-null object\n",
      "Alley            198 non-null object\n",
      "LotShape         2919 non-null object\n",
      "LandContour      2919 non-null object\n",
      "Utilities        2917 non-null object\n",
      "LotConfig        2919 non-null object\n",
      "LandSlope        2919 non-null object\n",
      "Neighborhood     2919 non-null object\n",
      "Condition1       2919 non-null object\n",
      "Condition2       2919 non-null object\n",
      "BldgType         2919 non-null object\n",
      "HouseStyle       2919 non-null object\n",
      "OverallQual      2919 non-null int64\n",
      "OverallCond      2919 non-null int64\n",
      "YearBuilt        2919 non-null int64\n",
      "YearRemodAdd     2919 non-null int64\n",
      "RoofStyle        2919 non-null object\n",
      "RoofMatl         2919 non-null object\n",
      "Exterior1st      2918 non-null object\n",
      "Exterior2nd      2918 non-null object\n",
      "MasVnrType       2895 non-null object\n",
      "MasVnrArea       2896 non-null float64\n",
      "ExterQual        2919 non-null object\n",
      "ExterCond        2919 non-null object\n",
      "Foundation       2919 non-null object\n",
      "BsmtQual         2838 non-null object\n",
      "BsmtCond         2837 non-null object\n",
      "BsmtExposure     2837 non-null object\n",
      "BsmtFinType1     2840 non-null object\n",
      "BsmtFinSF1       2918 non-null float64\n",
      "BsmtFinType2     2839 non-null object\n",
      "BsmtFinSF2       2918 non-null float64\n",
      "BsmtUnfSF        2918 non-null float64\n",
      "TotalBsmtSF      2918 non-null float64\n",
      "Heating          2919 non-null object\n",
      "HeatingQC        2919 non-null object\n",
      "CentralAir       2919 non-null object\n",
      "Electrical       2918 non-null object\n",
      "1stFlrSF         2919 non-null int64\n",
      "2ndFlrSF         2919 non-null int64\n",
      "LowQualFinSF     2919 non-null int64\n",
      "GrLivArea        2919 non-null int64\n",
      "BsmtFullBath     2917 non-null float64\n",
      "BsmtHalfBath     2917 non-null float64\n",
      "FullBath         2919 non-null int64\n",
      "HalfBath         2919 non-null int64\n",
      "BedroomAbvGr     2919 non-null int64\n",
      "KitchenAbvGr     2919 non-null int64\n",
      "KitchenQual      2918 non-null object\n",
      "TotRmsAbvGrd     2919 non-null int64\n",
      "Functional       2917 non-null object\n",
      "Fireplaces       2919 non-null int64\n",
      "FireplaceQu      1499 non-null object\n",
      "GarageType       2762 non-null object\n",
      "GarageYrBlt      2760 non-null float64\n",
      "GarageFinish     2760 non-null object\n",
      "GarageCars       2918 non-null float64\n",
      "GarageArea       2918 non-null float64\n",
      "GarageQual       2760 non-null object\n",
      "GarageCond       2760 non-null object\n",
      "PavedDrive       2919 non-null object\n",
      "WoodDeckSF       2919 non-null int64\n",
      "OpenPorchSF      2919 non-null int64\n",
      "EnclosedPorch    2919 non-null int64\n",
      "3SsnPorch        2919 non-null int64\n",
      "ScreenPorch      2919 non-null int64\n",
      "PoolArea         2919 non-null int64\n",
      "PoolQC           10 non-null object\n",
      "Fence            571 non-null object\n",
      "MiscFeature      105 non-null object\n",
      "MiscVal          2919 non-null int64\n",
      "MoSold           2919 non-null int64\n",
      "YrSold           2919 non-null int64\n",
      "SaleType         2918 non-null object\n",
      "SaleCondition    2919 non-null object\n",
      "SalePrice        1460 non-null float64\n",
      "dtypes: float64(12), int64(26), object(43)\n",
      "memory usage: 1.8+ MB\n"
     ]
    }
   ],
   "source": [
    "hdf.info()"
   ]
  },
  {
   "cell_type": "markdown",
   "metadata": {},
   "source": [
    "## Identify features by variable type"
   ]
  },
  {
   "cell_type": "code",
   "execution_count": 9,
   "metadata": {},
   "outputs": [],
   "source": [
    "ord_feat_num = ['OverallQual', 'OverallCond', 'BsmtFullBath', \n",
    "        'BsmtHalfBath', 'FullBath', 'HalfBath',\n",
    "        'TotRmsAbvGrd', 'Fireplaces', 'BedroomAbvGr', \n",
    "        'KitchenAbvGr', 'GarageCars']\n",
    "\n",
    "ord_feat_cat = ['ExterQual', 'ExterCond', 'BsmtQual', 'BsmtCond', \n",
    "        'BsmtExposure', 'BsmtFinType1', 'BsmtFinType2', \n",
    "        'HeatingQC', 'KitchenQual', 'FireplaceQu', \n",
    "        'GarageQual', 'GarageCond', 'PoolQC']\n",
    "\n",
    "ord_feat = ord_feat_num + ord_feat_cat\n",
    "\n",
    "nom_feat = ['MSSubClass', 'MSZoning', 'Alley', 'LotShape', \n",
    "       'LandContour', 'Utilities', 'Neighborhood', \n",
    "       'Condition1', 'Condition2', 'BldgType', 'RoofStyle', \n",
    "       'RoofMatl', 'Exterior1st', 'Exterior2nd', 'MasVnrType', \n",
    "       'Foundation', 'Heating', 'CentralAir', 'Electrical', \n",
    "       'GarageType', 'MiscFeature', 'SaleType', 'SaleCondition', \n",
    "       'GarageFinish', 'PavedDrive', 'Fence', 'Functional', \n",
    "       'HouseStyle','LotConfig', 'Street', 'LandSlope']\n",
    "\n",
    "cont_feat = ['LotFrontage', 'LotArea', 'YearBuilt', \n",
    "       'YearRemodAdd', 'MasVnrArea', 'BsmtFinSF1', \n",
    "       'BsmtFinSF2', 'TotalBsmtSF', '1stFlrSF', '2ndFlrSF', \n",
    "       'GarageYrBlt', 'WoodDeckSF', 'OpenPorchSF', \n",
    "       'EnclosedPorch', '3SsnPorch', 'ScreenPorch', 'PoolArea', \n",
    "       'MiscVal', 'MoSold', 'YrSold','BsmtUnfSF', 'GarageArea', \n",
    "       'LowQualFinSF', 'GrLivArea']"
   ]
  },
  {
   "cell_type": "markdown",
   "metadata": {},
   "source": [
    "## Data cleaning"
   ]
  },
  {
   "cell_type": "markdown",
   "metadata": {},
   "source": [
    "### Impute missing values"
   ]
  },
  {
   "cell_type": "code",
   "execution_count": 10,
   "metadata": {},
   "outputs": [
    {
     "data": {
      "text/plain": [
       "MSZoning         0.14\n",
       "LotFrontage     16.65\n",
       "Alley           93.22\n",
       "Utilities        0.07\n",
       "Exterior1st      0.03\n",
       "Exterior2nd      0.03\n",
       "MasVnrType       0.82\n",
       "MasVnrArea       0.79\n",
       "BsmtQual         2.77\n",
       "BsmtCond         2.81\n",
       "BsmtExposure     2.81\n",
       "BsmtFinType1     2.71\n",
       "BsmtFinSF1       0.03\n",
       "BsmtFinType2     2.74\n",
       "BsmtFinSF2       0.03\n",
       "BsmtUnfSF        0.03\n",
       "TotalBsmtSF      0.03\n",
       "Electrical       0.03\n",
       "BsmtFullBath     0.07\n",
       "BsmtHalfBath     0.07\n",
       "KitchenQual      0.03\n",
       "Functional       0.07\n",
       "FireplaceQu     48.65\n",
       "GarageType       5.38\n",
       "GarageYrBlt      5.45\n",
       "GarageFinish     5.45\n",
       "GarageCars       0.03\n",
       "GarageArea       0.03\n",
       "GarageQual       5.45\n",
       "GarageCond       5.45\n",
       "PoolQC          99.66\n",
       "Fence           80.44\n",
       "MiscFeature     96.40\n",
       "SaleType         0.03\n",
       "SalePrice       49.98\n",
       "dtype: float64"
      ]
     },
     "execution_count": 10,
     "metadata": {},
     "output_type": "execute_result"
    }
   ],
   "source": [
    "# Check NAs by count\n",
    "NA_count = hdf.isnull().sum()[hdf.isnull().sum() > 0]\n",
    "\n",
    "# By percentage\n",
    "round(100*NA_count/len(hdf), 2)"
   ]
  },
  {
   "cell_type": "markdown",
   "metadata": {},
   "source": [
    "Impute missing values for `LotFrontage`:"
   ]
  },
  {
   "cell_type": "code",
   "execution_count": 11,
   "metadata": {},
   "outputs": [],
   "source": [
    "hdf['LotFrontage'] = hdf.groupby('Neighborhood')['LotFrontage'].transform(lambda x: x.fillna(x.median))"
   ]
  },
  {
   "cell_type": "markdown",
   "metadata": {},
   "source": [
    "Insert text here later:"
   ]
  },
  {
   "cell_type": "code",
   "execution_count": 12,
   "metadata": {},
   "outputs": [],
   "source": [
    "# Convert ord_feat_num to ord_feat\n",
    "hdf[ord_feat_cat] = hdf[ord_feat_cat].replace({'Ex': 5, 'Gd': 4, 'TA': 3, 'Fa': 2, 'Po': 1, np.nan: 0})\n",
    "hdf[['BsmtExposure']] = hdf[['BsmtExposure']].replace({'Gd': 4, 'Av': 3, 'Mn': 2, 'No': 1, np.nan: 0})\n",
    "hdf[['BsmtFinType1', 'BsmtFinType2']] = hdf[['BsmtFinType1', 'BsmtFinType2']].replace({'GLQ': 6, 'ALQ': 5, 'BLQ': 4, 'Rec': 3, 'LwQ': 2, 'Unf': 1, np.nan: 0})"
   ]
  },
  {
   "cell_type": "code",
   "execution_count": 13,
   "metadata": {},
   "outputs": [],
   "source": [
    "# Convert fence to nominal\n",
    "hdf[['Fence']] = hdf[['Fence']].replace({'MnPrv': 'HasFence', 'GdWo': 'HasFence', 'GdPrv': 'HasFence', 'MnWw': 'HasFence', np.nan: 'NoFence'})"
   ]
  },
  {
   "cell_type": "markdown",
   "metadata": {},
   "source": [
    "Impute missing values for remaining columns:"
   ]
  },
  {
   "cell_type": "code",
   "execution_count": 14,
   "metadata": {},
   "outputs": [],
   "source": [
    "from scipy import stats"
   ]
  },
  {
   "cell_type": "code",
   "execution_count": 15,
   "metadata": {},
   "outputs": [],
   "source": [
    "for col in set(hdf.columns) - {'SalePrice'}:\n",
    "    if hdf[col].dtype == 'object':\n",
    "        hdf.fillna({col:stats.mode(hdf[col]).mode[0]}, inplace = True)\n",
    "    else:\n",
    "        hdf.fillna({col:np.median(hdf.loc[~hdf[col].isnull(), col])}, inplace = True)"
   ]
  },
  {
   "cell_type": "markdown",
   "metadata": {},
   "source": [
    "## Data preprocessing"
   ]
  },
  {
   "cell_type": "markdown",
   "metadata": {},
   "source": [
    "### Generate features"
   ]
  },
  {
   "cell_type": "code",
   "execution_count": 16,
   "metadata": {},
   "outputs": [],
   "source": [
    "hdf['Remodeled'] = pd.Series([1 if a > 0 else 0 for a in (hdf['YearRemodAdd'] - hdf['YearBuilt'])])\n",
    "hdf['TotalPorchAreasSF'] = hdf['OpenPorchSF'] + hdf['EnclosedPorch'] + hdf['3SsnPorch'] + hdf['ScreenPorch'] + hdf['WoodDeckSF']\n",
    "hdf ['TotalBath'] = hdf['FullBath'] + hdf['BsmtFullBath'] + .5*(hdf['HalfBath'] + hdf['BsmtHalfBath'])\n",
    "hdf['OtherRoomsAbvGrd'] = hdf['TotRmsAbvGrd'] - hdf['KitchenAbvGr'] - hdf['FullBath']"
   ]
  },
  {
   "cell_type": "markdown",
   "metadata": {},
   "source": [
    "Drop redundant features:"
   ]
  },
  {
   "cell_type": "code",
   "execution_count": 17,
   "metadata": {},
   "outputs": [],
   "source": [
    "hdf.drop(columns = ['Utilities', 'Street', 'PoolQC'], inplace = True)\n",
    "hdf.drop(columns = ['BsmtFinSF1', 'BsmtFinSF2', 'BsmtUnfSF'], inplace = True) # There is totalbsmt\n",
    "hdf.drop(columns = ['FullBath', 'BsmtFullBath', 'HalfBath','BsmtHalfBath'], inplace = True)\n",
    "hdf.drop(columns = ['OpenPorchSF', 'EnclosedPorch', '3SsnPorch', 'ScreenPorch', 'WoodDeckSF'], inplace = True)\n",
    "hdf.drop(columns = 'MiscFeature', inplace = True) # Drop feature (since price of feature is in Miscval)\n",
    "hdf.drop(columns = 'TotRmsAbvGrd', inplace = True)"
   ]
  },
  {
   "cell_type": "markdown",
   "metadata": {},
   "source": [
    "Check for NAs:"
   ]
  },
  {
   "cell_type": "code",
   "execution_count": 18,
   "metadata": {},
   "outputs": [
    {
     "data": {
      "text/plain": [
       "SalePrice    49.98\n",
       "dtype: float64"
      ]
     },
     "execution_count": 18,
     "metadata": {},
     "output_type": "execute_result"
    }
   ],
   "source": [
    "round(100*hdf.isnull().sum()[hdf.isnull().sum() > 0]/len(hdf), 2)"
   ]
  },
  {
   "cell_type": "markdown",
   "metadata": {},
   "source": [
    "Trim feature list:"
   ]
  },
  {
   "cell_type": "code",
   "execution_count": 19,
   "metadata": {},
   "outputs": [],
   "source": [
    "ord_feat_num = set(ord_feat_num).union(set(['TotalBath', 'OtherRoomsAbvGrd', 'Remodeled'])) - \\\n",
    "set(['BsmtFullBath', 'BsmtHalfBath', 'FullBath', 'HalfBath', 'TotRmsAbvGrd',' KitchenAbvGr', 'GarageCars'])\n",
    "\n",
    "ord_feat_cat = set(ord_feat_cat) - set(['PoolQC'])\n",
    "\n",
    "ord_feat = ord_feat_num.union(ord_feat_cat)\n",
    "\n",
    "nom_feat = set(nom_feat) - set(['Utilities','MiscFeature','Street'])\n",
    "\n",
    "cont_feat = list(set(cont_feat).union(set(['TotalPorchAreasSF'])) - set(['Utilities', 'Street', 'PoolQC'] +\\\n",
    "['BsmtFinSF1', 'BsmtFinSF2', 'BsmtUnfSF'] +\\\n",
    "['FullBath', 'BsmtFullBath', 'HalfBath','BsmtHalfBath'] +\\\n",
    "['OpenPorchSF', 'EnclosedPorch', '3SsnPorch', 'ScreenPorch', 'WoodDeckSF'] +\\\n",
    "['MiscFeature', 'TotRmsAbvGrd']))"
   ]
  },
  {
   "cell_type": "markdown",
   "metadata": {},
   "source": [
    "### Define features and target"
   ]
  },
  {
   "cell_type": "markdown",
   "metadata": {},
   "source": [
    "Define training data features and target:"
   ]
  },
  {
   "cell_type": "code",
   "execution_count": 20,
   "metadata": {},
   "outputs": [
    {
     "name": "stderr",
     "output_type": "stream",
     "text": [
      "/opt/anaconda3/lib/python3.7/site-packages/pandas/core/frame.py:4102: SettingWithCopyWarning: \n",
      "A value is trying to be set on a copy of a slice from a DataFrame\n",
      "\n",
      "See the caveats in the documentation: http://pandas.pydata.org/pandas-docs/stable/user_guide/indexing.html#returning-a-view-versus-a-copy\n",
      "  errors=errors,\n"
     ]
    }
   ],
   "source": [
    "# Define training data features\n",
    "X_train = hdf.loc[~hdf['SalePrice'].isnull(), :]\n",
    "# Drop outliers\n",
    "# X_train = X_train.loc[(X_train['GrLivArea'] < 4000) & (X_train['LotArea'] < 100000) & (X_train['LotFrontage'] < 250),:]\n",
    "\n",
    "# Define training data target\n",
    "y_train = np.log1p(X_train.loc[~X_train['SalePrice'].isnull(), 'SalePrice'])\n",
    "\n",
    "# Drop unnecessary columns\n",
    "X_train.drop(columns = ['SalePrice'], inplace = True)"
   ]
  },
  {
   "cell_type": "markdown",
   "metadata": {},
   "source": [
    "Define test data features and target:"
   ]
  },
  {
   "cell_type": "code",
   "execution_count": 21,
   "metadata": {},
   "outputs": [],
   "source": [
    "X_test = hdf.loc[hdf['SalePrice'].isnull(), :].drop(columns = ['SalePrice'])"
   ]
  },
  {
   "cell_type": "markdown",
   "metadata": {},
   "source": [
    "Check dimensions of training and testing sets:"
   ]
  },
  {
   "cell_type": "code",
   "execution_count": 22,
   "metadata": {},
   "outputs": [
    {
     "name": "stdout",
     "output_type": "stream",
     "text": [
      "Training Features Shape: (1460, 67)\n",
      "Training Target Shape: (1460,)\n",
      "Testing Features Shape: (1459, 67)\n"
     ]
    }
   ],
   "source": [
    "print('Training Features Shape:', X_train.shape)\n",
    "print('Training Target Shape:', y_train.shape)\n",
    "print('Testing Features Shape:', X_test.shape)"
   ]
  },
  {
   "cell_type": "markdown",
   "metadata": {},
   "source": [
    "### Encode categorical features"
   ]
  },
  {
   "cell_type": "markdown",
   "metadata": {},
   "source": [
    "Identify features by variable type:"
   ]
  },
  {
   "cell_type": "code",
   "execution_count": 23,
   "metadata": {},
   "outputs": [],
   "source": [
    "import category_encoders as ce"
   ]
  },
  {
   "cell_type": "markdown",
   "metadata": {},
   "source": [
    "#### Ordinal\n",
    "\n",
    "- Ordinal Encoder: [Documentation](https://scikit-learn.org/stable/modules/generated/sklearn.preprocessing.OrdinalEncoder.html)"
   ]
  },
  {
   "cell_type": "code",
   "execution_count": 24,
   "metadata": {},
   "outputs": [],
   "source": [
    "ord_enc = ce.OrdinalEncoder(cols=ord_feat).fit(X_train,y_train)\n",
    "X_train = ord_enc.transform(X_train)\n",
    "\n",
    "X_test = ord_enc.transform(X_test)"
   ]
  },
  {
   "cell_type": "markdown",
   "metadata": {},
   "source": [
    "#### Nominal\n",
    "\n",
    "- CatBoost Encoder: [Documentation](https://contrib.scikit-learn.org/categorical-encoding/catboost.html), [explanation via example](https://medium.com/whats-your-data/working-with-categorical-data-catboost-8b5e11267a37)"
   ]
  },
  {
   "cell_type": "code",
   "execution_count": 25,
   "metadata": {},
   "outputs": [],
   "source": [
    "perm = np.random.permutation(len(X_train))\n",
    "X_train = X_train.iloc[perm].reset_index(drop=True)\n",
    "y_train = y_train.iloc[perm].reset_index(drop=True)\n",
    "\n",
    "nom_enc = ce.CatBoostEncoder(cols=nom_feat).fit(X_train,y_train)\n",
    "X_train = nom_enc.transform(X_train)\n",
    "\n",
    "X_test = nom_enc.transform(X_test)"
   ]
  },
  {
   "cell_type": "code",
   "execution_count": 27,
   "metadata": {},
   "outputs": [],
   "source": [
    "X_train.drop(columns = ['Id'], inplace = True)"
   ]
  },
  {
   "cell_type": "markdown",
   "metadata": {},
   "source": [
    "## Model"
   ]
  },
  {
   "cell_type": "code",
   "execution_count": 28,
   "metadata": {},
   "outputs": [],
   "source": [
    "from sklearn.ensemble import RandomForestRegressor\n",
    "from pprint import pprint"
   ]
  },
  {
   "cell_type": "code",
   "execution_count": 29,
   "metadata": {},
   "outputs": [],
   "source": [
    "# Create base model\n",
    "rf = RandomForestRegressor(random_state = 999, oob_score = True)"
   ]
  },
  {
   "cell_type": "code",
   "execution_count": 30,
   "metadata": {},
   "outputs": [
    {
     "name": "stdout",
     "output_type": "stream",
     "text": [
      "Parameters currently in use:\n",
      "\n",
      "{'bootstrap': True,\n",
      " 'criterion': 'mse',\n",
      " 'max_depth': None,\n",
      " 'max_features': 'auto',\n",
      " 'max_leaf_nodes': None,\n",
      " 'min_impurity_decrease': 0.0,\n",
      " 'min_impurity_split': None,\n",
      " 'min_samples_leaf': 1,\n",
      " 'min_samples_split': 2,\n",
      " 'min_weight_fraction_leaf': 0.0,\n",
      " 'n_estimators': 'warn',\n",
      " 'n_jobs': None,\n",
      " 'oob_score': True,\n",
      " 'random_state': 999,\n",
      " 'verbose': 0,\n",
      " 'warm_start': False}\n"
     ]
    }
   ],
   "source": [
    "# Check out base/default parameters\n",
    "print('Parameters currently in use:\\n')\n",
    "pprint(rf.get_params())"
   ]
  },
  {
   "cell_type": "markdown",
   "metadata": {},
   "source": [
    "### Choose hyperparameters"
   ]
  },
  {
   "cell_type": "markdown",
   "metadata": {},
   "source": [
    "#### Randomized Search"
   ]
  },
  {
   "cell_type": "markdown",
   "metadata": {},
   "source": [
    "Narrow down search for wide range of values for hyperparameters:"
   ]
  },
  {
   "cell_type": "code",
   "execution_count": 31,
   "metadata": {},
   "outputs": [],
   "source": [
    "from sklearn.model_selection import RandomizedSearchCV"
   ]
  },
  {
   "cell_type": "code",
   "execution_count": 32,
   "metadata": {},
   "outputs": [],
   "source": [
    "# Number of trees in random forest\n",
    "n_estimators = [int(x) for x in np.linspace(start = 2000, stop = 3500, num = 10)]\n",
    "# Criterion\n",
    "criterion = ['mse', 'mae']\n",
    "# Number of features to consider at every split\n",
    "max_features = [7, 8, 9, 10, 11, 12, 15, 16, 20, 22]\n",
    "# Minimum number of samples required to split a node\n",
    "min_samples_split = np.arange(8,11,1)"
   ]
  },
  {
   "cell_type": "code",
   "execution_count": 33,
   "metadata": {},
   "outputs": [],
   "source": [
    "# Create the random grid\n",
    "random_grid = {'n_estimators': n_estimators,\n",
    "               'criterion': criterion,\n",
    "               'max_features': max_features,\n",
    "               'min_samples_split': min_samples_split\n",
    "              }"
   ]
  },
  {
   "cell_type": "code",
   "execution_count": 34,
   "metadata": {},
   "outputs": [
    {
     "name": "stdout",
     "output_type": "stream",
     "text": [
      "{'criterion': ['mse', 'mae'],\n",
      " 'max_features': [7, 8, 9, 10, 11, 12, 15, 16, 20, 22],\n",
      " 'min_samples_split': array([ 8,  9, 10]),\n",
      " 'n_estimators': [2000, 2166, 2333, 2500, 2666, 2833, 3000, 3166, 3333, 3500]}\n"
     ]
    }
   ],
   "source": [
    "pprint(random_grid)"
   ]
  },
  {
   "cell_type": "code",
   "execution_count": 35,
   "metadata": {
    "scrolled": true
   },
   "outputs": [
    {
     "name": "stdout",
     "output_type": "stream",
     "text": [
      "Fitting 5 folds for each of 100 candidates, totalling 500 fits\n"
     ]
    },
    {
     "name": "stderr",
     "output_type": "stream",
     "text": [
      "[Parallel(n_jobs=-1)]: Using backend LokyBackend with 8 concurrent workers.\n",
      "[Parallel(n_jobs=-1)]: Done  25 tasks      | elapsed:  4.0min\n",
      "[Parallel(n_jobs=-1)]: Done 146 tasks      | elapsed: 24.3min\n",
      "[Parallel(n_jobs=-1)]: Done 349 tasks      | elapsed: 59.9min\n",
      "[Parallel(n_jobs=-1)]: Done 500 out of 500 | elapsed: 85.9min finished\n"
     ]
    },
    {
     "data": {
      "text/plain": [
       "RandomizedSearchCV(cv=5, error_score='raise-deprecating',\n",
       "                   estimator=RandomForestRegressor(bootstrap=True,\n",
       "                                                   criterion='mse',\n",
       "                                                   max_depth=None,\n",
       "                                                   max_features='auto',\n",
       "                                                   max_leaf_nodes=None,\n",
       "                                                   min_impurity_decrease=0.0,\n",
       "                                                   min_impurity_split=None,\n",
       "                                                   min_samples_leaf=1,\n",
       "                                                   min_samples_split=2,\n",
       "                                                   min_weight_fraction_leaf=0.0,\n",
       "                                                   n_estimators='warn',\n",
       "                                                   n_jobs=None, oob_score=True,\n",
       "                                                   random_stat...e=0,\n",
       "                                                   warm_start=False),\n",
       "                   iid='warn', n_iter=100, n_jobs=-1,\n",
       "                   param_distributions={'criterion': ['mse', 'mae'],\n",
       "                                        'max_features': [7, 8, 9, 10, 11, 12,\n",
       "                                                         15, 16, 20, 22],\n",
       "                                        'min_samples_split': array([ 8,  9, 10]),\n",
       "                                        'n_estimators': [2000, 2166, 2333, 2500,\n",
       "                                                         2666, 2833, 3000, 3166,\n",
       "                                                         3333, 3500]},\n",
       "                   pre_dispatch='2*n_jobs', random_state=None, refit=True,\n",
       "                   return_train_score=False, scoring=None, verbose=2)"
      ]
     },
     "execution_count": 35,
     "metadata": {},
     "output_type": "execute_result"
    }
   ],
   "source": [
    "# Use the random grid to search for best hyperparameters\n",
    "# Random search of parameters, using 5-fold cross validation\n",
    "rf_random = RandomizedSearchCV(estimator = rf, \n",
    "                               param_distributions = random_grid, \n",
    "                               n_iter = 100, cv = 5, verbose=2, n_jobs = -1)\n",
    "\n",
    "# Fit the random search model\n",
    "rf_random.fit(X_train, y_train)"
   ]
  },
  {
   "cell_type": "code",
   "execution_count": 36,
   "metadata": {},
   "outputs": [
    {
     "data": {
      "text/plain": [
       "{'n_estimators': 3166,\n",
       " 'min_samples_split': 8,\n",
       " 'max_features': 22,\n",
       " 'criterion': 'mse'}"
      ]
     },
     "execution_count": 36,
     "metadata": {},
     "output_type": "execute_result"
    }
   ],
   "source": [
    "rf_random.best_params_"
   ]
  },
  {
   "cell_type": "code",
   "execution_count": 70,
   "metadata": {},
   "outputs": [
    {
     "data": {
      "text/html": [
       "<div>\n",
       "<style scoped>\n",
       "    .dataframe tbody tr th:only-of-type {\n",
       "        vertical-align: middle;\n",
       "    }\n",
       "\n",
       "    .dataframe tbody tr th {\n",
       "        vertical-align: top;\n",
       "    }\n",
       "\n",
       "    .dataframe thead th {\n",
       "        text-align: right;\n",
       "    }\n",
       "</style>\n",
       "<table border=\"1\" class=\"dataframe\">\n",
       "  <thead>\n",
       "    <tr style=\"text-align: right;\">\n",
       "      <th></th>\n",
       "      <th>rank_test_score</th>\n",
       "      <th>mean_test_score</th>\n",
       "      <th>std_test_score</th>\n",
       "      <th>n_estimators</th>\n",
       "      <th>min_samples_split</th>\n",
       "      <th>max_features</th>\n",
       "      <th>criterion</th>\n",
       "    </tr>\n",
       "  </thead>\n",
       "  <tbody>\n",
       "    <tr>\n",
       "      <td>43</td>\n",
       "      <td>1</td>\n",
       "      <td>0.876456</td>\n",
       "      <td>0.017853</td>\n",
       "      <td>3166</td>\n",
       "      <td>8</td>\n",
       "      <td>22</td>\n",
       "      <td>mse</td>\n",
       "    </tr>\n",
       "    <tr>\n",
       "      <td>24</td>\n",
       "      <td>2</td>\n",
       "      <td>0.876433</td>\n",
       "      <td>0.017852</td>\n",
       "      <td>3333</td>\n",
       "      <td>8</td>\n",
       "      <td>22</td>\n",
       "      <td>mse</td>\n",
       "    </tr>\n",
       "    <tr>\n",
       "      <td>88</td>\n",
       "      <td>3</td>\n",
       "      <td>0.876408</td>\n",
       "      <td>0.017853</td>\n",
       "      <td>2666</td>\n",
       "      <td>8</td>\n",
       "      <td>22</td>\n",
       "      <td>mse</td>\n",
       "    </tr>\n",
       "    <tr>\n",
       "      <td>9</td>\n",
       "      <td>4</td>\n",
       "      <td>0.876302</td>\n",
       "      <td>0.018174</td>\n",
       "      <td>2500</td>\n",
       "      <td>8</td>\n",
       "      <td>20</td>\n",
       "      <td>mse</td>\n",
       "    </tr>\n",
       "    <tr>\n",
       "      <td>92</td>\n",
       "      <td>5</td>\n",
       "      <td>0.876165</td>\n",
       "      <td>0.018160</td>\n",
       "      <td>3333</td>\n",
       "      <td>8</td>\n",
       "      <td>20</td>\n",
       "      <td>mse</td>\n",
       "    </tr>\n",
       "    <tr>\n",
       "      <td>82</td>\n",
       "      <td>6</td>\n",
       "      <td>0.876136</td>\n",
       "      <td>0.017993</td>\n",
       "      <td>2833</td>\n",
       "      <td>8</td>\n",
       "      <td>16</td>\n",
       "      <td>mse</td>\n",
       "    </tr>\n",
       "    <tr>\n",
       "      <td>81</td>\n",
       "      <td>7</td>\n",
       "      <td>0.876090</td>\n",
       "      <td>0.018059</td>\n",
       "      <td>2000</td>\n",
       "      <td>8</td>\n",
       "      <td>16</td>\n",
       "      <td>mse</td>\n",
       "    </tr>\n",
       "    <tr>\n",
       "      <td>4</td>\n",
       "      <td>8</td>\n",
       "      <td>0.875955</td>\n",
       "      <td>0.017620</td>\n",
       "      <td>3166</td>\n",
       "      <td>9</td>\n",
       "      <td>22</td>\n",
       "      <td>mse</td>\n",
       "    </tr>\n",
       "    <tr>\n",
       "      <td>31</td>\n",
       "      <td>9</td>\n",
       "      <td>0.875924</td>\n",
       "      <td>0.017600</td>\n",
       "      <td>2500</td>\n",
       "      <td>9</td>\n",
       "      <td>22</td>\n",
       "      <td>mse</td>\n",
       "    </tr>\n",
       "    <tr>\n",
       "      <td>94</td>\n",
       "      <td>10</td>\n",
       "      <td>0.875799</td>\n",
       "      <td>0.017594</td>\n",
       "      <td>2666</td>\n",
       "      <td>9</td>\n",
       "      <td>20</td>\n",
       "      <td>mse</td>\n",
       "    </tr>\n",
       "    <tr>\n",
       "      <td>97</td>\n",
       "      <td>11</td>\n",
       "      <td>0.875780</td>\n",
       "      <td>0.017572</td>\n",
       "      <td>2833</td>\n",
       "      <td>9</td>\n",
       "      <td>20</td>\n",
       "      <td>mse</td>\n",
       "    </tr>\n",
       "  </tbody>\n",
       "</table>\n",
       "</div>"
      ],
      "text/plain": [
       "    rank_test_score  mean_test_score  std_test_score  n_estimators  \\\n",
       "43                1         0.876456        0.017853          3166   \n",
       "24                2         0.876433        0.017852          3333   \n",
       "88                3         0.876408        0.017853          2666   \n",
       "9                 4         0.876302        0.018174          2500   \n",
       "92                5         0.876165        0.018160          3333   \n",
       "82                6         0.876136        0.017993          2833   \n",
       "81                7         0.876090        0.018059          2000   \n",
       "4                 8         0.875955        0.017620          3166   \n",
       "31                9         0.875924        0.017600          2500   \n",
       "94               10         0.875799        0.017594          2666   \n",
       "97               11         0.875780        0.017572          2833   \n",
       "\n",
       "    min_samples_split  max_features criterion  \n",
       "43                  8            22       mse  \n",
       "24                  8            22       mse  \n",
       "88                  8            22       mse  \n",
       "9                   8            20       mse  \n",
       "92                  8            20       mse  \n",
       "82                  8            16       mse  \n",
       "81                  8            16       mse  \n",
       "4                   9            22       mse  \n",
       "31                  9            22       mse  \n",
       "94                  9            20       mse  \n",
       "97                  9            20       mse  "
      ]
     },
     "execution_count": 70,
     "metadata": {},
     "output_type": "execute_result"
    }
   ],
   "source": [
    "random_scores = pd.DataFrame(rf_random.cv_results_)[['params', 'mean_test_score', 'std_test_score', 'rank_test_score']]\n",
    "random_scores = random_scores.set_index(['rank_test_score', 'mean_test_score', 'std_test_score']).params.apply(pd.Series).reset_index()\n",
    "random_scores_top_10 = random_scores.sort_values('rank_test_score')[:11]\n",
    "random_scores_top_10"
   ]
  },
  {
   "cell_type": "markdown",
   "metadata": {},
   "source": [
    "Calculate R^2 (coefficient of determination) score of model and mean training error:"
   ]
  },
  {
   "cell_type": "code",
   "execution_count": 39,
   "metadata": {},
   "outputs": [],
   "source": [
    "from sklearn.metrics import r2_score"
   ]
  },
  {
   "cell_type": "code",
   "execution_count": 40,
   "metadata": {},
   "outputs": [
    {
     "name": "stdout",
     "output_type": "stream",
     "text": [
      "The R^2 score of rf_random model is: 0.96876\n",
      "The mean test score of rf_random model is: 0.87646\n",
      "The training error of rf_random model is: 0.03124\n"
     ]
    }
   ],
   "source": [
    "print('The R^2 score of rf_random model is: %.5f' %(r2_score(y_train, rf_random.predict(X_train))))\n",
    "print('The mean test score of rf_random model is: %.5f' %(rf_random.best_score_))\n",
    "print(\"The training error of rf_random model is: %.5f\" %(1 - rf_random.score(X_train, y_train)))"
   ]
  },
  {
   "cell_type": "markdown",
   "metadata": {},
   "source": [
    "#### Grid Search"
   ]
  },
  {
   "cell_type": "markdown",
   "metadata": {},
   "source": [
    "Evaluate combination of settings from randomized search:"
   ]
  },
  {
   "cell_type": "code",
   "execution_count": 72,
   "metadata": {},
   "outputs": [],
   "source": [
    "from sklearn.model_selection import GridSearchCV"
   ]
  },
  {
   "cell_type": "code",
   "execution_count": 94,
   "metadata": {},
   "outputs": [
    {
     "data": {
      "text/html": [
       "<div>\n",
       "<style scoped>\n",
       "    .dataframe tbody tr th:only-of-type {\n",
       "        vertical-align: middle;\n",
       "    }\n",
       "\n",
       "    .dataframe tbody tr th {\n",
       "        vertical-align: top;\n",
       "    }\n",
       "\n",
       "    .dataframe thead th {\n",
       "        text-align: right;\n",
       "    }\n",
       "</style>\n",
       "<table border=\"1\" class=\"dataframe\">\n",
       "  <thead>\n",
       "    <tr style=\"text-align: right;\">\n",
       "      <th></th>\n",
       "      <th>rank_test_score</th>\n",
       "      <th>mean_test_score</th>\n",
       "      <th>std_test_score</th>\n",
       "      <th>n_estimators</th>\n",
       "      <th>min_samples_split</th>\n",
       "      <th>max_features</th>\n",
       "    </tr>\n",
       "  </thead>\n",
       "  <tbody>\n",
       "    <tr>\n",
       "      <td>count</td>\n",
       "      <td>11.000000</td>\n",
       "      <td>11.000000</td>\n",
       "      <td>11.000000</td>\n",
       "      <td>11.000000</td>\n",
       "      <td>11.000000</td>\n",
       "      <td>11.000000</td>\n",
       "    </tr>\n",
       "    <tr>\n",
       "      <td>mean</td>\n",
       "      <td>6.000000</td>\n",
       "      <td>0.876131</td>\n",
       "      <td>0.017848</td>\n",
       "      <td>2817.818182</td>\n",
       "      <td>8.363636</td>\n",
       "      <td>20.181818</td>\n",
       "    </tr>\n",
       "    <tr>\n",
       "      <td>std</td>\n",
       "      <td>3.316625</td>\n",
       "      <td>0.000248</td>\n",
       "      <td>0.000229</td>\n",
       "      <td>411.179722</td>\n",
       "      <td>0.504525</td>\n",
       "      <td>2.272364</td>\n",
       "    </tr>\n",
       "    <tr>\n",
       "      <td>min</td>\n",
       "      <td>1.000000</td>\n",
       "      <td>0.875780</td>\n",
       "      <td>0.017572</td>\n",
       "      <td>2000.000000</td>\n",
       "      <td>8.000000</td>\n",
       "      <td>16.000000</td>\n",
       "    </tr>\n",
       "    <tr>\n",
       "      <td>25%</td>\n",
       "      <td>3.500000</td>\n",
       "      <td>0.875939</td>\n",
       "      <td>0.017610</td>\n",
       "      <td>2583.000000</td>\n",
       "      <td>8.000000</td>\n",
       "      <td>20.000000</td>\n",
       "    </tr>\n",
       "    <tr>\n",
       "      <td>50%</td>\n",
       "      <td>6.000000</td>\n",
       "      <td>0.876136</td>\n",
       "      <td>0.017853</td>\n",
       "      <td>2833.000000</td>\n",
       "      <td>8.000000</td>\n",
       "      <td>20.000000</td>\n",
       "    </tr>\n",
       "    <tr>\n",
       "      <td>75%</td>\n",
       "      <td>8.500000</td>\n",
       "      <td>0.876355</td>\n",
       "      <td>0.018026</td>\n",
       "      <td>3166.000000</td>\n",
       "      <td>9.000000</td>\n",
       "      <td>22.000000</td>\n",
       "    </tr>\n",
       "    <tr>\n",
       "      <td>max</td>\n",
       "      <td>11.000000</td>\n",
       "      <td>0.876456</td>\n",
       "      <td>0.018174</td>\n",
       "      <td>3333.000000</td>\n",
       "      <td>9.000000</td>\n",
       "      <td>22.000000</td>\n",
       "    </tr>\n",
       "  </tbody>\n",
       "</table>\n",
       "</div>"
      ],
      "text/plain": [
       "       rank_test_score  mean_test_score  std_test_score  n_estimators  \\\n",
       "count        11.000000        11.000000       11.000000     11.000000   \n",
       "mean          6.000000         0.876131        0.017848   2817.818182   \n",
       "std           3.316625         0.000248        0.000229    411.179722   \n",
       "min           1.000000         0.875780        0.017572   2000.000000   \n",
       "25%           3.500000         0.875939        0.017610   2583.000000   \n",
       "50%           6.000000         0.876136        0.017853   2833.000000   \n",
       "75%           8.500000         0.876355        0.018026   3166.000000   \n",
       "max          11.000000         0.876456        0.018174   3333.000000   \n",
       "\n",
       "       min_samples_split  max_features  \n",
       "count          11.000000     11.000000  \n",
       "mean            8.363636     20.181818  \n",
       "std             0.504525      2.272364  \n",
       "min             8.000000     16.000000  \n",
       "25%             8.000000     20.000000  \n",
       "50%             8.000000     20.000000  \n",
       "75%             9.000000     22.000000  \n",
       "max             9.000000     22.000000  "
      ]
     },
     "execution_count": 94,
     "metadata": {},
     "output_type": "execute_result"
    }
   ],
   "source": [
    "random_scores_top_10.describe()"
   ]
  },
  {
   "cell_type": "code",
   "execution_count": 103,
   "metadata": {},
   "outputs": [],
   "source": [
    "param_grid = {\n",
    "    'max_features': [16, 18, 20, 22],\n",
    "    'min_samples_split': [8, 9, 10],\n",
    "    'n_estimators': [2000, 2666, 2700, 3166]\n",
    "}"
   ]
  },
  {
   "cell_type": "code",
   "execution_count": 104,
   "metadata": {},
   "outputs": [
    {
     "name": "stdout",
     "output_type": "stream",
     "text": [
      "Fitting 5 folds for each of 27 candidates, totalling 135 fits\n"
     ]
    },
    {
     "name": "stderr",
     "output_type": "stream",
     "text": [
      "[Parallel(n_jobs=-1)]: Using backend LokyBackend with 8 concurrent workers.\n",
      "[Parallel(n_jobs=-1)]: Done  25 tasks      | elapsed:  1.5min\n",
      "[Parallel(n_jobs=-1)]: Done 135 out of 135 | elapsed:  6.3min finished\n"
     ]
    },
    {
     "data": {
      "text/plain": [
       "GridSearchCV(cv=5, error_score='raise-deprecating',\n",
       "             estimator=RandomForestRegressor(bootstrap=True, criterion='mse',\n",
       "                                             max_depth=None,\n",
       "                                             max_features='auto',\n",
       "                                             max_leaf_nodes=None,\n",
       "                                             min_impurity_decrease=0.0,\n",
       "                                             min_impurity_split=None,\n",
       "                                             min_samples_leaf=1,\n",
       "                                             min_samples_split=2,\n",
       "                                             min_weight_fraction_leaf=0.0,\n",
       "                                             n_estimators='warn', n_jobs=None,\n",
       "                                             oob_score=True, random_state=999,\n",
       "                                             verbose=0, warm_start=False),\n",
       "             iid='warn', n_jobs=-1,\n",
       "             param_grid={'max_features': [19, 20, 22],\n",
       "                         'min_samples_split': [8, 9, 10],\n",
       "                         'n_estimators': [2666, 2700, 3166]},\n",
       "             pre_dispatch='2*n_jobs', refit=True, return_train_score=False,\n",
       "             scoring=None, verbose=2)"
      ]
     },
     "execution_count": 104,
     "metadata": {},
     "output_type": "execute_result"
    }
   ],
   "source": [
    "# Use gridSearchCV to search to narrow down parameters\n",
    "grid_search = GridSearchCV(estimator = rf, param_grid = param_grid,\n",
    "                           cv = 5, n_jobs = -1, verbose = 2)\n",
    "\n",
    "# Fit the random search model\n",
    "grid_search.fit(X_train, y_train)"
   ]
  },
  {
   "cell_type": "code",
   "execution_count": 105,
   "metadata": {},
   "outputs": [
    {
     "data": {
      "text/plain": [
       "{'max_features': 22, 'min_samples_split': 8, 'n_estimators': 3166}"
      ]
     },
     "execution_count": 105,
     "metadata": {},
     "output_type": "execute_result"
    }
   ],
   "source": [
    "grid_search.best_params_"
   ]
  },
  {
   "cell_type": "code",
   "execution_count": 115,
   "metadata": {},
   "outputs": [
    {
     "data": {
      "text/html": [
       "<div>\n",
       "<style scoped>\n",
       "    .dataframe tbody tr th:only-of-type {\n",
       "        vertical-align: middle;\n",
       "    }\n",
       "\n",
       "    .dataframe tbody tr th {\n",
       "        vertical-align: top;\n",
       "    }\n",
       "\n",
       "    .dataframe thead th {\n",
       "        text-align: right;\n",
       "    }\n",
       "</style>\n",
       "<table border=\"1\" class=\"dataframe\">\n",
       "  <thead>\n",
       "    <tr style=\"text-align: right;\">\n",
       "      <th></th>\n",
       "      <th>rank_test_score</th>\n",
       "      <th>mean_test_score</th>\n",
       "      <th>std_test_score</th>\n",
       "      <th>max_features</th>\n",
       "      <th>min_samples_split</th>\n",
       "      <th>n_estimators</th>\n",
       "    </tr>\n",
       "  </thead>\n",
       "  <tbody>\n",
       "    <tr>\n",
       "      <td>20</td>\n",
       "      <td>1</td>\n",
       "      <td>0.876456</td>\n",
       "      <td>0.017853</td>\n",
       "      <td>22</td>\n",
       "      <td>8</td>\n",
       "      <td>3166</td>\n",
       "    </tr>\n",
       "    <tr>\n",
       "      <td>18</td>\n",
       "      <td>2</td>\n",
       "      <td>0.876408</td>\n",
       "      <td>0.017853</td>\n",
       "      <td>22</td>\n",
       "      <td>8</td>\n",
       "      <td>2666</td>\n",
       "    </tr>\n",
       "    <tr>\n",
       "      <td>19</td>\n",
       "      <td>3</td>\n",
       "      <td>0.876402</td>\n",
       "      <td>0.017882</td>\n",
       "      <td>22</td>\n",
       "      <td>8</td>\n",
       "      <td>2700</td>\n",
       "    </tr>\n",
       "    <tr>\n",
       "      <td>10</td>\n",
       "      <td>4</td>\n",
       "      <td>0.876255</td>\n",
       "      <td>0.018202</td>\n",
       "      <td>20</td>\n",
       "      <td>8</td>\n",
       "      <td>2700</td>\n",
       "    </tr>\n",
       "    <tr>\n",
       "      <td>9</td>\n",
       "      <td>5</td>\n",
       "      <td>0.876254</td>\n",
       "      <td>0.018196</td>\n",
       "      <td>20</td>\n",
       "      <td>8</td>\n",
       "      <td>2666</td>\n",
       "    </tr>\n",
       "    <tr>\n",
       "      <td>2</td>\n",
       "      <td>6</td>\n",
       "      <td>0.876246</td>\n",
       "      <td>0.018153</td>\n",
       "      <td>19</td>\n",
       "      <td>8</td>\n",
       "      <td>3166</td>\n",
       "    </tr>\n",
       "    <tr>\n",
       "      <td>1</td>\n",
       "      <td>7</td>\n",
       "      <td>0.876178</td>\n",
       "      <td>0.018110</td>\n",
       "      <td>19</td>\n",
       "      <td>8</td>\n",
       "      <td>2700</td>\n",
       "    </tr>\n",
       "    <tr>\n",
       "      <td>0</td>\n",
       "      <td>8</td>\n",
       "      <td>0.876174</td>\n",
       "      <td>0.018118</td>\n",
       "      <td>19</td>\n",
       "      <td>8</td>\n",
       "      <td>2666</td>\n",
       "    </tr>\n",
       "    <tr>\n",
       "      <td>11</td>\n",
       "      <td>9</td>\n",
       "      <td>0.876159</td>\n",
       "      <td>0.018151</td>\n",
       "      <td>20</td>\n",
       "      <td>8</td>\n",
       "      <td>3166</td>\n",
       "    </tr>\n",
       "    <tr>\n",
       "      <td>23</td>\n",
       "      <td>10</td>\n",
       "      <td>0.875955</td>\n",
       "      <td>0.017620</td>\n",
       "      <td>22</td>\n",
       "      <td>9</td>\n",
       "      <td>3166</td>\n",
       "    </tr>\n",
       "    <tr>\n",
       "      <td>21</td>\n",
       "      <td>11</td>\n",
       "      <td>0.875881</td>\n",
       "      <td>0.017592</td>\n",
       "      <td>22</td>\n",
       "      <td>9</td>\n",
       "      <td>2666</td>\n",
       "    </tr>\n",
       "  </tbody>\n",
       "</table>\n",
       "</div>"
      ],
      "text/plain": [
       "    rank_test_score  mean_test_score  std_test_score  max_features  \\\n",
       "20                1         0.876456        0.017853            22   \n",
       "18                2         0.876408        0.017853            22   \n",
       "19                3         0.876402        0.017882            22   \n",
       "10                4         0.876255        0.018202            20   \n",
       "9                 5         0.876254        0.018196            20   \n",
       "2                 6         0.876246        0.018153            19   \n",
       "1                 7         0.876178        0.018110            19   \n",
       "0                 8         0.876174        0.018118            19   \n",
       "11                9         0.876159        0.018151            20   \n",
       "23               10         0.875955        0.017620            22   \n",
       "21               11         0.875881        0.017592            22   \n",
       "\n",
       "    min_samples_split  n_estimators  \n",
       "20                  8          3166  \n",
       "18                  8          2666  \n",
       "19                  8          2700  \n",
       "10                  8          2700  \n",
       "9                   8          2666  \n",
       "2                   8          3166  \n",
       "1                   8          2700  \n",
       "0                   8          2666  \n",
       "11                  8          3166  \n",
       "23                  9          3166  \n",
       "21                  9          2666  "
      ]
     },
     "execution_count": 115,
     "metadata": {},
     "output_type": "execute_result"
    }
   ],
   "source": [
    "grid_scores = pd.DataFrame(grid_search.cv_results_)[['params', 'mean_test_score', 'std_test_score', 'rank_test_score']]\n",
    "grid_scores = grid_scores.set_index(['rank_test_score', 'mean_test_score', 'std_test_score']).params.apply(pd.Series).reset_index()\n",
    "grid_scores.sort_values('rank_test_score')[:11]"
   ]
  },
  {
   "cell_type": "markdown",
   "metadata": {},
   "source": [
    "Calculate R^2 (coefficient of determination) score, mean test score, and mean training error of `grid_search` model using best parameters:"
   ]
  },
  {
   "cell_type": "code",
   "execution_count": 108,
   "metadata": {},
   "outputs": [
    {
     "name": "stdout",
     "output_type": "stream",
     "text": [
      "The R^2 score of grid_search model is: 0.96876\n",
      "The mean test score of grid_search model is: 0.87646\n",
      "The training error of grid_search model is: 0.03124\n"
     ]
    }
   ],
   "source": [
    "print('The R^2 score of grid_search model is: %.5f' %(r2_score(y_train, grid_search.predict(X_train))))\n",
    "print('The mean test score of grid_search model is: %.5f' %(grid_search.best_score_))\n",
    "print('The training error of grid_search model is: %.5f' %(1 - grid_search.score(X_train, y_train)))"
   ]
  },
  {
   "cell_type": "markdown",
   "metadata": {},
   "source": [
    "### Make predictions"
   ]
  },
  {
   "cell_type": "markdown",
   "metadata": {},
   "source": [
    "Predict test values:"
   ]
  },
  {
   "cell_type": "code",
   "execution_count": 119,
   "metadata": {},
   "outputs": [],
   "source": [
    "y_predict = np.expm1(grid_search.predict(X_test.drop(columns = 'Id')))"
   ]
  },
  {
   "cell_type": "code",
   "execution_count": 120,
   "metadata": {},
   "outputs": [
    {
     "data": {
      "text/html": [
       "<div>\n",
       "<style scoped>\n",
       "    .dataframe tbody tr th:only-of-type {\n",
       "        vertical-align: middle;\n",
       "    }\n",
       "\n",
       "    .dataframe tbody tr th {\n",
       "        vertical-align: top;\n",
       "    }\n",
       "\n",
       "    .dataframe thead th {\n",
       "        text-align: right;\n",
       "    }\n",
       "</style>\n",
       "<table border=\"1\" class=\"dataframe\">\n",
       "  <thead>\n",
       "    <tr style=\"text-align: right;\">\n",
       "      <th></th>\n",
       "      <th>Id</th>\n",
       "      <th>SalePrice</th>\n",
       "    </tr>\n",
       "  </thead>\n",
       "  <tbody>\n",
       "    <tr>\n",
       "      <td>0</td>\n",
       "      <td>1461</td>\n",
       "      <td>123363.153829</td>\n",
       "    </tr>\n",
       "    <tr>\n",
       "      <td>1</td>\n",
       "      <td>1462</td>\n",
       "      <td>152844.972783</td>\n",
       "    </tr>\n",
       "    <tr>\n",
       "      <td>2</td>\n",
       "      <td>1463</td>\n",
       "      <td>186605.605838</td>\n",
       "    </tr>\n",
       "    <tr>\n",
       "      <td>3</td>\n",
       "      <td>1464</td>\n",
       "      <td>189418.864573</td>\n",
       "    </tr>\n",
       "    <tr>\n",
       "      <td>4</td>\n",
       "      <td>1465</td>\n",
       "      <td>194554.005132</td>\n",
       "    </tr>\n",
       "    <tr>\n",
       "      <td>...</td>\n",
       "      <td>...</td>\n",
       "      <td>...</td>\n",
       "    </tr>\n",
       "    <tr>\n",
       "      <td>1454</td>\n",
       "      <td>2915</td>\n",
       "      <td>84968.101800</td>\n",
       "    </tr>\n",
       "    <tr>\n",
       "      <td>1455</td>\n",
       "      <td>2916</td>\n",
       "      <td>84810.489852</td>\n",
       "    </tr>\n",
       "    <tr>\n",
       "      <td>1456</td>\n",
       "      <td>2917</td>\n",
       "      <td>156699.748789</td>\n",
       "    </tr>\n",
       "    <tr>\n",
       "      <td>1457</td>\n",
       "      <td>2918</td>\n",
       "      <td>113811.668397</td>\n",
       "    </tr>\n",
       "    <tr>\n",
       "      <td>1458</td>\n",
       "      <td>2919</td>\n",
       "      <td>209332.187578</td>\n",
       "    </tr>\n",
       "  </tbody>\n",
       "</table>\n",
       "<p>1459 rows × 2 columns</p>\n",
       "</div>"
      ],
      "text/plain": [
       "        Id      SalePrice\n",
       "0     1461  123363.153829\n",
       "1     1462  152844.972783\n",
       "2     1463  186605.605838\n",
       "3     1464  189418.864573\n",
       "4     1465  194554.005132\n",
       "...    ...            ...\n",
       "1454  2915   84968.101800\n",
       "1455  2916   84810.489852\n",
       "1456  2917  156699.748789\n",
       "1457  2918  113811.668397\n",
       "1458  2919  209332.187578\n",
       "\n",
       "[1459 rows x 2 columns]"
      ]
     },
     "execution_count": 120,
     "metadata": {},
     "output_type": "execute_result"
    }
   ],
   "source": [
    "price = pd.DataFrame(y_predict, columns=['SalePrice'])\n",
    "\n",
    "results = pd.concat([X_test['Id'], price['SalePrice']], axis=1)\n",
    "results"
   ]
  },
  {
   "cell_type": "markdown",
   "metadata": {},
   "source": [
    "## Feature importance"
   ]
  },
  {
   "cell_type": "markdown",
   "metadata": {},
   "source": [
    "### Measure: mean decrease in purity"
   ]
  },
  {
   "cell_type": "markdown",
   "metadata": {},
   "source": [
    "Calculate feature importance using `sklearn`'s default:"
   ]
  },
  {
   "cell_type": "code",
   "execution_count": 121,
   "metadata": {},
   "outputs": [
    {
     "name": "stdout",
     "output_type": "stream",
     "text": [
      "Feature: Neighborhood         Importance: 0.2\n",
      "Feature: GrLivArea            Importance: 0.18\n",
      "Feature: YearBuilt            Importance: 0.09\n",
      "Feature: TotalBsmtSF          Importance: 0.06\n",
      "Feature: GarageCars           Importance: 0.06\n",
      "Feature: 1stFlrSF             Importance: 0.05\n",
      "Feature: GarageArea           Importance: 0.05\n",
      "Feature: OverallQual          Importance: 0.03\n",
      "Feature: GarageYrBlt          Importance: 0.03\n",
      "Feature: GarageFinish         Importance: 0.03\n",
      "Feature: LotArea              Importance: 0.02\n",
      "Feature: YearRemodAdd         Importance: 0.02\n",
      "Feature: 2ndFlrSF             Importance: 0.02\n",
      "Feature: MSSubClass           Importance: 0.01\n",
      "Feature: LotFrontage          Importance: 0.01\n",
      "Feature: ExterQual            Importance: 0.01\n",
      "Feature: Foundation           Importance: 0.01\n",
      "Feature: BsmtQual             Importance: 0.01\n",
      "Feature: CentralAir           Importance: 0.01\n",
      "Feature: KitchenQual          Importance: 0.01\n",
      "Feature: Fireplaces           Importance: 0.01\n",
      "Feature: FireplaceQu          Importance: 0.01\n",
      "Feature: TotalPorchAreasSF    Importance: 0.01\n",
      "Feature: TotalBath            Importance: 0.01\n",
      "Feature: MSZoning             Importance: 0.0\n",
      "Feature: Alley                Importance: 0.0\n",
      "Feature: LotShape             Importance: 0.0\n",
      "Feature: LandContour          Importance: 0.0\n",
      "Feature: LotConfig            Importance: 0.0\n",
      "Feature: LandSlope            Importance: 0.0\n",
      "Feature: Condition1           Importance: 0.0\n",
      "Feature: Condition2           Importance: 0.0\n",
      "Feature: BldgType             Importance: 0.0\n",
      "Feature: HouseStyle           Importance: 0.0\n",
      "Feature: OverallCond          Importance: 0.0\n",
      "Feature: RoofStyle            Importance: 0.0\n",
      "Feature: RoofMatl             Importance: 0.0\n",
      "Feature: Exterior1st          Importance: 0.0\n",
      "Feature: Exterior2nd          Importance: 0.0\n",
      "Feature: MasVnrType           Importance: 0.0\n",
      "Feature: MasVnrArea           Importance: 0.0\n",
      "Feature: ExterCond            Importance: 0.0\n",
      "Feature: BsmtCond             Importance: 0.0\n",
      "Feature: BsmtExposure         Importance: 0.0\n",
      "Feature: BsmtFinType1         Importance: 0.0\n",
      "Feature: BsmtFinType2         Importance: 0.0\n",
      "Feature: Heating              Importance: 0.0\n",
      "Feature: HeatingQC            Importance: 0.0\n",
      "Feature: Electrical           Importance: 0.0\n",
      "Feature: LowQualFinSF         Importance: 0.0\n",
      "Feature: BedroomAbvGr         Importance: 0.0\n",
      "Feature: KitchenAbvGr         Importance: 0.0\n",
      "Feature: Functional           Importance: 0.0\n",
      "Feature: GarageType           Importance: 0.0\n",
      "Feature: GarageQual           Importance: 0.0\n",
      "Feature: GarageCond           Importance: 0.0\n",
      "Feature: PavedDrive           Importance: 0.0\n",
      "Feature: PoolArea             Importance: 0.0\n",
      "Feature: Fence                Importance: 0.0\n",
      "Feature: MiscVal              Importance: 0.0\n",
      "Feature: MoSold               Importance: 0.0\n",
      "Feature: YrSold               Importance: 0.0\n",
      "Feature: SaleType             Importance: 0.0\n",
      "Feature: SaleCondition        Importance: 0.0\n",
      "Feature: Remodeled            Importance: 0.0\n",
      "Feature: OtherRoomsAbvGrd     Importance: 0.0\n"
     ]
    }
   ],
   "source": [
    "rf_features = list(X_train.columns)\n",
    "\n",
    "importances = list(grid_search.best_estimator_.feature_importances_)\n",
    "\n",
    "feature_importances = [(feature, round(importance, 2)) for feature,\n",
    "                      importance in zip(rf_features, importances)]\n",
    "feature_importances = sorted(feature_importances, key = lambda x: x[1], reverse = True)\n",
    "\n",
    "[print('Feature: {:20} Importance: {}'.format(*pair)) for pair in feature_importances][0]"
   ]
  },
  {
   "cell_type": "markdown",
   "metadata": {},
   "source": [
    "### Measure: Permutation importance"
   ]
  },
  {
   "cell_type": "markdown",
   "metadata": {},
   "source": [
    "Calculate permutation feature importance using `rfpimp`:"
   ]
  },
  {
   "cell_type": "code",
   "execution_count": 122,
   "metadata": {},
   "outputs": [],
   "source": [
    "from rfpimp import permutation_importances, dropcol_importances"
   ]
  },
  {
   "cell_type": "code",
   "execution_count": 123,
   "metadata": {},
   "outputs": [
    {
     "name": "stdout",
     "output_type": "stream",
     "text": [
      "Fitting 5 folds for each of 27 candidates, totalling 135 fits\n"
     ]
    },
    {
     "name": "stderr",
     "output_type": "stream",
     "text": [
      "[Parallel(n_jobs=-1)]: Using backend LokyBackend with 8 concurrent workers.\n",
      "[Parallel(n_jobs=-1)]: Done  25 tasks      | elapsed:  1.4min\n",
      "[Parallel(n_jobs=-1)]: Done 135 out of 135 | elapsed:  6.2min finished\n"
     ]
    }
   ],
   "source": [
    "def r2(grid_search, X_train, y_train):\n",
    "    return r2_score(y_train, grid_search.predict(X_train))\n",
    "\n",
    "rfpimp_perm = permutation_importances(grid_search, X_train, y_train, r2)"
   ]
  },
  {
   "cell_type": "code",
   "execution_count": 124,
   "metadata": {},
   "outputs": [
    {
     "name": "stdout",
     "output_type": "stream",
     "text": [
      "              Feature  Importance\n",
      "0           GrLivArea    0.167501\n",
      "1        Neighborhood    0.100848\n",
      "2         TotalBsmtSF    0.035136\n",
      "3            1stFlrSF    0.029909\n",
      "4           YearBuilt    0.029452\n",
      "5         OverallQual    0.022041\n",
      "6          GarageCars    0.017934\n",
      "7          GarageArea    0.017786\n",
      "8        YearRemodAdd    0.011727\n",
      "9             LotArea    0.010924\n",
      "10           2ndFlrSF    0.008744\n",
      "11         Fireplaces    0.008520\n",
      "12        GarageYrBlt    0.008155\n",
      "13        FireplaceQu    0.007117\n",
      "14       GarageFinish    0.007007\n",
      "15         MSSubClass    0.006839\n",
      "16         CentralAir    0.006472\n",
      "17  TotalPorchAreasSF    0.006131\n",
      "18          TotalBath    0.004067\n",
      "19        LotFrontage    0.003992\n",
      "20        OverallCond    0.003441\n",
      "21           MSZoning    0.003133\n",
      "22        KitchenQual    0.003081\n",
      "23           BsmtQual    0.002943\n",
      "24          ExterQual    0.002884\n",
      "25       BsmtFinType1    0.002769\n",
      "26         MasVnrArea    0.001962\n",
      "27             MoSold    0.001902\n",
      "28      SaleCondition    0.001823\n",
      "29       BedroomAbvGr    0.001576\n",
      "30         GarageCond    0.001564\n",
      "31          HeatingQC    0.001538\n",
      "32        Exterior1st    0.001521\n",
      "33         Foundation    0.001475\n",
      "34           BsmtCond    0.001295\n",
      "35        Exterior2nd    0.001293\n",
      "36         GarageType    0.001242\n",
      "37         GarageQual    0.001213\n",
      "38   OtherRoomsAbvGrd    0.001051\n",
      "39          ExterCond    0.001027\n",
      "40       BsmtExposure    0.000983\n",
      "41         PavedDrive    0.000937\n",
      "42        LandContour    0.000889\n",
      "43             YrSold    0.000816\n",
      "44         HouseStyle    0.000816\n",
      "45         Functional    0.000729\n",
      "46         MasVnrType    0.000568\n",
      "47          LandSlope    0.000555\n",
      "48          RoofStyle    0.000544\n",
      "49           SaleType    0.000535\n",
      "50         Condition1    0.000524\n",
      "51           LotShape    0.000429\n",
      "52       KitchenAbvGr    0.000423\n",
      "53         Electrical    0.000392\n",
      "54              Fence    0.000313\n",
      "55          LotConfig    0.000300\n",
      "56           BldgType    0.000295\n",
      "57            Heating    0.000253\n",
      "58              Alley    0.000249\n",
      "59          Remodeled    0.000230\n",
      "60           RoofMatl    0.000224\n",
      "61       BsmtFinType2    0.000201\n",
      "62       LowQualFinSF    0.000154\n",
      "63            MiscVal    0.000150\n",
      "64         Condition2    0.000086\n",
      "65           PoolArea    0.000037\n"
     ]
    }
   ],
   "source": [
    "print_full(rfpimp_perm.reset_index().sort_values(by='Importance', ascending = False))"
   ]
  },
  {
   "cell_type": "markdown",
   "metadata": {},
   "source": [
    "### Measure: Drop-column importance"
   ]
  },
  {
   "cell_type": "markdown",
   "metadata": {},
   "source": [
    "Use `rfpimp`'s drop-column importance to investigate feature importance by comparing a reduced model with one column dropped to the saturated model via performance score:"
   ]
  },
  {
   "cell_type": "code",
   "execution_count": 125,
   "metadata": {},
   "outputs": [],
   "source": [
    "# Recreate grid_search model by using best parameters for saturated model\n",
    "rf_saturated = RandomForestRegressor(n_estimators = 2650, min_samples_split = 6, \n",
    "                                     max_features = 22, random_state = 999,\n",
    "                                     oob_score = True, n_jobs = -1)"
   ]
  },
  {
   "cell_type": "code",
   "execution_count": 126,
   "metadata": {},
   "outputs": [],
   "source": [
    "# Using function from rfpimp package\n",
    "\n",
    "def dropcol_importances(rf, X_train, y_train):\n",
    "    from sklearn.base import clone\n",
    "    rf_ = clone(rf)\n",
    "    rf_.random_state = 999\n",
    "    rf_.fit(X_train, y_train)\n",
    "    baseline = rf_.oob_score_\n",
    "    imp = []\n",
    "    for col in X_train.columns:\n",
    "        X = X_train.drop(col, axis=1)\n",
    "        rf_ = clone(rf)\n",
    "        rf_.random_state = 999\n",
    "        rf_.fit(X, y_train)\n",
    "        o = rf_.oob_score_\n",
    "        imp.append(baseline - o)\n",
    "    imp = np.array(imp)\n",
    "    I = pd.DataFrame(\n",
    "            data={'Feature':X_train.columns,\n",
    "                  'Importance':imp})\n",
    "    I = I.set_index('Feature')\n",
    "    I = I.sort_values('Importance', ascending=True)\n",
    "    return I\n",
    "\n",
    "drop_col_feat = dropcol_importances(rf_saturated, X_train, y_train)"
   ]
  },
  {
   "cell_type": "code",
   "execution_count": 127,
   "metadata": {},
   "outputs": [
    {
     "name": "stdout",
     "output_type": "stream",
     "text": [
      "                   Importance\n",
      "Feature                      \n",
      "Neighborhood         0.009416\n",
      "GrLivArea            0.007676\n",
      "OverallQual          0.004039\n",
      "OverallCond          0.001994\n",
      "YearRemodAdd         0.001949\n",
      "CentralAir           0.001868\n",
      "MSZoning             0.001851\n",
      "BsmtFinType1         0.001754\n",
      "LotArea              0.001219\n",
      "YearBuilt            0.001160\n",
      "TotalBsmtSF          0.000957\n",
      "BsmtFinType2         0.000897\n",
      "TotalPorchAreasSF    0.000896\n",
      "BsmtCond             0.000884\n",
      "KitchenQual          0.000842\n",
      "Foundation           0.000826\n",
      "HeatingQC            0.000755\n",
      "BsmtExposure         0.000732\n",
      "TotalBath            0.000680\n",
      "Fireplaces           0.000663\n",
      "RoofMatl             0.000621\n",
      "BedroomAbvGr         0.000558\n",
      "Exterior1st          0.000531\n",
      "BsmtQual             0.000521\n",
      "FireplaceQu          0.000490\n",
      "Exterior2nd          0.000475\n",
      "ExterQual            0.000473\n",
      "Heating              0.000458\n",
      "Functional           0.000415\n",
      "GarageFinish         0.000408\n",
      "SaleCondition        0.000374\n",
      "PavedDrive           0.000346\n",
      "MSSubClass           0.000329\n",
      "KitchenAbvGr         0.000321\n",
      "OtherRoomsAbvGrd     0.000313\n",
      "Remodeled            0.000299\n",
      "GarageType           0.000227\n",
      "Condition1           0.000204\n",
      "Fence                0.000204\n",
      "GarageCond           0.000172\n",
      "2ndFlrSF             0.000164\n",
      "ExterCond            0.000141\n",
      "LandSlope            0.000115\n",
      "Alley                0.000090\n",
      "1stFlrSF             0.000088\n",
      "RoofStyle            0.000086\n",
      "Electrical           0.000029\n",
      "GarageQual           0.000028\n",
      "MiscVal             -0.000005\n",
      "LotShape            -0.000034\n",
      "SaleType            -0.000115\n",
      "MasVnrType          -0.000119\n",
      "GarageYrBlt         -0.000133\n",
      "PoolArea            -0.000141\n",
      "HouseStyle          -0.000150\n",
      "LotConfig           -0.000156\n",
      "YrSold              -0.000231\n",
      "BldgType            -0.000278\n",
      "MasVnrArea          -0.000325\n",
      "LowQualFinSF        -0.000357\n",
      "LotFrontage         -0.000407\n",
      "GarageCars          -0.000411\n",
      "Condition2          -0.000449\n",
      "LandContour         -0.000487\n",
      "MoSold              -0.000645\n",
      "GarageArea          -0.001004\n"
     ]
    }
   ],
   "source": [
    "print_full(drop_col_feat.sort_values('Importance', ascending = False))"
   ]
  },
  {
   "cell_type": "markdown",
   "metadata": {},
   "source": [
    "### Conditional feature importance"
   ]
  },
  {
   "cell_type": "markdown",
   "metadata": {},
   "source": [
    "Identify indexes with the lowest and highest absolute prediction errors, which represent best and worst predictions:"
   ]
  },
  {
   "cell_type": "code",
   "execution_count": 129,
   "metadata": {},
   "outputs": [
    {
     "name": "stdout",
     "output_type": "stream",
     "text": [
      "Index with smallest error: 133\n",
      "Inxex with largest error: 1454\n"
     ]
    }
   ],
   "source": [
    "pred_diff = pd.DataFrame({'difference': abs(y_train - rf_saturated.fit(X_train, y_train).predict(X_train))})\n",
    "\n",
    "print('Index with smallest error:', pred_diff.sort_values('difference').head(1).index.values[0])\n",
    "print('Inxex with largest error:', pred_diff.sort_values('difference', ascending = False).head(1).index.values[0])"
   ]
  },
  {
   "cell_type": "markdown",
   "metadata": {},
   "source": [
    "Explanation here:"
   ]
  },
  {
   "cell_type": "code",
   "execution_count": 131,
   "metadata": {},
   "outputs": [],
   "source": [
    "from treeinterpreter import treeinterpreter as ti, utils"
   ]
  },
  {
   "cell_type": "code",
   "execution_count": 132,
   "metadata": {},
   "outputs": [
    {
     "name": "stdout",
     "output_type": "stream",
     "text": [
      "Row 133\n",
      "Prediction: 11.63504803756224\n",
      "Actual Value: 11.635151947212842\n",
      "Bias (trainset mean) 12.024083906177005\n",
      "Feature contributions:\n",
      "Neighborhood -0.14\n",
      "GrLivArea -0.11\n",
      "YearBuilt -0.06\n",
      "MSSubClass -0.03\n",
      "GarageCars -0.03\n",
      "FireplaceQu 0.02\n",
      "Fireplaces 0.02\n",
      "GarageFinish -0.02\n",
      "YearRemodAdd -0.02\n",
      "TotalBsmtSF 0.02\n",
      "OverallQual 0.02\n",
      "CentralAir 0.01\n",
      "GarageYrBlt -0.01\n",
      "BsmtCond -0.01\n",
      "GarageArea -0.01\n",
      "LotFrontage -0.01\n",
      "2ndFlrSF -0.01\n",
      "LotArea -0.01\n",
      "TotalBath -0.01\n",
      "OverallCond 0.01\n",
      "GarageQual 0.01\n",
      "GarageCond 0.01\n",
      "Foundation -0.0\n",
      "1stFlrSF -0.0\n",
      "BedroomAbvGr -0.0\n",
      "MSZoning -0.0\n",
      "SaleCondition 0.0\n",
      "PavedDrive 0.0\n",
      "HeatingQC -0.0\n",
      "BsmtFinType1 -0.0\n",
      "Electrical -0.0\n",
      "Condition1 0.0\n",
      "BsmtQual 0.0\n",
      "Functional 0.0\n",
      "HouseStyle 0.0\n",
      "TotalPorchAreasSF -0.0\n",
      "GarageType -0.0\n",
      "ExterQual -0.0\n",
      "MiscVal 0.0\n",
      "OtherRoomsAbvGrd -0.0\n",
      "Exterior1st 0.0\n",
      "YrSold -0.0\n",
      "Fence -0.0\n",
      "Exterior2nd 0.0\n",
      "SaleType 0.0\n",
      "ExterCond 0.0\n",
      "KitchenQual -0.0\n",
      "BsmtExposure 0.0\n",
      "Condition2 0.0\n",
      "Heating 0.0\n",
      "MasVnrArea -0.0\n",
      "MoSold 0.0\n",
      "LotShape -0.0\n",
      "LowQualFinSF 0.0\n",
      "MasVnrType -0.0\n",
      "BldgType 0.0\n",
      "RoofStyle -0.0\n",
      "LandSlope 0.0\n",
      "LandContour 0.0\n",
      "BsmtFinType2 0.0\n",
      "KitchenAbvGr 0.0\n",
      "RoofMatl -0.0\n",
      "LotConfig 0.0\n",
      "Remodeled -0.0\n",
      "PoolArea -0.0\n",
      "Alley -0.0\n",
      "--------------------\n",
      "Row 1454\n",
      "Prediction: 11.721172115104842\n",
      "Actual Value: 11.320565693461432\n",
      "Bias (trainset mean) 12.024083906177005\n",
      "Feature contributions:\n",
      "GrLivArea -0.13\n",
      "Neighborhood 0.1\n",
      "YearBuilt -0.05\n",
      "SaleCondition -0.04\n",
      "1stFlrSF -0.03\n",
      "ExterCond -0.03\n",
      "GarageYrBlt -0.03\n",
      "YearRemodAdd -0.02\n",
      "FireplaceQu 0.02\n",
      "Fireplaces 0.02\n",
      "GarageArea -0.01\n",
      "2ndFlrSF -0.01\n",
      "ExterQual -0.01\n",
      "MasVnrArea -0.01\n",
      "RoofStyle -0.01\n",
      "GarageFinish 0.01\n",
      "LotArea -0.01\n",
      "LotFrontage -0.01\n",
      "TotalPorchAreasSF -0.01\n",
      "KitchenQual -0.01\n",
      "BsmtQual -0.01\n",
      "Foundation -0.01\n",
      "GarageCars -0.0\n",
      "GarageType 0.0\n",
      "HeatingQC -0.0\n",
      "OverallCond -0.0\n",
      "OverallQual -0.0\n",
      "TotalBsmtSF -0.0\n",
      "YrSold -0.0\n",
      "HouseStyle -0.0\n",
      "OtherRoomsAbvGrd -0.0\n",
      "MSSubClass 0.0\n",
      "BsmtExposure -0.0\n",
      "CentralAir 0.0\n",
      "MoSold -0.0\n",
      "Exterior1st -0.0\n",
      "LotShape -0.0\n",
      "LandContour -0.0\n",
      "BsmtCond 0.0\n",
      "BedroomAbvGr -0.0\n",
      "Remodeled -0.0\n",
      "RoofMatl -0.0\n",
      "LandSlope -0.0\n",
      "MSZoning 0.0\n",
      "BsmtFinType1 -0.0\n",
      "KitchenAbvGr 0.0\n",
      "Functional 0.0\n",
      "BldgType 0.0\n",
      "LotConfig -0.0\n",
      "MasVnrType -0.0\n",
      "Exterior2nd -0.0\n",
      "GarageCond 0.0\n",
      "BsmtFinType2 -0.0\n",
      "GarageQual 0.0\n",
      "TotalBath -0.0\n",
      "Condition1 0.0\n",
      "Electrical 0.0\n",
      "Fence 0.0\n",
      "PavedDrive 0.0\n",
      "SaleType -0.0\n",
      "Condition2 0.0\n",
      "MiscVal -0.0\n",
      "Alley -0.0\n",
      "PoolArea -0.0\n",
      "Heating -0.0\n",
      "LowQualFinSF 0.0\n",
      "--------------------\n"
     ]
    }
   ],
   "source": [
    "selected_rows = [133, 1454]\n",
    "selected_df = X_train.iloc[selected_rows,:].values\n",
    "prediction, bias, contributions = ti.predict(rf_saturated, selected_df)\n",
    "\n",
    "for i in range(len(selected_rows)):\n",
    "    print(\"Row\", selected_rows[i])\n",
    "    print(\"Prediction:\", prediction[i][0])\n",
    "    print(\"Actual Value:\", y_train[selected_rows[i]])\n",
    "    print(\"Bias (trainset mean)\", bias[i])\n",
    "    print(\"Feature contributions:\")\n",
    "    for c, feature in sorted(zip(contributions[i], \n",
    "                                 X_train.columns), \n",
    "                             key=lambda x: -abs(x[0])):\n",
    "        print(feature, round(c, 2))\n",
    "    print(\"-\"*20)"
   ]
  },
  {
   "cell_type": "code",
   "execution_count": 133,
   "metadata": {},
   "outputs": [],
   "source": [
    "prediction1, bias1, contributions1 = ti.predict(rf_saturated, np.array([selected_df[0]]), joint_contribution=True)\n",
    "prediction2, bias2, contributions2 = ti.predict(rf_saturated, np.array([selected_df[1]]), joint_contribution=True)"
   ]
  },
  {
   "cell_type": "code",
   "execution_count": 134,
   "metadata": {},
   "outputs": [],
   "source": [
    "aggregated_contributions1 = utils.aggregated_contribution(contributions1)\n",
    "aggregated_contributions2 = utils.aggregated_contribution(contributions2)"
   ]
  },
  {
   "cell_type": "code",
   "execution_count": 135,
   "metadata": {},
   "outputs": [
    {
     "name": "stdout",
     "output_type": "stream",
     "text": [
      "-0.08612407754252877\n",
      "-0.08612407754252693\n"
     ]
    }
   ],
   "source": [
    "print (np.sum(list(aggregated_contributions1.values())) - \n",
    "       np.sum(list(aggregated_contributions2.values())))\n",
    "print (np.mean(prediction1) - np.mean(prediction2))"
   ]
  },
  {
   "cell_type": "code",
   "execution_count": 136,
   "metadata": {},
   "outputs": [
    {
     "name": "stdout",
     "output_type": "stream",
     "text": [
      "['Neighborhood'] [-0.16723725]\n",
      "['GarageFinish'] [-0.03454075]\n",
      "['GarageCars'] [-0.02320638]\n",
      "['Neighborhood', 'GrLivArea'] [-0.01966026]\n",
      "['YearBuilt', 'GrLivArea'] [-0.0183519]\n",
      "['TotalBsmtSF'] [-0.01259674]\n",
      "['TotalBsmtSF', 'GrLivArea'] [-0.00869977]\n",
      "['YearBuilt', '1stFlrSF'] [-0.00817919]\n",
      "['GarageArea'] [-0.00757325]\n",
      "['Neighborhood', 'GarageCars'] [0.00743535]\n"
     ]
    }
   ],
   "source": [
    "res = []\n",
    "for k in set(aggregated_contributions1.keys()).union(\n",
    "              set(aggregated_contributions2.keys())):\n",
    "    res.append(([X_train.columns[index] for index in k] , \n",
    "               aggregated_contributions1.get(k, 0) - aggregated_contributions2.get(k, 0)))   \n",
    "         \n",
    "for lst, v in (sorted(res, key=lambda x:-abs(x[1])))[:10]:\n",
    "    print (lst, v)"
   ]
  },
  {
   "cell_type": "markdown",
   "metadata": {},
   "source": [
    "### Investigating collinearity and feature dependence"
   ]
  },
  {
   "cell_type": "markdown",
   "metadata": {},
   "source": [
    "Based on "
   ]
  },
  {
   "cell_type": "code",
   "execution_count": 137,
   "metadata": {},
   "outputs": [],
   "source": [
    "from rfpimp import feature_corr_matrix, plot_corr_heatmap, feature_dependence_matrix, feature_dependence_matrix"
   ]
  },
  {
   "cell_type": "code",
   "execution_count": 138,
   "metadata": {},
   "outputs": [
    {
     "data": {
      "text/html": [
       "<div>\n",
       "<style scoped>\n",
       "    .dataframe tbody tr th:only-of-type {\n",
       "        vertical-align: middle;\n",
       "    }\n",
       "\n",
       "    .dataframe tbody tr th {\n",
       "        vertical-align: top;\n",
       "    }\n",
       "\n",
       "    .dataframe thead th {\n",
       "        text-align: right;\n",
       "    }\n",
       "</style>\n",
       "<table border=\"1\" class=\"dataframe\">\n",
       "  <thead>\n",
       "    <tr style=\"text-align: right;\">\n",
       "      <th></th>\n",
       "      <th>MSSubClass</th>\n",
       "      <th>MSZoning</th>\n",
       "      <th>LotFrontage</th>\n",
       "      <th>LotArea</th>\n",
       "      <th>Alley</th>\n",
       "      <th>LotShape</th>\n",
       "      <th>LandContour</th>\n",
       "      <th>LotConfig</th>\n",
       "      <th>LandSlope</th>\n",
       "      <th>Neighborhood</th>\n",
       "      <th>...</th>\n",
       "      <th>Fence</th>\n",
       "      <th>MiscVal</th>\n",
       "      <th>MoSold</th>\n",
       "      <th>YrSold</th>\n",
       "      <th>SaleType</th>\n",
       "      <th>SaleCondition</th>\n",
       "      <th>Remodeled</th>\n",
       "      <th>TotalPorchAreasSF</th>\n",
       "      <th>TotalBath</th>\n",
       "      <th>OtherRoomsAbvGrd</th>\n",
       "    </tr>\n",
       "  </thead>\n",
       "  <tbody>\n",
       "    <tr>\n",
       "      <td>MSSubClass</td>\n",
       "      <td>1.0000</td>\n",
       "      <td>0.3550</td>\n",
       "      <td>0.3052</td>\n",
       "      <td>0.2592</td>\n",
       "      <td>0.1158</td>\n",
       "      <td>0.2721</td>\n",
       "      <td>0.1152</td>\n",
       "      <td>0.0800</td>\n",
       "      <td>-0.0175</td>\n",
       "      <td>0.5348</td>\n",
       "      <td>...</td>\n",
       "      <td>0.0995</td>\n",
       "      <td>-0.0496</td>\n",
       "      <td>0.0385</td>\n",
       "      <td>-0.0137</td>\n",
       "      <td>0.1840</td>\n",
       "      <td>0.2062</td>\n",
       "      <td>-0.2386</td>\n",
       "      <td>0.2766</td>\n",
       "      <td>-0.4236</td>\n",
       "      <td>-0.0814</td>\n",
       "    </tr>\n",
       "    <tr>\n",
       "      <td>MSZoning</td>\n",
       "      <td>0.3550</td>\n",
       "      <td>1.0000</td>\n",
       "      <td>0.3037</td>\n",
       "      <td>0.2677</td>\n",
       "      <td>-0.1460</td>\n",
       "      <td>0.1873</td>\n",
       "      <td>0.0654</td>\n",
       "      <td>0.0594</td>\n",
       "      <td>-0.0089</td>\n",
       "      <td>0.5710</td>\n",
       "      <td>...</td>\n",
       "      <td>0.0584</td>\n",
       "      <td>-0.0232</td>\n",
       "      <td>-0.0028</td>\n",
       "      <td>0.0144</td>\n",
       "      <td>0.1828</td>\n",
       "      <td>0.1733</td>\n",
       "      <td>-0.2097</td>\n",
       "      <td>0.0743</td>\n",
       "      <td>-0.2997</td>\n",
       "      <td>-0.0050</td>\n",
       "    </tr>\n",
       "    <tr>\n",
       "      <td>LotFrontage</td>\n",
       "      <td>0.3052</td>\n",
       "      <td>0.3037</td>\n",
       "      <td>1.0000</td>\n",
       "      <td>0.6094</td>\n",
       "      <td>0.1928</td>\n",
       "      <td>0.1614</td>\n",
       "      <td>0.0763</td>\n",
       "      <td>0.1274</td>\n",
       "      <td>0.0578</td>\n",
       "      <td>0.3314</td>\n",
       "      <td>...</td>\n",
       "      <td>-0.0476</td>\n",
       "      <td>0.0292</td>\n",
       "      <td>0.0163</td>\n",
       "      <td>0.0021</td>\n",
       "      <td>0.0857</td>\n",
       "      <td>0.0973</td>\n",
       "      <td>-0.1107</td>\n",
       "      <td>0.1684</td>\n",
       "      <td>-0.1732</td>\n",
       "      <td>-0.0897</td>\n",
       "    </tr>\n",
       "    <tr>\n",
       "      <td>LotArea</td>\n",
       "      <td>0.2592</td>\n",
       "      <td>0.2677</td>\n",
       "      <td>0.6094</td>\n",
       "      <td>1.0000</td>\n",
       "      <td>0.1618</td>\n",
       "      <td>0.3414</td>\n",
       "      <td>0.1375</td>\n",
       "      <td>0.2192</td>\n",
       "      <td>0.1169</td>\n",
       "      <td>0.3043</td>\n",
       "      <td>...</td>\n",
       "      <td>0.0363</td>\n",
       "      <td>0.0593</td>\n",
       "      <td>0.0064</td>\n",
       "      <td>-0.0275</td>\n",
       "      <td>0.0696</td>\n",
       "      <td>0.0813</td>\n",
       "      <td>-0.0151</td>\n",
       "      <td>0.2466</td>\n",
       "      <td>-0.1539</td>\n",
       "      <td>-0.0700</td>\n",
       "    </tr>\n",
       "    <tr>\n",
       "      <td>Alley</td>\n",
       "      <td>0.1158</td>\n",
       "      <td>-0.1460</td>\n",
       "      <td>0.1928</td>\n",
       "      <td>0.1618</td>\n",
       "      <td>1.0000</td>\n",
       "      <td>0.0477</td>\n",
       "      <td>0.0597</td>\n",
       "      <td>0.0470</td>\n",
       "      <td>0.0038</td>\n",
       "      <td>-0.0254</td>\n",
       "      <td>...</td>\n",
       "      <td>-0.0409</td>\n",
       "      <td>0.0327</td>\n",
       "      <td>0.0214</td>\n",
       "      <td>0.0002</td>\n",
       "      <td>-0.0466</td>\n",
       "      <td>-0.0116</td>\n",
       "      <td>-0.0536</td>\n",
       "      <td>0.0110</td>\n",
       "      <td>0.0471</td>\n",
       "      <td>-0.0953</td>\n",
       "    </tr>\n",
       "    <tr>\n",
       "      <td>...</td>\n",
       "      <td>...</td>\n",
       "      <td>...</td>\n",
       "      <td>...</td>\n",
       "      <td>...</td>\n",
       "      <td>...</td>\n",
       "      <td>...</td>\n",
       "      <td>...</td>\n",
       "      <td>...</td>\n",
       "      <td>...</td>\n",
       "      <td>...</td>\n",
       "      <td>...</td>\n",
       "      <td>...</td>\n",
       "      <td>...</td>\n",
       "      <td>...</td>\n",
       "      <td>...</td>\n",
       "      <td>...</td>\n",
       "      <td>...</td>\n",
       "      <td>...</td>\n",
       "      <td>...</td>\n",
       "      <td>...</td>\n",
       "      <td>...</td>\n",
       "    </tr>\n",
       "    <tr>\n",
       "      <td>SaleCondition</td>\n",
       "      <td>0.2062</td>\n",
       "      <td>0.1733</td>\n",
       "      <td>0.0973</td>\n",
       "      <td>0.0813</td>\n",
       "      <td>-0.0116</td>\n",
       "      <td>0.0591</td>\n",
       "      <td>0.0771</td>\n",
       "      <td>-0.0430</td>\n",
       "      <td>-0.0589</td>\n",
       "      <td>0.2850</td>\n",
       "      <td>...</td>\n",
       "      <td>0.1542</td>\n",
       "      <td>-0.0213</td>\n",
       "      <td>0.0584</td>\n",
       "      <td>-0.0505</td>\n",
       "      <td>0.6730</td>\n",
       "      <td>1.0000</td>\n",
       "      <td>-0.0074</td>\n",
       "      <td>0.0706</td>\n",
       "      <td>-0.1588</td>\n",
       "      <td>-0.0592</td>\n",
       "    </tr>\n",
       "    <tr>\n",
       "      <td>Remodeled</td>\n",
       "      <td>-0.2386</td>\n",
       "      <td>-0.2097</td>\n",
       "      <td>-0.1107</td>\n",
       "      <td>-0.0151</td>\n",
       "      <td>-0.0536</td>\n",
       "      <td>-0.0724</td>\n",
       "      <td>-0.0543</td>\n",
       "      <td>-0.0193</td>\n",
       "      <td>0.0354</td>\n",
       "      <td>-0.1974</td>\n",
       "      <td>...</td>\n",
       "      <td>-0.0767</td>\n",
       "      <td>0.0173</td>\n",
       "      <td>-0.0071</td>\n",
       "      <td>0.0218</td>\n",
       "      <td>-0.0046</td>\n",
       "      <td>-0.0074</td>\n",
       "      <td>1.0000</td>\n",
       "      <td>0.0497</td>\n",
       "      <td>0.1406</td>\n",
       "      <td>-0.0275</td>\n",
       "    </tr>\n",
       "    <tr>\n",
       "      <td>TotalPorchAreasSF</td>\n",
       "      <td>0.2766</td>\n",
       "      <td>0.0743</td>\n",
       "      <td>0.1684</td>\n",
       "      <td>0.2466</td>\n",
       "      <td>0.0110</td>\n",
       "      <td>0.1605</td>\n",
       "      <td>0.0511</td>\n",
       "      <td>0.0758</td>\n",
       "      <td>0.0611</td>\n",
       "      <td>0.2251</td>\n",
       "      <td>...</td>\n",
       "      <td>-0.0129</td>\n",
       "      <td>0.0207</td>\n",
       "      <td>0.0480</td>\n",
       "      <td>-0.0033</td>\n",
       "      <td>0.0809</td>\n",
       "      <td>0.0706</td>\n",
       "      <td>0.0497</td>\n",
       "      <td>1.0000</td>\n",
       "      <td>-0.1834</td>\n",
       "      <td>-0.0034</td>\n",
       "    </tr>\n",
       "    <tr>\n",
       "      <td>TotalBath</td>\n",
       "      <td>-0.4236</td>\n",
       "      <td>-0.2997</td>\n",
       "      <td>-0.1732</td>\n",
       "      <td>-0.1539</td>\n",
       "      <td>0.0471</td>\n",
       "      <td>-0.1414</td>\n",
       "      <td>-0.0967</td>\n",
       "      <td>-0.0423</td>\n",
       "      <td>0.0063</td>\n",
       "      <td>-0.3914</td>\n",
       "      <td>...</td>\n",
       "      <td>-0.1003</td>\n",
       "      <td>0.0439</td>\n",
       "      <td>-0.0043</td>\n",
       "      <td>-0.0249</td>\n",
       "      <td>-0.1513</td>\n",
       "      <td>-0.1588</td>\n",
       "      <td>0.1406</td>\n",
       "      <td>-0.1834</td>\n",
       "      <td>1.0000</td>\n",
       "      <td>0.0344</td>\n",
       "    </tr>\n",
       "    <tr>\n",
       "      <td>OtherRoomsAbvGrd</td>\n",
       "      <td>-0.0814</td>\n",
       "      <td>-0.0050</td>\n",
       "      <td>-0.0897</td>\n",
       "      <td>-0.0700</td>\n",
       "      <td>-0.0953</td>\n",
       "      <td>-0.0228</td>\n",
       "      <td>0.0034</td>\n",
       "      <td>-0.0803</td>\n",
       "      <td>0.0508</td>\n",
       "      <td>-0.0088</td>\n",
       "      <td>...</td>\n",
       "      <td>0.0584</td>\n",
       "      <td>0.0104</td>\n",
       "      <td>-0.0045</td>\n",
       "      <td>0.0219</td>\n",
       "      <td>0.0107</td>\n",
       "      <td>-0.0592</td>\n",
       "      <td>-0.0275</td>\n",
       "      <td>-0.0034</td>\n",
       "      <td>0.0344</td>\n",
       "      <td>1.0000</td>\n",
       "    </tr>\n",
       "  </tbody>\n",
       "</table>\n",
       "<p>66 rows × 66 columns</p>\n",
       "</div>"
      ],
      "text/plain": [
       "                   MSSubClass  MSZoning  LotFrontage  LotArea   Alley  \\\n",
       "MSSubClass             1.0000    0.3550       0.3052   0.2592  0.1158   \n",
       "MSZoning               0.3550    1.0000       0.3037   0.2677 -0.1460   \n",
       "LotFrontage            0.3052    0.3037       1.0000   0.6094  0.1928   \n",
       "LotArea                0.2592    0.2677       0.6094   1.0000  0.1618   \n",
       "Alley                  0.1158   -0.1460       0.1928   0.1618  1.0000   \n",
       "...                       ...       ...          ...      ...     ...   \n",
       "SaleCondition          0.2062    0.1733       0.0973   0.0813 -0.0116   \n",
       "Remodeled             -0.2386   -0.2097      -0.1107  -0.0151 -0.0536   \n",
       "TotalPorchAreasSF      0.2766    0.0743       0.1684   0.2466  0.0110   \n",
       "TotalBath             -0.4236   -0.2997      -0.1732  -0.1539  0.0471   \n",
       "OtherRoomsAbvGrd      -0.0814   -0.0050      -0.0897  -0.0700 -0.0953   \n",
       "\n",
       "                   LotShape  LandContour  LotConfig  LandSlope  Neighborhood  \\\n",
       "MSSubClass           0.2721       0.1152     0.0800    -0.0175        0.5348   \n",
       "MSZoning             0.1873       0.0654     0.0594    -0.0089        0.5710   \n",
       "LotFrontage          0.1614       0.0763     0.1274     0.0578        0.3314   \n",
       "LotArea              0.3414       0.1375     0.2192     0.1169        0.3043   \n",
       "Alley                0.0477       0.0597     0.0470     0.0038       -0.0254   \n",
       "...                     ...          ...        ...        ...           ...   \n",
       "SaleCondition        0.0591       0.0771    -0.0430    -0.0589        0.2850   \n",
       "Remodeled           -0.0724      -0.0543    -0.0193     0.0354       -0.1974   \n",
       "TotalPorchAreasSF    0.1605       0.0511     0.0758     0.0611        0.2251   \n",
       "TotalBath           -0.1414      -0.0967    -0.0423     0.0063       -0.3914   \n",
       "OtherRoomsAbvGrd    -0.0228       0.0034    -0.0803     0.0508       -0.0088   \n",
       "\n",
       "                   ...   Fence  MiscVal  MoSold  YrSold  SaleType  \\\n",
       "MSSubClass         ...  0.0995  -0.0496  0.0385 -0.0137    0.1840   \n",
       "MSZoning           ...  0.0584  -0.0232 -0.0028  0.0144    0.1828   \n",
       "LotFrontage        ... -0.0476   0.0292  0.0163  0.0021    0.0857   \n",
       "LotArea            ...  0.0363   0.0593  0.0064 -0.0275    0.0696   \n",
       "Alley              ... -0.0409   0.0327  0.0214  0.0002   -0.0466   \n",
       "...                ...     ...      ...     ...     ...       ...   \n",
       "SaleCondition      ...  0.1542  -0.0213  0.0584 -0.0505    0.6730   \n",
       "Remodeled          ... -0.0767   0.0173 -0.0071  0.0218   -0.0046   \n",
       "TotalPorchAreasSF  ... -0.0129   0.0207  0.0480 -0.0033    0.0809   \n",
       "TotalBath          ... -0.1003   0.0439 -0.0043 -0.0249   -0.1513   \n",
       "OtherRoomsAbvGrd   ...  0.0584   0.0104 -0.0045  0.0219    0.0107   \n",
       "\n",
       "                   SaleCondition  Remodeled  TotalPorchAreasSF  TotalBath  \\\n",
       "MSSubClass                0.2062    -0.2386             0.2766    -0.4236   \n",
       "MSZoning                  0.1733    -0.2097             0.0743    -0.2997   \n",
       "LotFrontage               0.0973    -0.1107             0.1684    -0.1732   \n",
       "LotArea                   0.0813    -0.0151             0.2466    -0.1539   \n",
       "Alley                    -0.0116    -0.0536             0.0110     0.0471   \n",
       "...                          ...        ...                ...        ...   \n",
       "SaleCondition             1.0000    -0.0074             0.0706    -0.1588   \n",
       "Remodeled                -0.0074     1.0000             0.0497     0.1406   \n",
       "TotalPorchAreasSF         0.0706     0.0497             1.0000    -0.1834   \n",
       "TotalBath                -0.1588     0.1406            -0.1834     1.0000   \n",
       "OtherRoomsAbvGrd         -0.0592    -0.0275            -0.0034     0.0344   \n",
       "\n",
       "                   OtherRoomsAbvGrd  \n",
       "MSSubClass                  -0.0814  \n",
       "MSZoning                    -0.0050  \n",
       "LotFrontage                 -0.0897  \n",
       "LotArea                     -0.0700  \n",
       "Alley                       -0.0953  \n",
       "...                             ...  \n",
       "SaleCondition               -0.0592  \n",
       "Remodeled                   -0.0275  \n",
       "TotalPorchAreasSF           -0.0034  \n",
       "TotalBath                    0.0344  \n",
       "OtherRoomsAbvGrd             1.0000  \n",
       "\n",
       "[66 rows x 66 columns]"
      ]
     },
     "execution_count": 138,
     "metadata": {},
     "output_type": "execute_result"
    }
   ],
   "source": [
    "feature_corr_matrix(X_train)"
   ]
  },
  {
   "cell_type": "code",
   "execution_count": 139,
   "metadata": {},
   "outputs": [
    {
     "name": "stdout",
     "output_type": "stream",
     "text": [
      "GrLivArea              0.970151\n",
      "2ndFlrSF                0.96301\n",
      "MSSubClass             0.952888\n",
      "YearBuilt                0.9407\n",
      "1stFlrSF               0.916248\n",
      "HouseStyle             0.881021\n",
      "GarageCars             0.879506\n",
      "SaleType               0.877847\n",
      "Exterior2nd            0.873116\n",
      "Exterior1st            0.872301\n",
      "BldgType               0.867575\n",
      "MasVnrType             0.852678\n",
      "GarageYrBlt            0.833631\n",
      "GarageArea             0.825331\n",
      "Fireplaces             0.822689\n",
      "TotalBsmtSF            0.812166\n",
      "SaleCondition          0.797618\n",
      "GarageQual              0.78315\n",
      "Neighborhood           0.782615\n",
      "MSZoning               0.756736\n",
      "YearRemodAdd             0.7205\n",
      "FireplaceQu            0.708624\n",
      "Foundation             0.655263\n",
      "KitchenAbvGr           0.629247\n",
      "Remodeled              0.627443\n",
      "GarageCond             0.622518\n",
      "MasVnrArea             0.621664\n",
      "GarageType             0.610026\n",
      "GarageFinish           0.568459\n",
      "LotArea                0.513377\n",
      "Alley                  0.495184\n",
      "ExterQual              0.479491\n",
      "OverallQual            0.479033\n",
      "LotFrontage            0.448854\n",
      "BsmtQual               0.445077\n",
      "HeatingQC              0.440918\n",
      "CentralAir             0.424389\n",
      "TotalBath              0.402452\n",
      "BedroomAbvGr           0.388267\n",
      "LandSlope              0.370412\n",
      "BsmtExposure           0.361574\n",
      "KitchenQual            0.353175\n",
      "BsmtFinType1           0.338127\n",
      "LotShape               0.323048\n",
      "OverallCond            0.319514\n",
      "Heating                0.241682\n",
      "PavedDrive             0.230834\n",
      "LowQualFinSF           0.228941\n",
      "OtherRoomsAbvGrd       0.221316\n",
      "LotConfig              0.182175\n",
      "Electrical             0.179766\n",
      "TotalPorchAreasSF      0.168228\n",
      "RoofStyle              0.145778\n",
      "BsmtCond               0.143423\n",
      "BsmtFinType2           0.113348\n",
      "LandContour            0.100014\n",
      "Fence                 0.0917206\n",
      "ExterCond             0.0402898\n",
      "YrSold                0.0400322\n",
      "Condition1            0.0376389\n",
      "MoSold              -0.00465802\n",
      "Functional            -0.030789\n",
      "Condition2            -0.220002\n",
      "PoolArea              -0.270559\n",
      "RoofMatl              -0.365262\n",
      "MiscVal               -0.588154\n",
      "Name: Dependence, dtype: object\n"
     ]
    }
   ],
   "source": [
    "feat_dep = feature_dependence_matrix(X_train, sort_by_dependence=True)\n",
    "print_full(feat_dep['Dependence'].sort_values(ascending=False))"
   ]
  },
  {
   "cell_type": "markdown",
   "metadata": {},
   "source": [
    "## Submission"
   ]
  },
  {
   "cell_type": "code",
   "execution_count": 140,
   "metadata": {},
   "outputs": [],
   "source": [
    "submission = pd.DataFrame({'Id': X_test['Id'], \n",
    "                           'SalePrice': y_predict})\n",
    "# \n",
    "submission.to_csv('submission_rf_3.csv', index=False)"
   ]
  },
  {
   "cell_type": "markdown",
   "metadata": {},
   "source": [
    "## Data visualization"
   ]
  },
  {
   "cell_type": "markdown",
   "metadata": {},
   "source": [
    "### Feature importance"
   ]
  },
  {
   "cell_type": "code",
   "execution_count": null,
   "metadata": {},
   "outputs": [],
   "source": []
  }
 ],
 "metadata": {
  "kernelspec": {
   "display_name": "Python 3",
   "language": "python",
   "name": "python3"
  },
  "language_info": {
   "codemirror_mode": {
    "name": "ipython",
    "version": 3
   },
   "file_extension": ".py",
   "mimetype": "text/x-python",
   "name": "python",
   "nbconvert_exporter": "python",
   "pygments_lexer": "ipython3",
   "version": "3.7.4"
  }
 },
 "nbformat": 4,
 "nbformat_minor": 2
}
